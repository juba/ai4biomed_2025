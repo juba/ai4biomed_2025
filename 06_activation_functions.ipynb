{
 "cells": [
  {
   "cell_type": "markdown",
   "id": "fecae342-fed2-4218-be01-68819ec66364",
   "metadata": {},
   "source": [
    "# Non linearity and activation functions"
   ]
  },
  {
   "cell_type": "code",
   "execution_count": null,
   "id": "cell-2",
   "metadata": {},
   "outputs": [],
   "source": [
    "import matplotlib.pyplot as plt\n",
    "import numpy as np\n",
    "import torch\n",
    "from torch import nn\n",
    "\n",
    "from adl import activations"
   ]
  },
  {
   "cell_type": "markdown",
   "id": "c9e3a374-26fa-4eda-9624-c6bc820c7673",
   "metadata": {},
   "source": [
    "In the previous notebooks, we used examples where we wanted to model a\n",
    "linear relationship between several variables. But of course, in most\n",
    "cases the relationship will not specially be linear.\n",
    "\n",
    "Suppose we still want to model a relation between a single vector `x`\n",
    "and a target `y`, but now the relationship is sinusoidal."
   ]
  },
  {
   "cell_type": "code",
   "execution_count": null,
   "id": "cell-4",
   "metadata": {},
   "outputs": [],
   "source": [
    "x = torch.tensor(np.linspace(-np.pi, np.pi, 100).reshape(-1, 1)).float()\n",
    "y = x.sin()\n",
    "\n",
    "plt.plot(x, y, \".\")\n",
    "plt.show()"
   ]
  },
  {
   "cell_type": "markdown",
   "id": "7ebef5f6-a9e6-4e99-8f0f-6b1435bea0db",
   "metadata": {},
   "source": [
    "We first try with a simple linear layer of size 1, which is equivalent\n",
    "to doing a linear regression between `x` and `y`.\n",
    "\n",
    "We first define and instantiate a model class with a single `nn.Linear`\n",
    "layer with `in_features` and `out_features` of 1."
   ]
  },
  {
   "cell_type": "code",
   "execution_count": null,
   "id": "cell-6",
   "metadata": {},
   "outputs": [],
   "source": [
    "class SingleLinearModel(nn.Module):\n",
    "    def __init__(self):\n",
    "        super().__init__()\n",
    "        self.model = nn.Linear(1, 1)\n",
    "\n",
    "    def forward(self, x):\n",
    "        return self.model(x)\n",
    "\n",
    "\n",
    "linear_model = SingleLinearModel()\n"
   ]
  },
  {
   "cell_type": "markdown",
   "id": "f69a4273-3223-4976-a051-2cfcb7965b8c",
   "metadata": {},
   "source": [
    "We then use predefined functions to train the model and plot the target\n",
    "values and the trained model predictions."
   ]
  },
  {
   "cell_type": "code",
   "execution_count": null,
   "id": "cell-8",
   "metadata": {},
   "outputs": [],
   "source": [
    "trained_model = activations.train(linear_model, x, y)\n",
    "activations.plot(x, y, trained_model)"
   ]
  },
  {
   "cell_type": "markdown",
   "id": "d857fa40-47ba-4ee6-bc36-df7da0eb5407",
   "metadata": {},
   "source": [
    "We can see that the result is a straight line which is not a good\n",
    "representation of our data.\n",
    "\n",
    "Maybe we could try to improve the model by adding another linear layer\n",
    "with an hidden dimension of size 5? This way it could be able to capture\n",
    "more nuanced relationships?\n",
    "\n",
    "To do this we will modify the `model` attribute of our model class and\n",
    "use `nn.Sequential`, which allows to define a series of layers which\n",
    "will be applied sequentially to our input data."
   ]
  },
  {
   "cell_type": "code",
   "execution_count": null,
   "id": "cell-11",
   "metadata": {},
   "outputs": [],
   "source": [
    "class LinearModel(nn.Module):\n",
    "    def __init__(self):\n",
    "        super().__init__()\n",
    "        self.model = nn.Sequential(\n",
    "            nn.Linear(1, 5),\n",
    "            nn.Linear(5, 1),\n",
    "        )\n",
    "\n",
    "    def forward(self, x):\n",
    "        return self.model(x)\n",
    "\n",
    "\n",
    "linear_model = LinearModel()\n",
    "\n",
    "\n",
    "trained_model = activations.train(linear_model, x, y)\n",
    "activations.plot(x, y, trained_model)\n"
   ]
  },
  {
   "cell_type": "markdown",
   "id": "ec61d63c-be95-4c15-b915-f54ed1f8acd4",
   "metadata": {},
   "source": [
    "We can see that the result is exactly the same: that’s because a\n",
    "combination of linear transformations, at the end, is still a linear\n",
    "transformation.\n",
    "\n",
    "## Activation functions\n",
    "\n",
    "To be able to capture non-linear relationships, deep neural networks use\n",
    "*activation functions*, *ie* functions that will introduce non-linearity\n",
    "between layers.\n",
    "\n",
    "There are many available functions, below is a plot of three of them:\n",
    "ReLU, Sigmoid and Tanh."
   ]
  },
  {
   "cell_type": "code",
   "execution_count": null,
   "id": "cell-14",
   "metadata": {},
   "outputs": [],
   "source": [
    "activation_fns = {\"ReLU\": nn.ReLU(), \"Sigmoid\": nn.Sigmoid(), \"Tanh\": nn.Tanh()}\n",
    "activations.plot_activation_fns(activation_fns)"
   ]
  },
  {
   "cell_type": "markdown",
   "id": "cbef7958-cf7a-4a58-bef9-f0e0ee20b14b",
   "metadata": {},
   "source": [
    "-   The ReLU function will keep all positive values as is, and transform\n",
    "    all negative values to 0.\n",
    "-   The Sigmoid function will map values between 0 and 1\n",
    "-   The Tanh function will map values between -1 and 1\n",
    "\n",
    "In general, activation functions are just transformative functions that\n",
    "transform their inputs. They don’t “learn” anything during the training\n",
    "process and don’t add any parameter to the model (there are some\n",
    "exceptions like `PReLU`).\n",
    "\n",
    "If we want to add an activation layer to our model, we just have to\n",
    "insert it where we want, for example between our two linear layers.\n",
    "\n",
    "Here is the result if we insert an `nn.ReLU()` layer."
   ]
  },
  {
   "cell_type": "code",
   "execution_count": null,
   "id": "cell-16",
   "metadata": {},
   "outputs": [],
   "source": [
    "class ReluModel(nn.Module):\n",
    "    def __init__(self):\n",
    "        super().__init__()\n",
    "        self.model = nn.Sequential(\n",
    "            nn.Linear(1, 5),\n",
    "            nn.ReLU(),\n",
    "            nn.Linear(5, 1),\n",
    "        )\n",
    "\n",
    "    def forward(self, x):\n",
    "        return self.model(x)\n",
    "\n",
    "\n",
    "relu_model = ReluModel()\n",
    "\n",
    "trained_model = activations.train(relu_model, x, y)\n",
    "activations.plot(x, y, trained_model)\n"
   ]
  },
  {
   "cell_type": "markdown",
   "id": "e138f849-15fa-4be4-8759-2ad6df5e90bd",
   "metadata": {},
   "source": [
    "We can see that `ReLU` allows to break the linearity by creating some\n",
    "sort of “steps” or “segments” that allow to much better fit our data.\n",
    "\n",
    "We can replace `nn.ReLU` with `nn.Sigmoid()` to use a Sigmoid activation\n",
    "layer instead."
   ]
  },
  {
   "cell_type": "code",
   "execution_count": null,
   "id": "cell-18",
   "metadata": {},
   "outputs": [],
   "source": [
    "class SigmoidModel(nn.Module):\n",
    "    def __init__(self):\n",
    "        super().__init__()\n",
    "        self.model = nn.Sequential(\n",
    "            nn.Linear(1, 5),\n",
    "            nn.Sigmoid(),\n",
    "            nn.Linear(5, 1),\n",
    "        )\n",
    "\n",
    "    def forward(self, x):\n",
    "        return self.model(x)\n",
    "\n",
    "\n",
    "sigmoid_model = SigmoidModel()\n",
    "\n",
    "trained_model = activations.train(sigmoid_model, x, y)\n",
    "activations.plot(x, y, trained_model)\n"
   ]
  },
  {
   "cell_type": "markdown",
   "id": "802e5496-ff45-4ba8-8379-fb059e78f91c",
   "metadata": {},
   "source": [
    "Due to the sinusoidal nature of our dataset, the Sigmoid function allows\n",
    "to quite smoothly fit our data relationship.\n",
    "\n",
    "## Exercise\n",
    "\n",
    "We want to use a neural network to model the non-linear relationship\n",
    "between the `xc` and `yc` variables plotted below."
   ]
  },
  {
   "cell_type": "code",
   "execution_count": null,
   "id": "cell-21",
   "metadata": {},
   "outputs": [],
   "source": [
    "xc = torch.tensor(np.linspace(-2.0, 2.0, 100)).reshape(-1, 1).float()\n",
    "yc = torch.tensor([0.0] * 30 + [1.0] * 30 + [1.5] * 40).reshape(-1, 1)\n",
    "\n",
    "plt.plot(xc, yc, \".\")\n",
    "plt.show()"
   ]
  },
  {
   "cell_type": "markdown",
   "id": "c08eb15e-a30a-4495-8aa2-ff4414bb8a30",
   "metadata": {},
   "source": [
    "Create the following three models, and for each model train it with the\n",
    "`activations.train()` function and plot the results with the\n",
    "`activations.plot()` function:\n",
    "\n",
    "-   A linear model with two linear layers and an hidden dimension of 10\n",
    "-   A model with two linear layers, an hidden dimension of 10, and a\n",
    "    ReLU activation in between\n",
    "-   A model with two linear layers, an hidden dimension of 3, and a Tanh\n",
    "    activation in between"
   ]
  }
 ],
 "metadata": {
  "kernelspec": {
   "display_name": ".venv",
   "language": "python",
   "name": "python3"
  },
  "language_info": {
   "codemirror_mode": {
    "name": "ipython",
    "version": "3"
   },
   "file_extension": ".py",
   "mimetype": "text/x-python",
   "name": "python",
   "nbconvert_exporter": "python",
   "pygments_lexer": "ipython3",
   "version": "3.12.9"
  }
 },
 "nbformat": 4,
 "nbformat_minor": 5
}
