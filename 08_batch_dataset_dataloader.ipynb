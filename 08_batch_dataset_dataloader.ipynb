{
 "cells": [
  {
   "cell_type": "markdown",
   "id": "ccba09f6-1ed2-46ca-ad96-5ac73e37da51",
   "metadata": {},
   "source": [
    "# Batches, datasets and data loaders\n",
    "\n",
    "**Note :** to use this notebook in Google Colab, create a new cell with\n",
    "the following line and run it.\n",
    "\n",
    "``` shell\n",
    "!pip install git+https://gitlab.in2p3.fr/jbarnier/ateliers_deep_learning.git\n",
    "```"
   ]
  },
  {
   "cell_type": "code",
   "execution_count": null,
   "id": "cell-2",
   "metadata": {},
   "outputs": [],
   "source": [
    "import numpy as np\n",
    "import plotnine as pn\n",
    "import torch\n",
    "from torch import nn\n",
    "\n",
    "from adl import cooking, model_1p\n",
    "\n",
    "pn.theme_set(pn.theme_minimal() + pn.theme(plot_background=pn.element_rect(fill=\"white\")))"
   ]
  },
  {
   "cell_type": "markdown",
   "id": "3c68efce-d52c-463c-988d-0d93159ccb62",
   "metadata": {},
   "source": [
    "Until now we only worked on very small toy datasets, but in real life\n",
    "applications of deep learning the data can be huge, either because we\n",
    "have a very large number of data points, and/or because each data point\n",
    "is itself quite big (think sequences, images or videos). In this case it\n",
    "is impossible to apply a training step (forward pass and\n",
    "backpropagation) to the whole dataset, as it will not fit in the\n",
    "computer or GPU memory.\n",
    "\n",
    "In this case the training steps will rather be applied to *mini-batches*\n",
    "of data:\n",
    "\n",
    "-   we will split our datasets into small sets of data points of a given\n",
    "    size. Each chunk is called a *mini-batch*, or a *batch*.\n",
    "-   the train step will be applied sequentially to each batch: the\n",
    "    forward pass, backpropagation and parameters adjustment will be\n",
    "    performed for each batch, one after the other.\n",
    "-   an *epoch* is reached when all the batches have been processed and\n",
    "    the entire training dataset has been seen by the network.\n",
    "\n",
    "To illustrate this process we will reuse the toy example of the\n",
    "*overfitting* notebook where people are asked to rate a cake recipe when\n",
    "the cooking time varies between 5 and 120 minutes. But this time we will\n",
    "generate a much bigger dataset of 500 000 data points."
   ]
  },
  {
   "cell_type": "code",
   "execution_count": null,
   "id": "cell-4",
   "metadata": {},
   "outputs": [],
   "source": [
    "np.random.seed(1337)\n",
    "time, score = cooking.generate_data(size=500_000, noise_scale=0.9)\n",
    "\n",
    "cooking.scatter_plot(time, score, size=1, alpha=0.01)"
   ]
  },
  {
   "cell_type": "markdown",
   "id": "8defcedc-58bc-4e27-9763-899c3a838b40",
   "metadata": {},
   "source": [
    "We will define our network and our train step in the same way as before."
   ]
  },
  {
   "cell_type": "code",
   "execution_count": null,
   "id": "cell-6",
   "metadata": {},
   "outputs": [],
   "source": [
    "class RegressionNetwork(nn.Module):\n",
    "    def __init__(self):\n",
    "        super().__init__()\n",
    "        self.model = nn.Sequential(\n",
    "            nn.Linear(in_features=1, out_features=100),\n",
    "            nn.Sigmoid(),\n",
    "            nn.Linear(in_features=100, out_features=100),\n",
    "            nn.Sigmoid(),\n",
    "            nn.Linear(in_features=100, out_features=1),\n",
    "        )\n",
    "\n",
    "    def forward(self, x):\n",
    "        # Center data\n",
    "        x = x - 115 / 2\n",
    "        return self.model(x)\n",
    "\n",
    "\n",
    "model = RegressionNetwork()\n",
    "\n",
    "\n",
    "# Model training step\n",
    "def train_step(x, y, model, loss_fn, optimizer):\n",
    "    # Set the model to training mode\n",
    "    model.train()\n",
    "    # Reset gradients\n",
    "    optimizer.zero_grad()\n",
    "    # Forward pass: compute predicted values\n",
    "    y_pred = model(x)\n",
    "    # Compute loss\n",
    "    loss = loss_fn(y_pred, y)\n",
    "    # Backpropagations\n",
    "    loss.backward()\n",
    "    # Parameters adjustment\n",
    "    optimizer.step()\n",
    "    return loss\n",
    "\n",
    "\n",
    "# Loss function\n",
    "loss_fn = nn.MSELoss()\n",
    "# Optimizer\n",
    "optimizer = torch.optim.AdamW(model.parameters(), lr=0.005)  # type: ignore"
   ]
  },
  {
   "cell_type": "markdown",
   "id": "66ae5068-b953-4694-8df7-11a73ad75909",
   "metadata": {},
   "source": [
    "The difference with the previous notebook is the way we will run our\n",
    "training steps.\n",
    "\n",
    "Previously, we applied it to the whole dataset at once at each epoch.\n",
    "This time we will introduce a second loop which will iterate through\n",
    "batches of data points of a given size. The train step (loss computation\n",
    "and parameters adjustment) is applied to each batch after another. At\n",
    "the end of each epoch we compute the average batch loss as the global\n",
    "epoch loss."
   ]
  },
  {
   "cell_type": "code",
   "execution_count": null,
   "id": "cell-8",
   "metadata": {},
   "outputs": [],
   "source": [
    "# Run training\n",
    "\n",
    "epochs = 10\n",
    "# Batch size in number of data points\n",
    "batch_size = 10_000\n",
    "# Number of batches\n",
    "n_batches = len(time) // batch_size\n",
    "for epoch in range(epochs):\n",
    "    loss = 0\n",
    "    for batch in range(n_batches):\n",
    "        # For each batch, extract the corresponding x and y data\n",
    "        x_batch = time[batch * batch_size : (batch + 1) * batch_size - 1]\n",
    "        y_batch = score[batch * batch_size : (batch + 1) * batch_size - 1]\n",
    "        # Compute loss on this batch\n",
    "        batch_loss = train_step(x_batch, y_batch, model, loss_fn, optimizer)\n",
    "        # Accumulate loss between batches\n",
    "        loss += batch_loss.item()\n",
    "    # Compute average loss for this epoch\n",
    "    loss /= n_batches\n",
    "    print(f\"Epoch {epoch + 1:2} - loss: {loss:5.3f}\")"
   ]
  },
  {
   "cell_type": "markdown",
   "id": "587a3ac4-db71-4595-b8b3-e28eeb01d210",
   "metadata": {},
   "source": [
    "## Datasets and DataLoaders\n",
    "\n",
    "In the previous example we performed the batches extraction manually,\n",
    "but we were in the simpler use case: the number of data points is a\n",
    "multiple of batch size, the entire data can be loaded in memory, and we\n",
    "didn’t take into account any validation dataset.\n",
    "\n",
    "In practice managing batches manually can be a bit complex and\n",
    "cumbersome, so pytorch provides two tools to make this a bit easier:\n",
    "`Datasets` and `DataLoaders`.\n",
    "\n",
    "-   A `Dataset` object describes a data source, its size and the way to\n",
    "    get an item from it. It allows to access data from a Python object,\n",
    "    a file, or any other resource accessible via Python code.\n",
    "-   A `Dataloader` allows to load data from a `Dataset` while handling\n",
    "    features like batch loading and shuffling.\n",
    "\n",
    "### Datasets\n",
    "\n",
    "To illustrate their use, we first generate sample training and\n",
    "validation data:"
   ]
  },
  {
   "cell_type": "code",
   "execution_count": null,
   "id": "cell-10",
   "metadata": {},
   "outputs": [],
   "source": [
    "time_train, score_train = cooking.generate_data(size=500_000, noise_scale=0.9)\n",
    "time_valid, score_valid = cooking.generate_data(size=18_000, noise_scale=0.9)\n"
   ]
  },
  {
   "cell_type": "markdown",
   "id": "a654bbe9-7dc9-473a-a1d2-e0b4348e688f",
   "metadata": {},
   "source": [
    "The next step is to define a `Dataset` class for our data. This is a\n",
    "Python class which inherits from\n",
    "[torch.utils.data.Dataset](https://pytorch.org/docs/stable/data.html#torch.utils.data.Dataset),\n",
    "and must implement three methods:\n",
    "\n",
    "-   `__init__()`, the class constructor\n",
    "-   `__len__()`, which must return the length of our dataset (the number\n",
    "    of data points)\n",
    "-   `__getitem__()`, which, given an integer index as argument, must\n",
    "    return a couple of `(data, label)` corresponding to this index.\n",
    "\n",
    "Here we will create a class called `RegressionDataset`:\n",
    "\n",
    "-   the constructor takes two `time` and `score` tensors as arguments\n",
    "    and store them as attributes. - the `__len__()` method returns the\n",
    "    length of these tensors.\n",
    "-   the `__getitem__()` method returns a tuple of the time and score\n",
    "    values at the given index."
   ]
  },
  {
   "cell_type": "code",
   "execution_count": null,
   "id": "cell-12",
   "metadata": {},
   "outputs": [],
   "source": [
    "from torch.utils.data import Dataset\n",
    "\n",
    "\n",
    "class RegressionDataset(Dataset):\n",
    "    def __init__(self, time, score):\n",
    "        # Check if both tensors have the same length\n",
    "        if len(time) != len(score):\n",
    "            msg = \"time and score don't have the same length\"\n",
    "            raise ValueError(msg)\n",
    "        # Store time and score as attributes\n",
    "        self.time = time\n",
    "        self.score = score\n",
    "\n",
    "    def __len__(self):\n",
    "        # Returns the number of data points\n",
    "        return len(self.score)\n",
    "\n",
    "    def __getitem__(self, index):\n",
    "        # Returns the time and score values for the given index\n",
    "        time_index = self.time[index]\n",
    "        score_index = self.score[index]\n",
    "        return time_index, score_index"
   ]
  },
  {
   "cell_type": "markdown",
   "id": "6a91bc3e-1712-410e-bbc4-1f6edeae9039",
   "metadata": {},
   "source": [
    "Our `Dataset` is quite simple here as it just stores and retrieve values\n",
    "from tensors, but it could be more complex. For example the constructor\n",
    "could get a list of filenames containing images and their corresponding\n",
    "labels, and the `__getitem__` method would then open and read the files\n",
    "and preprocess the image data.\n",
    "\n",
    "Now that our `RegressionDataset` class is defined, we can create two\n",
    "training and validation dataset objects as `RegressionDataset`\n",
    "instances."
   ]
  },
  {
   "cell_type": "code",
   "execution_count": null,
   "id": "cell-14",
   "metadata": {},
   "outputs": [],
   "source": [
    "train_dataset = RegressionDataset(time_train, score_train)\n",
    "valid_dataset = RegressionDataset(time_valid, score_valid)"
   ]
  },
  {
   "cell_type": "markdown",
   "id": "17d9e7d2-34d9-41e8-885c-fd7bc816da85",
   "metadata": {},
   "source": [
    "### Dataloaders\n",
    "\n",
    "Once our `Datasets` are defined, we can create associated `Dataloaders`,\n",
    "which will handle the batches extraction and traversal. For this, we\n",
    "will create\n",
    "[torch.utils.data.DataLoader](https://pytorch.org/docs/stable/data.html#torch.utils.data.DataLoader)\n",
    "instances by giving it (among other possible arguments):\n",
    "\n",
    "-   a `Dataset` object\n",
    "-   the batch size\n",
    "-   a `shuffle` argument: if `True`, the data points will be reshuffled\n",
    "    randomly before each epoch. This means that batches will be\n",
    "    different from one epoch to another.\n",
    "\n",
    "We create two training and validation loaders with a batch size of 100\n",
    "000. The training loader is shuffled, to have different batches at each\n",
    "epoch. This is not useful for the validation loader."
   ]
  },
  {
   "cell_type": "code",
   "execution_count": null,
   "id": "cell-16",
   "metadata": {},
   "outputs": [],
   "source": [
    "from torch.utils.data import DataLoader\n",
    "\n",
    "batch_size = 10_000\n",
    "\n",
    "train_loader = DataLoader(train_dataset, batch_size=batch_size, shuffle=True)\n",
    "valid_loader = DataLoader(valid_dataset, batch_size=batch_size, shuffle=False)"
   ]
  },
  {
   "cell_type": "markdown",
   "id": "858e80f7-6332-44cd-b375-1da4e5580ae1",
   "metadata": {},
   "source": [
    "Once created, we can iterate over a `Dataloader`. Each iteration will\n",
    "return a batch of `(time, score)` data.\n",
    "\n",
    "For example, we can iterate over our validation loader. This yields two\n",
    "batches, the first with the wanted size of 10 000, and the second one\n",
    "with a size of 8 000 (as there are only 18 000 points in our validation\n",
    "dataset)."
   ]
  },
  {
   "cell_type": "code",
   "execution_count": null,
   "id": "cell-18",
   "metadata": {},
   "outputs": [],
   "source": [
    "for batch in valid_loader:\n",
    "    time, score = batch\n",
    "    print(time.shape, score.shape)"
   ]
  },
  {
   "cell_type": "markdown",
   "id": "a0751537-065c-4e65-b33d-a7d2ab49801d",
   "metadata": {},
   "source": [
    "If we iterate again, we will start a new epoch and get the same batches\n",
    "again."
   ]
  },
  {
   "cell_type": "code",
   "execution_count": null,
   "id": "cell-20",
   "metadata": {},
   "outputs": [],
   "source": [
    "for batch in valid_loader:\n",
    "    time, score = batch\n",
    "    print(time.shape, score.shape)"
   ]
  },
  {
   "cell_type": "markdown",
   "id": "df0e6197-14f2-4a2d-b2ac-bb393b88f908",
   "metadata": {},
   "source": [
    "Now we can rewrite our training code by using our data loaders. Inside\n",
    "each epoch, we will first iterate through our `train_loader` object and\n",
    "run a training step on the yielded batch. Then, once all training\n",
    "batches have been processed, we will iterate through our `valid_loader`,\n",
    "this time to compute the validation loss for this epoch."
   ]
  },
  {
   "cell_type": "code",
   "execution_count": null,
   "id": "cell-22",
   "metadata": {},
   "outputs": [],
   "source": [
    "model = RegressionNetwork()\n",
    "\n",
    "loss_fn = nn.MSELoss()\n",
    "optimizer = torch.optim.AdamW(model.parameters(), lr=0.005)  # type: ignore\n",
    "\n",
    "epochs = 5\n",
    "for epoch in range(epochs):\n",
    "    loss = 0\n",
    "\n",
    "    # Iterate through training batches\n",
    "    for x_batch, y_batch in train_loader:\n",
    "        # Set model in train mode\n",
    "        model.train()\n",
    "        # Run a training step and accumulate loss value\n",
    "        batch_loss = train_step(x_batch, y_batch, model, loss_fn, optimizer)\n",
    "        loss += batch_loss.item()\n",
    "\n",
    "    # Compute average training loss for this epoch\n",
    "    loss /= len(train_loader)\n",
    "\n",
    "    # Iterate through validation batches\n",
    "    valid_loss = 0\n",
    "    for x_valid_batch, y_valid_batch in valid_loader:\n",
    "        # Set model in evaluation (inference) mode\n",
    "        model.eval()\n",
    "        # Compute and accumulate the batch loss\n",
    "        y_valid_pred = model(x_valid_batch)\n",
    "        valid_batch_loss = loss_fn(y_valid_pred, y_valid_batch)\n",
    "        valid_loss += valid_batch_loss\n",
    "\n",
    "    # Compute the average validation loss for this epoch\n",
    "    valid_loss /= len(valid_loader)\n",
    "\n",
    "    print(f\"{epoch + 1:5}. loss: {loss:5.3f}, valid_loss: {valid_loss:5.3f}\")"
   ]
  },
  {
   "cell_type": "markdown",
   "id": "0d1af4c3-ca95-4a48-a78b-7dd5c085ad47",
   "metadata": {},
   "source": [
    "The training is working well, but if it is much slower than previously,\n",
    "even if we take into account that we now also compute the validation\n",
    "loss. However, the slowdown would be smaller if the cost of the\n",
    "`__getitem__()` operation was higher (if, for example, we were reading a\n",
    "file). And we have some nice bonus features, such as managing\n",
    "automatically the size of the last batch, or the shuffling of training\n",
    "data between each epoch.\n",
    "\n",
    "## Effect of batch size on training process\n",
    "\n",
    "Besides allowing to train a model from bigger datasets, the use of\n",
    "mini-batches also has an effect on the training process itself. This is\n",
    "due to the fact that when using batches, the loss function will be\n",
    "slightly different at each train step (and thus the gradients and the\n",
    "parameters adjustments will also be slightly different).\n",
    "\n",
    "To illustrate this point, we reuse a previous example of linear\n",
    "regression with only one parameter $w$ (the slope of the line). We first\n",
    "generate a random dataset of 500 points of `x` and `y` values where `y`\n",
    "is equal to `x * 2` plus some noise."
   ]
  },
  {
   "cell_type": "code",
   "execution_count": null,
   "id": "cell-25",
   "metadata": {},
   "outputs": [],
   "source": [
    "n_points = 500\n",
    "np.random.seed(1337)\n",
    "# Generate x and y values\n",
    "x = np.random.uniform(low=0, high=10, size=n_points)\n",
    "y = x * 2 + np.random.normal(loc=0, scale=3, size=n_points)\n",
    "\n",
    "# Convert to tensors\n",
    "xt = torch.tensor(x).view(-1, 1)\n",
    "yt = torch.tensor(y).view(-1, 1)\n",
    "\n",
    "# Plot the dataset\n",
    "(\n",
    "    pn.ggplot(mapping=pn.aes(x=x, y=y))\n",
    "    + pn.geom_abline(slope=2, intercept=0, color=\"red\")\n",
    "    + pn.geom_point(color=\"royalblue\", size=2, alpha=0.5)\n",
    "    + pn.coord_cartesian(xlim=(0, 10))\n",
    ")"
   ]
  },
  {
   "cell_type": "markdown",
   "id": "016ff141-43d7-45b2-a709-1b190dd91d8f",
   "metadata": {},
   "source": [
    "We can plot the loss function for our whole dataset, *ie*, the loss\n",
    "value computed on our data for different values of our parameter $w$."
   ]
  },
  {
   "cell_type": "code",
   "execution_count": null,
   "id": "cell-27",
   "metadata": {},
   "outputs": [],
   "source": [
    "model_1p.plot_loss(xt, yt, wmin=-4, wmax=8, gradient=False, ylim=(0, 2000))"
   ]
  },
  {
   "cell_type": "markdown",
   "id": "b8ab62a2-359c-47f8-a57c-7121ddae7580",
   "metadata": {},
   "source": [
    "We can see that if $w = 0$ (*ie* with an horizontal regression line),\n",
    "the loss value on our dataset is about 200. As expected, the minimum\n",
    "value of loss is reached for a value of $w$ approximately equal to 2.\n",
    "\n",
    "But what happens if we compute this loss function not over the whole\n",
    "dataset, but only over a subset of it, for example of 32 data points?\n",
    "\n",
    "We can visualize this by randomly sampling 32 points from our dataset,\n",
    "plotting the associated loss function (in grey on the next plot) and\n",
    "compare it with the loss function of our whole data (the dashed red\n",
    "line)."
   ]
  },
  {
   "cell_type": "code",
   "execution_count": null,
   "id": "cell-29",
   "metadata": {},
   "outputs": [],
   "source": [
    "model_1p.plot_batch_loss(xt, yt, batch_size=32, n_batches=1)"
   ]
  },
  {
   "cell_type": "markdown",
   "id": "b779f799-788b-4c78-8e4a-c819505c96c6",
   "metadata": {},
   "source": [
    "We can see that the loss of our batch is not identical to the “full”\n",
    "loss. It has about the same shape but its values are not the same.\n",
    "\n",
    "We can guess that each batch of 32 points will generate a different loss\n",
    "function. We can visualize this variability by generating many batches\n",
    "and plotting their losses on the same plot."
   ]
  },
  {
   "cell_type": "code",
   "execution_count": null,
   "id": "cell-31",
   "metadata": {},
   "outputs": [],
   "source": [
    "model_1p.plot_batch_loss(xt, yt, batch_size=32, n_batches=50)"
   ]
  },
  {
   "cell_type": "markdown",
   "id": "112794d7-97ec-4d8d-9882-00c92ab3fa4e",
   "metadata": {},
   "source": [
    "What happens if we decrease the batch size?\n",
    "\n",
    "If we create batches of 16 data points, we can see that the variability\n",
    "around the “full” loss is higher."
   ]
  },
  {
   "cell_type": "code",
   "execution_count": null,
   "id": "cell-33",
   "metadata": {},
   "outputs": [],
   "source": [
    "model_1p.plot_batch_loss(xt, yt, batch_size=16, n_batches=50)"
   ]
  },
  {
   "cell_type": "markdown",
   "id": "76f0b6b8-4c4f-4703-a47f-e77e2c46ab36",
   "metadata": {},
   "source": [
    "As an extreme example, with a batch size of 1, the loss function is\n",
    "calculated for only one data point. The variability of the loss is then\n",
    "maximal:"
   ]
  },
  {
   "cell_type": "code",
   "execution_count": null,
   "id": "cell-35",
   "metadata": {},
   "outputs": [],
   "source": [
    "model_1p.plot_batch_loss(xt, yt, batch_size=1, n_batches=30)"
   ]
  },
  {
   "cell_type": "markdown",
   "id": "ae55a928-f30f-462f-be5f-38f72d355b6a",
   "metadata": {},
   "source": [
    "On the contrary, with a larger batch size of 256, the loss functions\n",
    "will more closely approximate the “full” loss:"
   ]
  },
  {
   "cell_type": "code",
   "execution_count": null,
   "id": "cell-37",
   "metadata": {},
   "outputs": [],
   "source": [
    "model_1p.plot_batch_loss(xt, yt, batch_size=256, n_batches=50)"
   ]
  },
  {
   "cell_type": "markdown",
   "id": "aca41845-c607-4114-8a83-7765f7685ff6",
   "metadata": {},
   "source": [
    "Here is another example with a more complex loss function, still with a\n",
    "unique parameter $w$. We can see the same effect of the batch size on\n",
    "the variability of the batch losses."
   ]
  },
  {
   "cell_type": "code",
   "execution_count": null,
   "id": "cell-39",
   "metadata": {},
   "outputs": [],
   "source": [
    "model_1p.plot_sin_loss()"
   ]
  },
  {
   "cell_type": "code",
   "execution_count": null,
   "id": "cell-40",
   "metadata": {},
   "outputs": [],
   "source": [
    "model_1p.plot_sin_batch_loss(batch_size=128, n_batches=20)"
   ]
  },
  {
   "cell_type": "code",
   "execution_count": null,
   "id": "cell-41",
   "metadata": {},
   "outputs": [],
   "source": [
    "model_1p.plot_sin_batch_loss(batch_size=8, n_batches=20)"
   ]
  },
  {
   "cell_type": "markdown",
   "id": "93c63026-9204-4803-8b37-ecce681df5b2",
   "metadata": {},
   "source": [
    "If the batch size has an effect on the batch loss, it also affects the\n",
    "training process. Here is an example of a training process on the same\n",
    "complex loss without using mini-batches: the process here is fully\n",
    "deterministic and leads to a local minimum."
   ]
  },
  {
   "cell_type": "code",
   "execution_count": null,
   "id": "cell-43",
   "metadata": {},
   "outputs": [],
   "source": [
    "train_args = {\n",
    "    \"step_size\": 0.002,\n",
    "    \"epochs\": 10,\n",
    "    \"w_init\": 1.0,\n",
    "}\n",
    "\n",
    "model_1p.plot_sin_train(**train_args, batch_size=None)"
   ]
  },
  {
   "cell_type": "markdown",
   "id": "41db32ed-dde0-4968-bbc0-ea05a811e56a",
   "metadata": {},
   "source": [
    "If we use mini-batches during training, here with a batch size of 128,\n",
    "we can see that the training process is more erratic, and as the batches\n",
    "are shuffled between epochs, less deterministic.\n",
    "\n",
    "In the following plot, each point represents a training step, *ie* the\n",
    "loss computation and $w$ adjustment after each batch."
   ]
  },
  {
   "cell_type": "code",
   "execution_count": null,
   "id": "cell-45",
   "metadata": {},
   "outputs": [],
   "source": [
    "model_1p.plot_sin_train(**train_args, batch_size=128)"
   ]
  },
  {
   "cell_type": "markdown",
   "id": "3b8e406a-26a8-456b-8d13-817dec3b839f",
   "metadata": {},
   "source": [
    "With a smaller batch size, the variability between batch losses\n",
    "increases, and so the training process is even more erratic."
   ]
  },
  {
   "cell_type": "code",
   "execution_count": null,
   "id": "cell-47",
   "metadata": {},
   "outputs": [],
   "source": [
    "model_1p.plot_sin_train(**train_args, batch_size=32)"
   ]
  },
  {
   "cell_type": "markdown",
   "id": "d1f4e0d1-eaae-4143-baeb-da801ae048e7",
   "metadata": {},
   "source": [
    "The fact that the process is more erratic and less deterministic can be\n",
    "seen as an issue, but it can also be an advantage. For example, with an\n",
    "even smaller batch size of 8, most of the training processes manage to\n",
    "“escape” the local minimum and find another, better one."
   ]
  },
  {
   "cell_type": "code",
   "execution_count": null,
   "id": "cell-49",
   "metadata": {},
   "outputs": [],
   "source": [
    "model_1p.plot_sin_train(**train_args, batch_size=8)"
   ]
  },
  {
   "cell_type": "markdown",
   "id": "2f53b838-1209-4d6e-a1af-ece50e7e599a",
   "metadata": {},
   "source": [
    "So, as a summary:\n",
    "\n",
    "-   A **large batch size** demands more memory, as the whole batch must\n",
    "    be loaded into the computer or GPU memory. However, since the batch\n",
    "    losses are closer to the “full” loss, the training process will be\n",
    "    smoother, more deterministic, and faster due to increased\n",
    "    computational efficiency.\n",
    "\n",
    "-   A **small batch size** requires less memory but is less\n",
    "    computationally efficient. The training process will be more erratic\n",
    "    and less deterministic. However, this can also have positive\n",
    "    consequences as it allows for a better exploration of the data\n",
    "    distribution and a greater ability to escape local minima. It will\n",
    "    be slower but in some cases can yield better results and reduce the\n",
    "    risk of overfitting."
   ]
  }
 ],
 "metadata": {
  "kernelspec": {
   "display_name": ".venv",
   "language": "python",
   "name": "python3"
  },
  "language_info": {
   "codemirror_mode": {
    "name": "ipython",
    "version": "3"
   },
   "file_extension": ".py",
   "mimetype": "text/x-python",
   "name": "python",
   "nbconvert_exporter": "python",
   "pygments_lexer": "ipython3",
   "version": "3.12.9"
  }
 },
 "nbformat": 4,
 "nbformat_minor": 5
}
