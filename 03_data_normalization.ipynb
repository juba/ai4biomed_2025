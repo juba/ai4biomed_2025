{
 "cells": [
  {
   "cell_type": "markdown",
   "id": "dc89a54e-3e64-4608-b16d-ea5962a3a3d8",
   "metadata": {},
   "source": [
    "# Data normalization\n",
    "\n",
    "**Note :** to use this notebook in Google Colab, create a new cell with\n",
    "the following line and run it.\n",
    "\n",
    "``` shell\n",
    "!pip install git+https://gitlab.in2p3.fr/jbarnier/ateliers_deep_learning.git\n",
    "```"
   ]
  },
  {
   "cell_type": "code",
   "execution_count": null,
   "id": "cell-2",
   "metadata": {},
   "outputs": [],
   "source": [
    "import numpy as np\n",
    "import plotnine as pn\n",
    "import polars as pl\n",
    "import torch\n",
    "\n",
    "from adl import model_2p\n",
    "from adl.sklearn import skl_regression\n",
    "\n",
    "pl.Config(tbl_rows=30, float_precision=2)\n",
    "pn.theme_set(pn.theme_minimal() + pn.theme(plot_background=pn.element_rect(fill=\"white\")))\n"
   ]
  },
  {
   "cell_type": "markdown",
   "id": "10209253-ad63-4922-b60f-b0ab6c315999",
   "metadata": {},
   "source": [
    "In this notebook we will take a look at a slightly more complicated\n",
    "model with two parameters, and at the effect of data normalization on\n",
    "the training process.\n",
    "\n",
    "## Data\n",
    "\n",
    "We first create a small nonsensical dataset with two numerical\n",
    "variables: the temperature and the quantity of ice cream sold at a shop."
   ]
  },
  {
   "cell_type": "code",
   "execution_count": null,
   "id": "cell-4",
   "metadata": {},
   "outputs": [],
   "source": [
    "temperature = [-1.5, 0.2, 3.4, 4.1, 7.8, 13.4, 18.0, 21.5, 32.0, 33.5]\n",
    "icecream = [100.5, 110.2, 133.5, 141.2, 172.8, 225.1, 251.0, 278.9, 366.7, 369.9]"
   ]
  },
  {
   "cell_type": "markdown",
   "id": "6e93aee9-9ab9-406f-a898-d30befe8a4c3",
   "metadata": {},
   "source": [
    "This time we will try to predict the `icecream` values from the\n",
    "`temperature` values with a simple linear model with both a slope and an\n",
    "intercept: $y = w \\times x + b$. Our model now has two parameters, a\n",
    "**weight** $w$, and a **bias** $b$.\n",
    "\n",
    "## Regression with scikit-learn\n",
    "\n",
    "As a reference, we first compute the “real” optimal slope and intercept\n",
    "values with `scikit-learn`."
   ]
  },
  {
   "cell_type": "code",
   "execution_count": null,
   "id": "cell-7",
   "metadata": {},
   "outputs": [],
   "source": [
    "reg = skl_regression(x=temperature, y=icecream, fit_intercept=True)\n",
    "print(f\"slope: {reg['slope']:.2f}, intercept: {reg['intercept']:.2f}, mse: {reg['mse']:.4f}\")"
   ]
  },
  {
   "cell_type": "code",
   "execution_count": null,
   "id": "cell-8",
   "metadata": {},
   "outputs": [],
   "source": [
    "(\n",
    "    pn.ggplot(mapping=pn.aes(x=temperature, y=icecream))\n",
    "    + pn.geom_hline(yintercept=0, linetype=\"dotted\")\n",
    "    + pn.geom_vline(xintercept=0, linetype=\"dotted\")\n",
    "    + pn.geom_abline(slope=reg[\"slope\"], intercept=reg[\"intercept\"], color=\"orchid\")\n",
    "    + pn.geom_point(color=\"white\", fill=\"yellowgreen\", size=4)\n",
    ")"
   ]
  },
  {
   "cell_type": "markdown",
   "id": "0fad331b-eaab-492d-8ac8-cec5d2a06e8d",
   "metadata": {},
   "source": [
    "## Regression with pytorch\n",
    "\n",
    "By reusing and adapting the code used in the previous notebook for a\n",
    "simple regression without intercept, we can try to reproduce the\n",
    "`scikit-learn` computation using pytorch.\n",
    "\n",
    "After converting our input data (`temperature`) and target values\n",
    "(`icecream`) to tensors, we will initialize our two parameters: the\n",
    "weight $w$ (the slope) and the bias $b$ (the intercept) both with a\n",
    "default value of 0."
   ]
  },
  {
   "cell_type": "code",
   "execution_count": null,
   "id": "cell-10",
   "metadata": {},
   "outputs": [],
   "source": [
    "# Convert x and y data to tensors\n",
    "x = torch.tensor(temperature)\n",
    "y = torch.tensor(icecream)\n",
    "\n",
    "# Slope (weight) and intercept (bias) parameter\n",
    "w = torch.tensor(0.0, requires_grad=True)\n",
    "b = torch.tensor(0.0, requires_grad=True)"
   ]
  },
  {
   "cell_type": "markdown",
   "id": "7581a550-5e07-4cc0-8cc0-faa29f2e9719",
   "metadata": {},
   "source": [
    "Our `forward` function applies our new model, $y = w \\times x + b$. We\n",
    "use the mean squared error as loss function."
   ]
  },
  {
   "cell_type": "code",
   "execution_count": null,
   "id": "cell-12",
   "metadata": {},
   "outputs": [],
   "source": [
    "# Model and prediction function\n",
    "def forward(x):\n",
    "    return w * x + b\n",
    "\n",
    "\n",
    "# Loss function\n",
    "loss_fn = torch.nn.MSELoss()"
   ]
  },
  {
   "cell_type": "markdown",
   "id": "c90c098c-cca5-4db9-b847-99c1295834cc",
   "metadata": {},
   "source": [
    "**Exercise**\n",
    "\n",
    "Write the code to run the training process. This code will be quite\n",
    "similar to the one we used before, except there is now two parameters to\n",
    "adjust at each step instead of one.\n",
    "\n",
    "Run this training process for 20 epochs with a step size of 0.001.\n",
    "\n",
    "For now on we will use a predefined function for our training process to\n",
    "keep track of the different loss, gradient and parameter values at each\n",
    "training step.\n",
    "\n",
    "With a step size of 0.001, we see that the weight of our model (the\n",
    "slope of the regression line) goes up in the first epochs, then starts\n",
    "to go down very slowly. The bias goes up, but also very slowly."
   ]
  },
  {
   "cell_type": "code",
   "execution_count": null,
   "id": "cell-18",
   "metadata": {},
   "outputs": [],
   "source": [
    "train_params = {\"x\": x, \"y\": y, \"w_init\": 0.0, \"b_init\": 0.0}\n",
    "model_2p.train(step_size=0.001, epochs=20, **train_params)"
   ]
  },
  {
   "cell_type": "markdown",
   "id": "95ea85e5-5fc3-4157-a6cb-78e4ba506db5",
   "metadata": {},
   "source": [
    "If we increase the step size a bit to 0.002, the loss goes down a bit\n",
    "faster, but the weight oscillates around the optimal value during the\n",
    "first epochs. The bias still goes up very slowly."
   ]
  },
  {
   "cell_type": "code",
   "execution_count": null,
   "id": "cell-20",
   "metadata": {},
   "outputs": [],
   "source": [
    "model_2p.train(step_size=0.002, epochs=10, **train_params)"
   ]
  },
  {
   "cell_type": "markdown",
   "id": "1aefe12d-34d2-4fba-a0cd-5b7d6d42d5a6",
   "metadata": {},
   "source": [
    "If we increase the step size to 0.003, the loss goes down a bit more\n",
    "slowly and regularly, but the weight value oscillates greatly around its\n",
    "optimum value."
   ]
  },
  {
   "cell_type": "code",
   "execution_count": null,
   "id": "cell-22",
   "metadata": {},
   "outputs": [],
   "source": [
    "model_2p.train(step_size=0.003, epochs=10, **train_params)"
   ]
  },
  {
   "cell_type": "markdown",
   "id": "60cad242-ce13-4685-94af-e0d0daaa2d79",
   "metadata": {},
   "source": [
    "If we increase again the step size to 0.004, the loss doesn’t go down\n",
    "anymore and the training process becomes divergent."
   ]
  },
  {
   "cell_type": "code",
   "execution_count": null,
   "id": "cell-24",
   "metadata": {},
   "outputs": [],
   "source": [
    "model_2p.train(step_size=0.004, epochs=10, **train_params)"
   ]
  },
  {
   "cell_type": "markdown",
   "id": "6ac73ab2-ade8-43c8-be33-4169f0808005",
   "metadata": {},
   "source": [
    "### Graphical representations\n",
    "\n",
    "To try to understand why the training process doesn’t seem to be able to\n",
    "reach the optimum weight and bias values, we can try to represent the\n",
    "loss graphically.\n",
    "\n",
    "In the following plot, the space of values of weight $w$ and bias $b$ is\n",
    "split into a grid. At each grid point, the loss value is plotted as a\n",
    "circle with a varying radius. The gradient value of the loss function at\n",
    "each point is represented as a red arrow: its orientation gives the\n",
    "“direction” the parameters must be modified in order for the loss value\n",
    "to increase as much as possible, and its length is proportional to the\n",
    "intensity of this increase. Thus, if we want for our loss value to\n",
    "decrease, we must follow the opposite direction given by these arrows.\n",
    "\n",
    "The blue dot in the center is the optimal parameters values, *ie* the\n",
    "values of $w$ and $b$ for which the loss is minimal."
   ]
  },
  {
   "cell_type": "code",
   "execution_count": null,
   "id": "cell-26",
   "metadata": {},
   "outputs": [],
   "source": [
    "graphic_params = {\n",
    "    \"x\": x,\n",
    "    \"y\": y,\n",
    "    \"true_weight\": reg[\"slope\"],\n",
    "    \"true_bias\": reg[\"intercept\"],\n",
    "    \"grad_scale\": 6000,\n",
    "}\n",
    "model_2p.plot_loss(**graphic_params)"
   ]
  },
  {
   "cell_type": "markdown",
   "id": "f9177cff-349e-45d8-bb0e-cf50b9144c66",
   "metadata": {},
   "source": [
    "We can see that the gradients are almost all “horizontal”. This is due\n",
    "to the fact that our two parameters do not have the same scale: a\n",
    "variation of 1 of $w$ (the slope) will have a much higher effect on the\n",
    "loss value than a variation of 1 of $b$ (the intercept).\n",
    "\n",
    "We can try to visualise what this means for the training process.\n",
    "\n",
    "In the next plot, we represent a training process of 10 epochs with a\n",
    "step size of 0.001 starting at $w = 2$ and $b = 50$."
   ]
  },
  {
   "cell_type": "code",
   "execution_count": null,
   "id": "cell-28",
   "metadata": {},
   "outputs": [],
   "source": [
    "graphic_params.update({\"w_init\": 2.0, \"b_init\": 50.0})\n",
    "model_2p.plot_train(\n",
    "    step_size=0.001,\n",
    "    epochs=10,\n",
    "    **graphic_params,\n",
    ")"
   ]
  },
  {
   "cell_type": "markdown",
   "id": "9cd2fdae-2016-41d3-b495-9fbaed4bc94b",
   "metadata": {},
   "source": [
    "We see that the gradient descent seems to go only horizontally, slowing\n",
    "down rapidly after the first epochs.\n",
    "\n",
    "If we increase the number of epochs, we see that after a while going\n",
    "horizontally, the gradient descent starts to “turn” into the direction\n",
    "of the optimum value (but still very slowly)."
   ]
  },
  {
   "cell_type": "code",
   "execution_count": null,
   "id": "cell-30",
   "metadata": {},
   "outputs": [],
   "source": [
    "model_2p.plot_train(\n",
    "    step_size=0.001,\n",
    "    epochs=200,\n",
    "    **graphic_params,\n",
    ")"
   ]
  },
  {
   "cell_type": "markdown",
   "id": "835ed8c7-0c5b-4d3a-b73c-d82af315afd7",
   "metadata": {},
   "source": [
    "We have to increase the number of epochs a lot to see the training\n",
    "process getting very close to the optimum value."
   ]
  },
  {
   "cell_type": "code",
   "execution_count": null,
   "id": "cell-32",
   "metadata": {},
   "outputs": [],
   "source": [
    "model_2p.plot_train(\n",
    "    step_size=0.001,\n",
    "    epochs=3000,\n",
    "    **graphic_params,\n",
    ")"
   ]
  },
  {
   "cell_type": "markdown",
   "id": "b97c69d8-4503-4c84-ae9e-cd164064e12d",
   "metadata": {},
   "source": [
    "If we increase the step size to 0.003, we can see that the horizontal\n",
    "gradient descent is more “chaotic”. However the training process gets\n",
    "close to the optimum a bit faster."
   ]
  },
  {
   "cell_type": "code",
   "execution_count": null,
   "id": "cell-34",
   "metadata": {},
   "outputs": [],
   "source": [
    "model_2p.plot_train(\n",
    "    step_size=0.003,\n",
    "    epochs=1000,\n",
    "    **graphic_params,\n",
    ")"
   ]
  },
  {
   "cell_type": "markdown",
   "id": "8c5ec8d3-0ad2-4aef-947a-f681f4fc34c8",
   "metadata": {},
   "source": [
    "Finally if we increase the step size further to 0.004, we see that the\n",
    "training process immediately starts to diverge for the optimum."
   ]
  },
  {
   "cell_type": "code",
   "execution_count": null,
   "id": "cell-36",
   "metadata": {},
   "outputs": [],
   "source": [
    "model_2p.plot_train(\n",
    "    step_size=0.004,\n",
    "    epochs=10,\n",
    "    **graphic_params,\n",
    ")"
   ]
  },
  {
   "cell_type": "markdown",
   "id": "16111ded-18c2-408f-bba9-c68916f6e9ae",
   "metadata": {},
   "source": [
    "## Regression with pytorch on transformed data\n",
    "\n",
    "One way to improve our training process is to transform our original\n",
    "data so that weight and bias will be on a more similar “scale”.\n",
    "\n",
    "### Normalized data\n",
    "\n",
    "First we will try to standardize the temperature values to be between 0\n",
    "and 1 by applying a `minmax_scale`."
   ]
  },
  {
   "cell_type": "code",
   "execution_count": null,
   "id": "cell-38",
   "metadata": {},
   "outputs": [],
   "source": [
    "from sklearn import preprocessing\n",
    "\n",
    "temp_n = preprocessing.minmax_scale(np.array(temperature))\n",
    "x_n = torch.tensor(temp_n, dtype=torch.float)\n"
   ]
  },
  {
   "cell_type": "markdown",
   "id": "c14bf3f0-0824-4528-9b0d-73696bd8742d",
   "metadata": {},
   "source": [
    "We can compute the new optimum weight and bias values with\n",
    "`scikit-learn`."
   ]
  },
  {
   "cell_type": "code",
   "execution_count": null,
   "id": "cell-40",
   "metadata": {},
   "outputs": [],
   "source": [
    "reg_n = skl_regression(temp_n, icecream)\n",
    "print(f\"slope: {reg_n['slope']:.2f}, intercept: {reg_n['intercept']:.2f}\")"
   ]
  },
  {
   "cell_type": "markdown",
   "id": "fcf8d3f5-02ff-4724-8ba1-524d6ee14e3b",
   "metadata": {},
   "source": [
    "If we run our pytorch implementation on this transformed data, we can\n",
    "see that with a large step size, the training process seems to start to\n",
    "converge towards the true values."
   ]
  },
  {
   "cell_type": "code",
   "execution_count": null,
   "id": "cell-42",
   "metadata": {},
   "outputs": [],
   "source": [
    "model_2p.train(x_n, y, step_size=0.4, epochs=20, w_init=0.0, b_init=0.0)"
   ]
  },
  {
   "cell_type": "markdown",
   "id": "efbf9910-4ad7-4078-a299-0060ccc701dc",
   "metadata": {},
   "source": [
    "If we plot the loss at different points, we can see that the values and\n",
    "the gradient orientations are quite different."
   ]
  },
  {
   "cell_type": "code",
   "execution_count": null,
   "id": "cell-44",
   "metadata": {},
   "outputs": [],
   "source": [
    "graphic_params_n = {\n",
    "    \"x\": x_n,\n",
    "    \"y\": y,\n",
    "    \"true_weight\": reg_n[\"slope\"],\n",
    "    \"true_bias\": reg_n[\"intercept\"],\n",
    "    \"grad_scale\": 5,\n",
    "    \"b_factor\": 4,\n",
    "}\n",
    "model_2p.plot_loss(**graphic_params_n)"
   ]
  },
  {
   "cell_type": "markdown",
   "id": "77c46429-818b-4037-b40c-5975cfa79eb6",
   "metadata": {},
   "source": [
    "If we add the visualization of a training process with a step size of\n",
    "0.4, we can see that the process converges much faster towards the\n",
    "optimal value, which is reached in about 50 epochs."
   ]
  },
  {
   "cell_type": "code",
   "execution_count": null,
   "id": "cell-46",
   "metadata": {},
   "outputs": [],
   "source": [
    "graphic_params_n.update({\"w_init\": 0.0, \"b_init\": 0.0, \"w_factor\": 1.0})\n",
    "model_2p.plot_train(**graphic_params_n, step_size=0.4, epochs=50)"
   ]
  },
  {
   "cell_type": "markdown",
   "id": "90d91fe4-29e7-4d96-a769-8d413b961aa7",
   "metadata": {},
   "source": [
    "A smaller step size of 0.1 is slower but still reaches the optimum in\n",
    "about 200 epochs."
   ]
  },
  {
   "cell_type": "code",
   "execution_count": null,
   "id": "cell-48",
   "metadata": {},
   "outputs": [],
   "source": [
    "model_2p.plot_train(**graphic_params_n, step_size=0.1, epochs=200)"
   ]
  },
  {
   "cell_type": "markdown",
   "id": "d9714d82-97d4-427e-8528-608f19a40165",
   "metadata": {},
   "source": [
    "With a step size of 0.75, the training process converges even faster. We\n",
    "can see that the gradient descent is less smooth as it “oscillates”\n",
    "between two gradient directions."
   ]
  },
  {
   "cell_type": "code",
   "execution_count": null,
   "id": "cell-50",
   "metadata": {},
   "outputs": [],
   "source": [
    "model_2p.plot_train(**graphic_params_n, step_size=0.75, epochs=30)"
   ]
  },
  {
   "cell_type": "markdown",
   "id": "9486a83d-8bce-4499-98a2-2c422ac907e8",
   "metadata": {},
   "source": [
    "Finally, when the step size is too high, the training process starts\n",
    "diverging."
   ]
  },
  {
   "cell_type": "code",
   "execution_count": null,
   "id": "cell-52",
   "metadata": {},
   "outputs": [],
   "source": [
    "model_2p.plot_train(**graphic_params_n, step_size=0.9, epochs=10)"
   ]
  },
  {
   "cell_type": "markdown",
   "id": "4ef6f51a-32b6-4aed-9fc1-516c091f276b",
   "metadata": {},
   "source": [
    "### Scaled data\n",
    "\n",
    "Another possible transformation of the input data is to scale it by\n",
    "substracting its mean and dividing by its standard deviation. This can\n",
    "be done easily using `scikit-learn`’s `scale` preprocessing."
   ]
  },
  {
   "cell_type": "code",
   "execution_count": null,
   "id": "cell-54",
   "metadata": {},
   "outputs": [],
   "source": [
    "from sklearn import preprocessing\n",
    "\n",
    "temp_s = preprocessing.scale(temperature, with_mean=True)\n",
    "x_s = torch.tensor(temp_s, dtype=torch.float)\n"
   ]
  },
  {
   "cell_type": "markdown",
   "id": "473aa5a9-4fef-4721-9921-6b209807c5ef",
   "metadata": {},
   "source": [
    "We can again compute the new optimal weight and bias values with\n",
    "`scikit-learn`."
   ]
  },
  {
   "cell_type": "code",
   "execution_count": null,
   "id": "cell-56",
   "metadata": {},
   "outputs": [],
   "source": [
    "reg_s = skl_regression(temp_s, icecream)\n",
    "print(f\"slope: {reg_s['slope']:.2f}, intercept: {reg_s['intercept']:.2f}\")"
   ]
  },
  {
   "cell_type": "markdown",
   "id": "f99f78eb-021b-4578-ad5a-b58b154a4019",
   "metadata": {},
   "source": [
    "If we run our pytorch implementation on this standardize data, we can\n",
    "see that with a large step size, the training is able to converge\n",
    "towards the true values quite rapidly."
   ]
  },
  {
   "cell_type": "code",
   "execution_count": null,
   "id": "cell-58",
   "metadata": {},
   "outputs": [],
   "source": [
    "model_2p.train(x=x_s, y=y, step_size=0.3, epochs=10, w_init=0.0, b_init=0.0)"
   ]
  },
  {
   "cell_type": "markdown",
   "id": "3e71077d-e472-4e90-bcc0-4dd7095a01e6",
   "metadata": {},
   "source": [
    "We can once again try to visualize the loss gradients and values along a\n",
    "grid of $w$ and $b$ values. We see that each gradient seems to point\n",
    "directly to the opposite direction of the optimum.\n",
    "\n",
    "This is because with scaled input data, $w$ and $b$ have the same\n",
    "“effect”: increasing $w$ value by one is equivalent to increasing $b$ by\n",
    "one."
   ]
  },
  {
   "cell_type": "code",
   "execution_count": null,
   "id": "cell-60",
   "metadata": {},
   "outputs": [],
   "source": [
    "graphic_params_s = {\n",
    "    \"x\": x_s,\n",
    "    \"y\": y,\n",
    "    \"true_weight\": reg_s[\"slope\"],\n",
    "    \"true_bias\": reg_s[\"intercept\"],\n",
    "    \"grad_scale\": 15,\n",
    "}\n",
    "model_2p.plot_loss(**graphic_params_s)"
   ]
  },
  {
   "cell_type": "markdown",
   "id": "04209973-a94f-4bbe-8b67-335c235f34b1",
   "metadata": {},
   "source": [
    "We can plot the training process with a step size of 0.3. The gradient\n",
    "descent seems to be straightforward and goes directly to the optimum\n",
    "value, which is reached within less than 10 epochs."
   ]
  },
  {
   "cell_type": "code",
   "execution_count": null,
   "id": "cell-62",
   "metadata": {},
   "outputs": [],
   "source": [
    "graphic_params_s.update({\"w_init\": 0.0, \"b_init\": 0.0, \"w_factor\": 1.0, \"b_factor\": 1.0})\n",
    "model_2p.plot_train(**graphic_params_s, step_size=0.3, epochs=10)"
   ]
  },
  {
   "cell_type": "markdown",
   "id": "5a30cd41-5b73-47b8-83a7-9149e49d8ff1",
   "metadata": {},
   "source": [
    "With a larger step size of 0.6, the gradient descent first “overshoots”\n",
    "the optimum values, but it then rapidly converges towards it in a few\n",
    "epochs."
   ]
  },
  {
   "cell_type": "code",
   "execution_count": null,
   "id": "cell-64",
   "metadata": {},
   "outputs": [],
   "source": [
    "model_2p.plot_train(**graphic_params_s, step_size=0.6, epochs=5)"
   ]
  },
  {
   "cell_type": "markdown",
   "id": "9fd3af7d-0057-4d21-b49d-2a398db08f0f",
   "metadata": {},
   "source": [
    "And, as before, if the step size is too high the training process starts\n",
    "to diverge, oscillating farther and farther from the optimum instead of\n",
    "converging towards it."
   ]
  },
  {
   "cell_type": "code",
   "execution_count": null,
   "id": "cell-66",
   "metadata": {},
   "outputs": [],
   "source": [
    "model_2p.plot_train(**graphic_params_s, step_size=1.0, epochs=10)"
   ]
  }
 ],
 "metadata": {
  "kernelspec": {
   "display_name": ".venv",
   "language": "python",
   "name": "python3"
  },
  "language_info": {
   "codemirror_mode": {
    "name": "ipython",
    "version": "3"
   },
   "file_extension": ".py",
   "mimetype": "text/x-python",
   "name": "python",
   "nbconvert_exporter": "python",
   "pygments_lexer": "ipython3",
   "version": "3.12.9"
  }
 },
 "nbformat": 4,
 "nbformat_minor": 5
}
