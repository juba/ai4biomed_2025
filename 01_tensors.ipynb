{
 "cells": [
  {
   "cell_type": "markdown",
   "id": "3634cc18-a254-409c-ac4e-51c336004051",
   "metadata": {},
   "source": [
    "# Tensors\n",
    "\n",
    "Tensors are one of the basic data structures in pytorch. Basically they\n",
    "are numerical arrays that can be processed by different type of devices\n",
    "(CPU, GPU…).\n",
    "\n",
    "A tensor can be created from a Python list."
   ]
  },
  {
   "cell_type": "code",
   "execution_count": null,
   "id": "cell-2",
   "metadata": {},
   "outputs": [],
   "source": [
    "import torch\n",
    "\n",
    "python_list = [3.0, 5.0, -4.0]\n",
    "x = torch.tensor(python_list)\n",
    "x"
   ]
  },
  {
   "cell_type": "markdown",
   "id": "e5c07275-f8b0-47e8-9f7f-e622d1d51013",
   "metadata": {},
   "source": [
    "Computations on tensors are *vectorized*, which means that operations\n",
    "are performed on the entire tensor at once. For example, adding a value\n",
    "to a tensor will add it to each of its elements."
   ]
  },
  {
   "cell_type": "code",
   "execution_count": null,
   "id": "cell-4",
   "metadata": {},
   "outputs": [],
   "source": [
    "x = torch.tensor([3.0, 5.0, -4.0])\n",
    "print(x + 4)"
   ]
  },
  {
   "cell_type": "code",
   "execution_count": null,
   "id": "cell-5",
   "metadata": {},
   "outputs": [],
   "source": [
    "y = torch.tensor([1.0, 2.0, 3.0])\n",
    "print(x - y)"
   ]
  },
  {
   "cell_type": "markdown",
   "id": "7d041431-9656-44b4-af41-74a2badaf8af",
   "metadata": {},
   "source": [
    "Pytorch provides numerous functions to compute on tensors. In general\n",
    "they can be called either as a pytorch function or as a tensor method."
   ]
  },
  {
   "cell_type": "code",
   "execution_count": null,
   "id": "cell-7",
   "metadata": {},
   "outputs": [],
   "source": [
    "print(x.mean())\n",
    "print(torch.mean(x))"
   ]
  },
  {
   "cell_type": "markdown",
   "id": "9049afb4-d713-4147-a8a8-12eb32ecd80d",
   "metadata": {},
   "source": [
    "**Exercise 1**\n",
    "\n",
    "A temperature in Fahrenheit can be converted in Celsius with the\n",
    "following formula:\n",
    "\n",
    "$$T_{\\textrm{Celsius}} = (T_{\\textrm{Farhenheit}} - 32) \\times \\frac{5}{9}$$\n",
    "\n",
    "Create a Python function called `fahrenheit_to_celsius` which takes a\n",
    "Fahrenheit temperatures tensor as input and returns its value in\n",
    "Celsius. Apply the function to a tensor with the values\n",
    "`[0, 32, 50, 100]`.\n",
    "\n",
    "## Tensors gradients\n",
    "\n",
    "When creating a tensor, if we specify `requires_grad=True` then every\n",
    "object created by applying a `torch` operation to it will itself be a\n",
    "tensor which keeps track of the functions to apply to compute the\n",
    "gradient of these operations."
   ]
  },
  {
   "cell_type": "code",
   "execution_count": null,
   "id": "cell-14",
   "metadata": {},
   "outputs": [],
   "source": [
    "w1 = torch.tensor(1.0, requires_grad=True)\n",
    "w1_add = w1 + 4\n",
    "w1_add\n"
   ]
  },
  {
   "cell_type": "code",
   "execution_count": null,
   "id": "cell-15",
   "metadata": {},
   "outputs": [],
   "source": [
    "w2 = torch.tensor(2.0, requires_grad=True)\n",
    "step1 = w2 + 4\n",
    "step2 = torch.square(step1)\n",
    "print(step1)\n",
    "print(step2)\n"
   ]
  },
  {
   "cell_type": "markdown",
   "id": "8a71c156-b333-4e0c-b9ec-bb3cd164a263",
   "metadata": {},
   "source": [
    "Input tensor gradients can then be computed by applying the `backward()`\n",
    "method to an output tensor. They are stored as the `grad` attribute of\n",
    "the input tensors."
   ]
  },
  {
   "cell_type": "code",
   "execution_count": null,
   "id": "cell-17",
   "metadata": {},
   "outputs": [],
   "source": [
    "w3 = torch.tensor(1.0, requires_grad=True)\n",
    "w3_mult = 2 * w3 + 1\n",
    "w3_mult.backward()\n",
    "print(w3.grad)\n"
   ]
  },
  {
   "cell_type": "markdown",
   "id": "ef92a640-707d-4b5a-a29d-79931c07f2d4",
   "metadata": {},
   "source": [
    "This result can be read as “the gradient value of the function which\n",
    "computes `w3_mult` from `w3`, when `w3` equals 1”. Here the function is\n",
    "`2*w3 + 1`, so its gradient is always 2.\n",
    "\n",
    "If several functions are applied to a tensor, pytorch will keep track of\n",
    "them and compute the gradient value of the original tensor accordingly."
   ]
  },
  {
   "cell_type": "code",
   "execution_count": null,
   "id": "cell-19",
   "metadata": {},
   "outputs": [],
   "source": [
    "step2.backward()\n",
    "print(w2.grad)"
   ]
  },
  {
   "cell_type": "markdown",
   "id": "3c794434-33be-4332-b8d0-1dc001b84564",
   "metadata": {},
   "source": [
    "This result can be seen read as “the gradient value of the function\n",
    "which computes `step2` from `w2`, when `w2` equals 2”. Here the function\n",
    "is `(w2 + 4)²`, so its gradient function is `2*w2 + 8`, and the value of\n",
    "this function when `w2` equals 2 is 12.\n",
    "\n",
    "**Exercise 2**\n",
    "\n",
    "Using tensors, compute the gradient of the function $1 /\\log{x}$ when\n",
    "$x$ is 10.\n",
    "\n",
    "## Gradient descent\n",
    "\n",
    "Imagine we have a tensor `x` of 6 numerical values."
   ]
  },
  {
   "cell_type": "code",
   "execution_count": null,
   "id": "cell-26",
   "metadata": {},
   "outputs": [],
   "source": [
    "x = torch.tensor([-5.0, -2.0, 1.0, 3.0, 5.0, 15.0, 18.0])"
   ]
  },
  {
   "cell_type": "markdown",
   "id": "dc1330eb-eb83-4c16-8d67-df6039e82d5a",
   "metadata": {},
   "source": [
    "Using a predefined function, we plot these values along an axis."
   ]
  },
  {
   "cell_type": "code",
   "execution_count": null,
   "id": "cell-28",
   "metadata": {},
   "outputs": [],
   "source": [
    "from adl.tensors import plot_points1d\n",
    "\n",
    "plot_points1d(x)"
   ]
  },
  {
   "cell_type": "markdown",
   "id": "0e433e76-4fc7-428e-abb1-b70e7e6cac1a",
   "metadata": {},
   "source": [
    "Now suppose we want to find the value of a parameter `w` for which the\n",
    "sum of the squared distances between the values of `x` and `w` is\n",
    "minimal.\n",
    "\n",
    "For example, we could start with an arbitrary value of `w` at zero."
   ]
  },
  {
   "cell_type": "code",
   "execution_count": null,
   "id": "cell-30",
   "metadata": {},
   "outputs": [],
   "source": [
    "plot_points1d(x, 0)"
   ]
  },
  {
   "cell_type": "markdown",
   "id": "25f4700c-f494-4b4a-a2d7-3cdf9e3a65e4",
   "metadata": {},
   "source": [
    "To see if our current value of `w` is minimal, we can compute the\n",
    "gradient of the function that computes the sum of squared distances\n",
    "between `x` values and `w` when `w` equals 0.\n",
    "\n",
    "We already saw how to do that with pytorch:"
   ]
  },
  {
   "cell_type": "code",
   "execution_count": null,
   "id": "cell-32",
   "metadata": {},
   "outputs": [],
   "source": [
    "w = torch.tensor(0.0, requires_grad=True)\n",
    "y = (x - w).square().sum()\n",
    "y.backward()\n",
    "print(w.grad)\n"
   ]
  },
  {
   "cell_type": "markdown",
   "id": "eff4499f-4ba1-43db-bd6f-dcc4861cc313",
   "metadata": {},
   "source": [
    "As we will do this computation several times, we will create a new\n",
    "function `eval_w_squared`."
   ]
  },
  {
   "cell_type": "code",
   "execution_count": null,
   "id": "cell-34",
   "metadata": {},
   "outputs": [],
   "source": [
    "def eval_w_squared(value):\n",
    "    w = torch.tensor(value, requires_grad=True)\n",
    "    y = (x - w).square().sum()\n",
    "    y.backward()\n",
    "    print(f\"sum of squared distances: {y}\")\n",
    "    print(f\"gradient: {w.grad}\")\n",
    "\n",
    "\n",
    "eval_w_squared(0.0)"
   ]
  },
  {
   "cell_type": "markdown",
   "id": "10d611c6-dfa0-4c3f-8449-d8ed3dc822da",
   "metadata": {},
   "source": [
    "So the sum of squared distances when $w=0$ is 613.0, and the gradient\n",
    "value of the sum of squared distances function when $w=0$ is -70. This\n",
    "tells us two things:\n",
    "\n",
    "1.  we are not at an optimum value (because the gradient is not equal to\n",
    "    0)\n",
    "2.  as the gradient is negative, this means that if we increase `w` a\n",
    "    little bit, the value of the sum of squared distances will decrease\n",
    "\n",
    "We want our sum of squared distances to be minimal, so we will try with\n",
    "a greater `w` value, say 2."
   ]
  },
  {
   "cell_type": "code",
   "execution_count": null,
   "id": "cell-36",
   "metadata": {},
   "outputs": [],
   "source": [
    "plot_points1d(x, 2)\n",
    "eval_w_squared(2.0)"
   ]
  },
  {
   "cell_type": "markdown",
   "id": "0e7201c6-5862-4ac0-bc3f-c19d9c7fd18a",
   "metadata": {},
   "source": [
    "When `w` equals 2, the sum of squared distances is lower, but the\n",
    "gradient value is still negative, so we try again with a greater value."
   ]
  },
  {
   "cell_type": "code",
   "execution_count": null,
   "id": "cell-38",
   "metadata": {},
   "outputs": [],
   "source": [
    "plot_points1d(x, 6)\n",
    "eval_w_squared(6.0)"
   ]
  },
  {
   "cell_type": "markdown",
   "id": "651668ee-a92e-40ed-8da6-9ff961d59ad1",
   "metadata": {},
   "source": [
    "The sum of squared distances is lower, but the gradient is now positive.\n",
    "This means that if we want our sum of squared distances to be lower, we\n",
    "have to decrease the value of `w`. Let’s try with 5:"
   ]
  },
  {
   "cell_type": "code",
   "execution_count": null,
   "id": "cell-40",
   "metadata": {},
   "outputs": [],
   "source": [
    "plot_points1d(x, 5)\n",
    "eval_w_squared(5.0)"
   ]
  },
  {
   "cell_type": "markdown",
   "id": "5257a380-37dd-4a49-aca4-5cea97c6d11b",
   "metadata": {},
   "source": [
    "Now our gradient is equal to 0, this means that we are at a local\n",
    "optimum. In fact, 5 is the mean of `x`, which is by definition the value\n",
    "which minimizes the sum of squared distances."
   ]
  },
  {
   "cell_type": "code",
   "execution_count": null,
   "id": "cell-42",
   "metadata": {},
   "outputs": [],
   "source": [
    "x.mean()"
   ]
  },
  {
   "cell_type": "markdown",
   "id": "53bf9be6-be7b-4537-ab15-3593b6b3e594",
   "metadata": {},
   "source": [
    "What we just did here, using gradient values to find a minimum value\n",
    "iteratively, is called a *gradient descent*.\n",
    "\n",
    "**Exercise 3**\n",
    "\n",
    "Create a function `eval_w_abs` which is the same as `eval_w_squared`\n",
    "except that it computes the sum of the absolute values of the\n",
    "differences between `x` elements and `w`.\n",
    "\n",
    "Use this function to do a gradient descent and find the value of `w`\n",
    "that minimizes the sum of the absolute values of differences.\n",
    "\n",
    "What statistical function could be used to find this value directly?\n",
    "\n",
    "## Minimizing a loss function\n",
    "\n",
    "In machine learning or deep learning, a frequent goal is to predict\n",
    "values from input data by adjusting the parameters of a model.\n",
    "\n",
    "For example, the two following python lists give the average temperature\n",
    "by month at the Lyon-Bron weather station in 1924 and in 2024 (source\n",
    "[infoclimat](https://www.infoclimat.fr/stations-meteo/analyses-mensuelles.php?mois=12&annee=2024))."
   ]
  },
  {
   "cell_type": "code",
   "execution_count": null,
   "id": "cell-51",
   "metadata": {},
   "outputs": [],
   "source": [
    "lyon1924 = [3.1, 1.3, 7.7, 11.0, 15.7, 18.0, 20.6, 16.7, 16.2, 11.9, 7.3, 3.4]\n",
    "lyon2024 = [5.3, 8.9, 10.9, 12.5, 15.9, 20.5, 23.3, 24.3, 17.4, 15.8, 8.7, 3.8]"
   ]
  },
  {
   "cell_type": "markdown",
   "id": "9213f39e-118a-468e-b274-d147a840133a",
   "metadata": {},
   "source": [
    "Our objective is to predict a 2024 temperature from a 1924 temperature.\n",
    "For this prediction we will use a very simple model: we will add a fixed\n",
    "value to every 1924 temperature in order to be as close as possible to\n",
    "the ones of 2024.\n",
    "\n",
    "With a more formal notation:\n",
    "\n",
    "-   $x$ is our **input data**, *ie* the monthly 1924 temperatures\n",
    "-   $y$ is the **true values** or **target values** we want to predict,\n",
    "    *ie* the monthly 2024 temperatures\n",
    "-   Our model is $y =x + w$, where $w$ is our unique **model parameter**\n",
    "-   We want $w$ to be the value which minimizes the distance between our\n",
    "    predictions and the true values\n",
    "\n",
    "We will start with a $w$ value of 0."
   ]
  },
  {
   "cell_type": "code",
   "execution_count": null,
   "id": "cell-53",
   "metadata": {},
   "outputs": [],
   "source": [
    "x = torch.tensor(lyon1924)\n",
    "y = torch.tensor(lyon2024)\n",
    "w = torch.tensor(0.0, requires_grad=True)"
   ]
  },
  {
   "cell_type": "markdown",
   "id": "3c400c64-1064-4f44-bf10-9938b7dbde9b",
   "metadata": {},
   "source": [
    "We can compute what our predicted values would be after applying our\n",
    "model, *ie* after computing $x + w$. These values are called the\n",
    "*predictions*. We want them to be as close as possible to the target\n",
    "values in $y$, so we compute a distance between $x + w$ and $y$ by\n",
    "summing the squared values of the distance between their elements.\n",
    "\n",
    "We call this distance the **loss** function, the one we want to\n",
    "minimize.\n",
    "\n",
    "Here is the loss value for $w = 0$."
   ]
  },
  {
   "cell_type": "code",
   "execution_count": null,
   "id": "cell-55",
   "metadata": {},
   "outputs": [],
   "source": [
    "y_pred = x + w\n",
    "loss = torch.sum(torch.square(y_pred - y))\n",
    "print(f\"loss: {loss}\")"
   ]
  },
  {
   "cell_type": "markdown",
   "id": "5c094a48-1462-49fd-89e0-22792259c0c8",
   "metadata": {},
   "source": [
    "As we have already seen, with pytorch we can apply `backward` to our\n",
    "loss result and `w` will then have a new `grad` attribute: this\n",
    "attribute is the gradient value of our loss function when `w` equals 0."
   ]
  },
  {
   "cell_type": "code",
   "execution_count": null,
   "id": "cell-57",
   "metadata": {},
   "outputs": [],
   "source": [
    "loss.backward()\n",
    "print(f\"Gradient value: {w.grad.item()}\")  # type: ignore"
   ]
  },
  {
   "cell_type": "markdown",
   "id": "b9499f0f-9563-4212-8a07-ebc0bd01143b",
   "metadata": {},
   "source": [
    "As we will repeat them several times, we will put these three steps\n",
    "(computing the predictions, the loss value and the gradient) in a\n",
    "function."
   ]
  },
  {
   "cell_type": "code",
   "execution_count": null,
   "id": "cell-59",
   "metadata": {},
   "outputs": [],
   "source": [
    "def eval_weight(w):\n",
    "    w = torch.tensor(w, requires_grad=True)\n",
    "    y_pred = x + w\n",
    "    loss = torch.sum(torch.square(y_pred - y))\n",
    "    loss.backward()\n",
    "    print(f\"loss: {loss}, gradient: {w.grad.item()}\")  # type: ignore\n",
    "\n",
    "\n",
    "eval_weight(0.0)"
   ]
  },
  {
   "cell_type": "markdown",
   "id": "7ee7391f-76f4-4fcf-8479-177cbdd9d366",
   "metadata": {},
   "source": [
    "As seen above, the gradient value gives the direction in which $w$ must\n",
    "go for the loss to raise. In this case, the gradient is negative so if\n",
    "we decrease $w$, the loss will increase. As we want to minimize the\n",
    "loss, we want to go **in the opposite direction** of the gradient, and\n",
    "thus we want to increase $w$.\n",
    "\n",
    "Let’s try with $w = 2$."
   ]
  },
  {
   "cell_type": "code",
   "execution_count": null,
   "id": "cell-61",
   "metadata": {},
   "outputs": [],
   "source": [
    "eval_weight(2.0)"
   ]
  },
  {
   "cell_type": "markdown",
   "id": "bf90bed3-83cc-48e2-8bb6-4e06d3c18708",
   "metadata": {},
   "source": [
    "The gradient is still negative, so to minimize the loss we will have to\n",
    "increase $w$."
   ]
  },
  {
   "cell_type": "code",
   "execution_count": null,
   "id": "cell-63",
   "metadata": {},
   "outputs": [],
   "source": [
    "eval_weight(3.0)"
   ]
  },
  {
   "cell_type": "markdown",
   "id": "3819a7db-ca8e-4218-9c5a-b426b96354e7",
   "metadata": {},
   "source": [
    "This time the gradient is positive, so to lower the loss we will have to\n",
    "decrease $w$."
   ]
  },
  {
   "cell_type": "code",
   "execution_count": null,
   "id": "cell-65",
   "metadata": {},
   "outputs": [],
   "source": [
    "eval_weight(2.8)"
   ]
  },
  {
   "cell_type": "markdown",
   "id": "1a5cb2c1-d3d1-42ea-8692-75eae53a7b6f",
   "metadata": {},
   "source": [
    "If we continue this process, we will be closer and closer from the value\n",
    "of $w$ for which the loss is minimal. In fact we could have computed\n",
    "this value directly by getting the mean of the differences between $x$\n",
    "and $y$:"
   ]
  },
  {
   "cell_type": "code",
   "execution_count": null,
   "id": "cell-67",
   "metadata": {},
   "outputs": [],
   "source": [
    "torch.mean(y - x)"
   ]
  },
  {
   "cell_type": "markdown",
   "id": "3a1fbe0b-ebf8-4394-b0b1-d67ecb3aa669",
   "metadata": {},
   "source": [
    "## Automating the gradient descent process\n",
    "\n",
    "Until now we did the gradient descent “manually”, by selecting new\n",
    "values based on the sign of the gradient at the current value. We will\n",
    "now see how to automate this process a bit more.\n",
    "\n",
    "As a convention, the prediction phase will be defined in a function\n",
    "called `forward`, which takes our input data as argument (here our `x`\n",
    "tensor) and applies transformative operations to compute the predicted\n",
    "values.\n",
    "\n",
    "To reuse our previous temperatures example, we define our input data\n",
    "`x`, our true values `y`, our model parameter `w`, and a `forward`\n",
    "method which computes predictions by applying our model, *ie* by\n",
    "computing $x + w$."
   ]
  },
  {
   "cell_type": "code",
   "execution_count": null,
   "id": "cell-69",
   "metadata": {},
   "outputs": [],
   "source": [
    "lyon1924 = [3.1, 1.3, 7.7, 11.0, 15.7, 18.0, 20.6, 16.7, 16.2, 11.9, 7.3, 3.4]\n",
    "lyon2024 = [5.3, 8.9, 10.9, 12.5, 15.9, 20.5, 23.3, 24.3, 17.4, 15.8, 8.7, 3.8]\n",
    "\n",
    "x = torch.tensor(lyon1924)\n",
    "y = torch.tensor(lyon2024)\n",
    "\n",
    "w = torch.tensor(0.0, requires_grad=True)\n",
    "\n",
    "\n",
    "def forward(x):\n",
    "    return x + w\n"
   ]
  },
  {
   "cell_type": "markdown",
   "id": "63421821-11dc-4199-9d44-3474689794a6",
   "metadata": {},
   "source": [
    "Next we define our loss function, *ie* a measure of “distance” between\n",
    "our predicted values and the true values. This loss function can be\n",
    "defined manually (as we did previously), but we can also use predefined\n",
    "loss functions provided by pytorch. For example, our loss could use\n",
    "`torch.nn.MSELoss`, which computes the mean squared error."
   ]
  },
  {
   "cell_type": "code",
   "execution_count": null,
   "id": "cell-71",
   "metadata": {},
   "outputs": [],
   "source": [
    "loss_fn = torch.nn.MSELoss()"
   ]
  },
  {
   "cell_type": "markdown",
   "id": "a2229925-4a55-4bdc-8e9d-6cadcb4a7de2",
   "metadata": {},
   "source": [
    "As we did above, the basis of a training step will be to apply `forward`\n",
    "to `x` to compute predictions given the current `w` value, compute the\n",
    "corresponding loss, and then call `backward` to compute the gradient of\n",
    "the loss function given `w`."
   ]
  },
  {
   "cell_type": "code",
   "execution_count": null,
   "id": "cell-73",
   "metadata": {},
   "outputs": [],
   "source": [
    "y_pred = forward(x)\n",
    "loss = loss_fn(y_pred, y)\n",
    "loss.backward()\n",
    "print(f\"loss: {loss}, gradient for w: {w.grad.item()}\")  # type: ignore"
   ]
  },
  {
   "cell_type": "markdown",
   "id": "22f17c43-f2df-45c7-a883-3db71d114576",
   "metadata": {},
   "source": [
    "To complete this step and make it a real “training”, we will have to\n",
    "adjust the value of $w$ in the direction opposite to its gradient. The\n",
    "simplest way to do it is to substract from $w$ its gradient value\n",
    "multiplied by a factor called the step size, or **learning rate**."
   ]
  },
  {
   "cell_type": "code",
   "execution_count": null,
   "id": "cell-75",
   "metadata": {},
   "outputs": [],
   "source": [
    "step_size = 0.3\n",
    "w.data = w.data - step_size * w.grad  # type: ignore"
   ]
  },
  {
   "cell_type": "markdown",
   "id": "057913d2-7971-4472-a0e1-5681187ca7c5",
   "metadata": {},
   "source": [
    "To run the training process, we have to apply these operations a certain\n",
    "number of times called **epochs**: we can use a `for` loop to do this.\n",
    "Note that at the end of each training step we have to “reset” the\n",
    "gradient of `w` by calling `w.grad.zero_`."
   ]
  },
  {
   "cell_type": "code",
   "execution_count": null,
   "id": "cell-77",
   "metadata": {},
   "outputs": [],
   "source": [
    "epochs = 5\n",
    "for epoch in range(epochs):\n",
    "    y_pred = forward(x)\n",
    "    loss = loss_fn(y_pred, y)\n",
    "    loss.backward()\n",
    "    w.data = w.data - step_size * w.grad  # type: ignore\n",
    "    print(\n",
    "        f\"epoch: {epoch}, loss: {loss:.3f}, gradient: {w.grad.item():.3f}, w: {w.data.item():.4f}\"  # type: ignore\n",
    "    )\n",
    "    w.grad.zero_()  # type: ignore"
   ]
  },
  {
   "cell_type": "markdown",
   "id": "5d211a4e-5d0a-4d84-afd6-37585e0d22a2",
   "metadata": {},
   "source": [
    "So here is the complete code of our training process. If we run it for a\n",
    "few epochs we can see that it converges towards the $w$ value that\n",
    "minimizes the loss."
   ]
  },
  {
   "cell_type": "code",
   "execution_count": null,
   "id": "cell-79",
   "metadata": {},
   "outputs": [],
   "source": [
    "# Raw data\n",
    "lyon1924 = [3.1, 1.3, 7.7, 11.0, 15.7, 18.0, 20.6, 16.7, 16.2, 11.9, 7.3, 3.4]\n",
    "lyon2024 = [5.3, 8.9, 10.9, 12.5, 15.9, 20.5, 23.3, 24.3, 17.4, 15.8, 8.7, 3.8]\n",
    "\n",
    "# Input data tensor\n",
    "x = torch.tensor(lyon1924)\n",
    "# True values tensor\n",
    "y = torch.tensor(lyon2024)\n",
    "\n",
    "# Loss function\n",
    "loss_fn = torch.nn.MSELoss()\n",
    "\n",
    "# Number of training steps\n",
    "epochs = 10\n",
    "# Learning rate\n",
    "step_size = 0.3\n",
    "\n",
    "# Model parameter\n",
    "w = torch.tensor(0.0, requires_grad=True)\n",
    "\n",
    "\n",
    "# Method to apply our model, ie compute predicted values from input data\n",
    "def forward(x):\n",
    "    return x + w\n",
    "\n",
    "\n",
    "# Training process\n",
    "for epoch in range(epochs):\n",
    "    # Compute predictions\n",
    "    y_pred = forward(x)\n",
    "    # Compute loss (distance between predictions and targets)\n",
    "    loss = loss_fn(y_pred, y)\n",
    "    # Backpropagate to compute parameters gradient\n",
    "    loss.backward()\n",
    "    # Adjust parameter value\n",
    "    w.data = w.data - step_size * w.grad  # type: ignore\n",
    "    print(\n",
    "        f\"epoch: {epoch}, loss: {loss:.3f}, gradient: {w.grad.item():.3f}, w: {w.data.item():.4f}\"  # type: ignore\n",
    "    )\n",
    "    # Reset parameter gradient\n",
    "    w.grad.zero_()  # type: ignore"
   ]
  },
  {
   "cell_type": "markdown",
   "id": "43f05dab-229b-4e53-895e-b2c0e99fc216",
   "metadata": {},
   "source": [
    "**Exercise 4**\n",
    "\n",
    "We have two python lists which give the measured diameters and\n",
    "perimeters of a certain number of circles.\n",
    "\n",
    "Use Pytorch to run a training process to find the best value of the\n",
    "parameter `w` which allows to predict the perimeters from the diameters.\n",
    "The model to compute the predicted values will $x = y \\times w$.\n",
    "\n",
    "*Hint*: you can use a step size of 0.01."
   ]
  },
  {
   "cell_type": "code",
   "execution_count": null,
   "id": "cell-81",
   "metadata": {},
   "outputs": [],
   "source": [
    "diameters = [1.4, 2.5, 2.0, 4.8, 4.7, 5.2, 1.3, 2.1, 8.3, 7.4]\n",
    "perimeters = [4.4, 7.9, 6.3, 15.1, 14.8, 16.3, 4.1, 6.6, 26.1, 23.2]"
   ]
  }
 ],
 "metadata": {
  "kernelspec": {
   "display_name": ".venv",
   "language": "python",
   "name": "python3"
  },
  "language_info": {
   "codemirror_mode": {
    "name": "ipython",
    "version": "3"
   },
   "file_extension": ".py",
   "mimetype": "text/x-python",
   "name": "python",
   "nbconvert_exporter": "python",
   "pygments_lexer": "ipython3",
   "version": "3.12.9"
  }
 },
 "nbformat": 4,
 "nbformat_minor": 5
}
