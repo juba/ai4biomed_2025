{
 "cells": [
  {
   "cell_type": "markdown",
   "id": "a9abf90c-4a2d-45ac-a8f5-7d51a4a921f2",
   "metadata": {},
   "source": [
    "# Tensors\n",
    "\n",
    "**Note :** to use this notebook in Google Colab, create a new cell with\n",
    "the following line and run it.\n",
    "\n",
    "``` shell\n",
    "!pip install git+https://gitlab.in2p3.fr/jbarnier/ateliers_deep_learning.git\n",
    "```\n",
    "\n",
    "Tensors are one of the basic data structures in pytorch. Basically they\n",
    "are numerical arrays that can be processed by different type of devices\n",
    "(CPU, GPU…).\n",
    "\n",
    "A tensor can be created from a Python list."
   ]
  },
  {
   "cell_type": "code",
   "execution_count": null,
   "id": "cell-3",
   "metadata": {},
   "outputs": [],
   "source": [
    "import torch\n",
    "\n",
    "python_list = [3.0, 5.0, -4.0]\n",
    "x = torch.tensor(python_list)\n",
    "x"
   ]
  },
  {
   "cell_type": "markdown",
   "id": "49f2f5ff-24bd-4bb2-97c0-8d24af428152",
   "metadata": {},
   "source": [
    "Computations on tensors are *vectorized*, which means that operations\n",
    "are performed on the entire tensor at once. For example, adding a value\n",
    "to a tensor will add it to each of its elements."
   ]
  },
  {
   "cell_type": "code",
   "execution_count": null,
   "id": "cell-5",
   "metadata": {},
   "outputs": [],
   "source": [
    "x = torch.tensor([3.0, 5.0, -4.0])\n",
    "print(x + 4)"
   ]
  },
  {
   "cell_type": "code",
   "execution_count": null,
   "id": "cell-6",
   "metadata": {},
   "outputs": [],
   "source": [
    "y = torch.tensor([1.0, 2.0, 3.0])\n",
    "print(x - y)"
   ]
  },
  {
   "cell_type": "markdown",
   "id": "fb7c71f6-8ca9-41f7-a5d3-d9a062da9bd3",
   "metadata": {},
   "source": [
    "Pytorch provides numerous functions to compute on tensors. In general\n",
    "they can be called either as a pytorch function or as a tensor method."
   ]
  },
  {
   "cell_type": "code",
   "execution_count": null,
   "id": "cell-8",
   "metadata": {},
   "outputs": [],
   "source": [
    "print(x.mean())\n",
    "print(torch.mean(x))"
   ]
  },
  {
   "cell_type": "markdown",
   "id": "be7d88b1-b09c-415e-bc9f-6044c1b5e15a",
   "metadata": {},
   "source": [
    "**Exercise 1**\n",
    "\n",
    "A temperature in Fahrenheit can be converted in Celsius with the\n",
    "following formula:\n",
    "\n",
    "$$T_{\\textrm{Celsius}} = (T_{\\textrm{Farhenheit}} - 32) \\times \\frac{5}{9}$$\n",
    "\n",
    "Create a Python function called `fahrenheit_to_celsius` which takes a\n",
    "Fahrenheit temperatures tensor as input and returns its value in\n",
    "Celsius. Apply the function to a tensor with the values\n",
    "`[0, 32, 50, 100]`.\n",
    "\n",
    "## Tensors gradients\n",
    "\n",
    "When creating a tensor, if we specify `requires_grad=True` then every\n",
    "object created by applying a `torch` operation to it will itself be a\n",
    "tensor which keeps track of the functions to apply to compute the\n",
    "gradient of these operations."
   ]
  },
  {
   "cell_type": "code",
   "execution_count": null,
   "id": "cell-15",
   "metadata": {},
   "outputs": [],
   "source": [
    "w1 = torch.tensor(1.0, requires_grad=True)\n",
    "w1_add = w1 + 4\n",
    "w1_add\n"
   ]
  },
  {
   "cell_type": "code",
   "execution_count": null,
   "id": "cell-16",
   "metadata": {},
   "outputs": [],
   "source": [
    "w2 = torch.tensor(2.0, requires_grad=True)\n",
    "step1 = w2 + 4\n",
    "step2 = torch.square(step1)\n",
    "print(step1)\n",
    "print(step2)\n"
   ]
  },
  {
   "cell_type": "markdown",
   "id": "f37f7077-18e6-490b-a3a4-09c3b444f655",
   "metadata": {},
   "source": [
    "Input tensor gradients can then be computed by applying the `backward()`\n",
    "method to an output tensor. They are stored as the `grad` attribute of\n",
    "the input tensors."
   ]
  },
  {
   "cell_type": "code",
   "execution_count": null,
   "id": "cell-18",
   "metadata": {},
   "outputs": [],
   "source": [
    "w3 = torch.tensor(1.0, requires_grad=True)\n",
    "w3_mult = 2 * w3 + 1\n",
    "w3_mult.backward()\n",
    "print(w3.grad)\n"
   ]
  },
  {
   "cell_type": "markdown",
   "id": "2220b5b5-5add-494b-add9-0e435202b64c",
   "metadata": {},
   "source": [
    "This result can be read as “the gradient value of the function which\n",
    "computes `w3_mult` from `w3`, when `w3` equals 1”. Here the function is\n",
    "`2*w3 + 1`, so its gradient is always 2.\n",
    "\n",
    "If several functions are applied to a tensor, pytorch will keep track of\n",
    "them and compute the gradient value of the original tensor accordingly."
   ]
  },
  {
   "cell_type": "code",
   "execution_count": null,
   "id": "cell-20",
   "metadata": {},
   "outputs": [],
   "source": [
    "step2.backward()\n",
    "print(w2.grad)"
   ]
  },
  {
   "cell_type": "markdown",
   "id": "34fdeaa3-69c4-4cbd-8afb-0a2f5c146708",
   "metadata": {},
   "source": [
    "This result can be seen read as “the gradient value of the function\n",
    "which computes `step2` from `w2`, when `w2` equals 2”. Here the function\n",
    "is `(w2 + 4)²`, so its gradient function is `2*w2 + 8`, and the value of\n",
    "this function when `w2` equals 2 is 12.\n",
    "\n",
    "**Exercise 2**\n",
    "\n",
    "Using tensors, compute the gradient of the function $1 /\\log{x}$ when\n",
    "$x$ is 10.\n",
    "\n",
    "## Gradient descent\n",
    "\n",
    "Imagine we have a tensor `x` of 6 numerical values."
   ]
  },
  {
   "cell_type": "code",
   "execution_count": null,
   "id": "cell-27",
   "metadata": {},
   "outputs": [],
   "source": [
    "x = torch.tensor([-5.0, -2.0, 1.0, 3.0, 5.0, 15.0, 18.0])"
   ]
  },
  {
   "cell_type": "markdown",
   "id": "296d98a0-b37f-4162-b216-ed6458b519ef",
   "metadata": {},
   "source": [
    "Using a predefined function, we plot these values along an axis."
   ]
  },
  {
   "cell_type": "code",
   "execution_count": null,
   "id": "cell-29",
   "metadata": {},
   "outputs": [],
   "source": [
    "from adl.tensors import plot_points1d\n",
    "\n",
    "plot_points1d(x)"
   ]
  },
  {
   "cell_type": "markdown",
   "id": "66e24916-f9fb-4eb8-bcf4-e528c2d316ba",
   "metadata": {},
   "source": [
    "Now suppose we want to find the value of a parameter `w` for which the\n",
    "sum of the squared distances between the values of `x` and `w` is\n",
    "minimal.\n",
    "\n",
    "For example, we could start with an arbitrary value of `w` at zero."
   ]
  },
  {
   "cell_type": "code",
   "execution_count": null,
   "id": "cell-31",
   "metadata": {},
   "outputs": [],
   "source": [
    "plot_points1d(x, 0)"
   ]
  },
  {
   "cell_type": "markdown",
   "id": "48692cb4-84c2-4f49-8097-b8a30d70e0c3",
   "metadata": {},
   "source": [
    "To see if our current value of `w` is minimal, we can compute the\n",
    "gradient of the function that computes the sum of squared distances\n",
    "between `x` values and `w` when `w` equals 0.\n",
    "\n",
    "We already saw how to do that with pytorch:"
   ]
  },
  {
   "cell_type": "code",
   "execution_count": null,
   "id": "cell-33",
   "metadata": {},
   "outputs": [],
   "source": [
    "w = torch.tensor(0.0, requires_grad=True)\n",
    "y = (x - w).square().sum()\n",
    "y.backward()\n",
    "print(w.grad)\n"
   ]
  },
  {
   "cell_type": "markdown",
   "id": "33aee682-ffd2-4585-846a-69b25eec6fd4",
   "metadata": {},
   "source": [
    "As we will do this computation several times, we will create a new\n",
    "function `eval_w_squared`."
   ]
  },
  {
   "cell_type": "code",
   "execution_count": null,
   "id": "cell-35",
   "metadata": {},
   "outputs": [],
   "source": [
    "def eval_w_squared(value):\n",
    "    w = torch.tensor(value, requires_grad=True)\n",
    "    y = (x - w).square().sum()\n",
    "    y.backward()\n",
    "    print(f\"sum of squared distances: {y}\")\n",
    "    print(f\"gradient: {w.grad}\")\n",
    "\n",
    "\n",
    "eval_w_squared(0.0)"
   ]
  },
  {
   "cell_type": "markdown",
   "id": "66ab035d-f530-4201-a1f0-040ce57b46ba",
   "metadata": {},
   "source": [
    "So the sum of squared distances when $w=0$ is 613.0, and the gradient\n",
    "value of the sum of squared distances function when $w=0$ is -70. This\n",
    "tells us two things:\n",
    "\n",
    "1.  we are not at an optimum value (because the gradient is not equal to\n",
    "    0)\n",
    "2.  as the gradient is negative, this means that if we increase `w` a\n",
    "    little bit, the value of the sum of squared distances will decrease\n",
    "\n",
    "We want our sum of squared distances to be minimal, so we will try with\n",
    "a greater `w` value, say 2."
   ]
  },
  {
   "cell_type": "code",
   "execution_count": null,
   "id": "cell-37",
   "metadata": {},
   "outputs": [],
   "source": [
    "plot_points1d(x, 2)\n",
    "eval_w_squared(2.0)"
   ]
  },
  {
   "cell_type": "markdown",
   "id": "52ca3795-c308-4c29-81c9-654fae327418",
   "metadata": {},
   "source": [
    "When `w` equals 2, the sum of squared distances is lower, but the\n",
    "gradient value is still negative, so we try again with a greater value."
   ]
  },
  {
   "cell_type": "code",
   "execution_count": null,
   "id": "cell-39",
   "metadata": {},
   "outputs": [],
   "source": [
    "plot_points1d(x, 6)\n",
    "eval_w_squared(6.0)"
   ]
  },
  {
   "cell_type": "markdown",
   "id": "19482b04-646a-4e79-b9a6-4ee15c6ab94c",
   "metadata": {},
   "source": [
    "The sum of squared distances is lower, but the gradient is now positive.\n",
    "This means that if we want our sum of squared distances to be lower, we\n",
    "have to decrease the value of `w`. Let’s try with 5:"
   ]
  },
  {
   "cell_type": "code",
   "execution_count": null,
   "id": "cell-41",
   "metadata": {},
   "outputs": [],
   "source": [
    "plot_points1d(x, 5)\n",
    "eval_w_squared(5.0)"
   ]
  },
  {
   "cell_type": "markdown",
   "id": "65ccb682-902b-43f9-ba3b-c1539149e869",
   "metadata": {},
   "source": [
    "Now our gradient is equal to 0, this means that we are at a local\n",
    "optimum. In fact, 5 is the mean of `x`, which is by definition the value\n",
    "which minimizes the sum of squared distances."
   ]
  },
  {
   "cell_type": "code",
   "execution_count": null,
   "id": "cell-43",
   "metadata": {},
   "outputs": [],
   "source": [
    "x.mean()"
   ]
  },
  {
   "cell_type": "markdown",
   "id": "62c95ad7-90c8-4073-89d7-b8e4d5499866",
   "metadata": {},
   "source": [
    "What we just did here, using gradient values to find a minimum value\n",
    "iteratively, is called a *gradient descent*.\n",
    "\n",
    "**Exercise 3**\n",
    "\n",
    "Create a function `eval_w_abs` which is the same as `eval_w_squared`\n",
    "except that it computes the sum of the absolute values of the\n",
    "differences between `x` elements and `w`.\n",
    "\n",
    "Use this function to do a gradient descent and find the value of `w`\n",
    "that minimizes the sum of the absolute values of differences.\n",
    "\n",
    "What statistical function could be used to find this value directly?\n",
    "\n",
    "## Minimizing a loss function\n",
    "\n",
    "In machine learning or deep learning, a frequent goal is to predict\n",
    "values from input data by adjusting the parameters of a model.\n",
    "\n",
    "For example, the two following python lists give the average temperature\n",
    "by month at the Lyon-Bron weather station in 1924 and in 2024 (source\n",
    "[infoclimat](https://www.infoclimat.fr/stations-meteo/analyses-mensuelles.php?mois=12&annee=2024))."
   ]
  },
  {
   "cell_type": "code",
   "execution_count": null,
   "id": "cell-52",
   "metadata": {},
   "outputs": [],
   "source": [
    "lyon1924 = [3.1, 1.3, 7.7, 11.0, 15.7, 18.0, 20.6, 16.7, 16.2, 11.9, 7.3, 3.4]\n",
    "lyon2024 = [5.3, 8.9, 10.9, 12.5, 15.9, 20.5, 23.3, 24.3, 17.4, 15.8, 8.7, 3.8]"
   ]
  },
  {
   "cell_type": "markdown",
   "id": "7df418dd-ba13-49be-96a1-6cea21220001",
   "metadata": {},
   "source": [
    "Our objective is to predict a 2024 temperature from a 1924 temperature.\n",
    "For this prediction we will use a very simple model: we will add a fixed\n",
    "value to every 1924 temperature in order to be as close as possible to\n",
    "the ones of 2024.\n",
    "\n",
    "With a more formal notation:\n",
    "\n",
    "-   $x$ is our **input data**, *ie* the monthly 1924 temperatures\n",
    "-   $y$ is the **true values** or **target values** we want to predict,\n",
    "    *ie* the monthly 2024 temperatures\n",
    "-   Our model is $y =x + w$, where $w$ is our unique **model parameter**\n",
    "-   We want $w$ to be the value which minimizes the distance between our\n",
    "    predictions and the true values\n",
    "\n",
    "We will start with a $w$ value of 0."
   ]
  },
  {
   "cell_type": "code",
   "execution_count": null,
   "id": "cell-54",
   "metadata": {},
   "outputs": [],
   "source": [
    "x = torch.tensor(lyon1924)\n",
    "y = torch.tensor(lyon2024)\n",
    "w = torch.tensor(0.0, requires_grad=True)"
   ]
  },
  {
   "cell_type": "markdown",
   "id": "152dbf0c-1692-442d-8ecf-5ca96b9225bf",
   "metadata": {},
   "source": [
    "We can compute what our predicted values would be after applying our\n",
    "model, *ie* after computing $x + w$. These values are called the\n",
    "*predictions*. We want them to be as close as possible to the target\n",
    "values in $y$, so we compute a distance between $x + w$ and $y$ by\n",
    "summing the squared values of the distance between their elements.\n",
    "\n",
    "We call this distance the **loss** function, the one we want to\n",
    "minimize.\n",
    "\n",
    "Here is the loss value for $w = 0$."
   ]
  },
  {
   "cell_type": "code",
   "execution_count": null,
   "id": "cell-56",
   "metadata": {},
   "outputs": [],
   "source": [
    "y_pred = x + w\n",
    "loss = torch.sum(torch.square(y_pred - y))\n",
    "print(f\"loss: {loss}\")"
   ]
  },
  {
   "cell_type": "markdown",
   "id": "b2b6ff63-bb8c-4130-86b4-4e6cfaa6c946",
   "metadata": {},
   "source": [
    "As we have already seen, with pytorch we can apply `backward` to our\n",
    "loss result and `w` will then have a new `grad` attribute: this\n",
    "attribute is the gradient value of our loss function when `w` equals 0."
   ]
  },
  {
   "cell_type": "code",
   "execution_count": null,
   "id": "cell-58",
   "metadata": {},
   "outputs": [],
   "source": [
    "loss.backward()\n",
    "print(f\"Gradient value: {w.grad.item()}\")  # type: ignore"
   ]
  },
  {
   "cell_type": "markdown",
   "id": "1d13e6dd-7993-40a1-b025-9d7f2cc5fd8a",
   "metadata": {},
   "source": [
    "As we will repeat them several times, we will put these three steps\n",
    "(computing the predictions, the loss value and the gradient) in a\n",
    "function."
   ]
  },
  {
   "cell_type": "code",
   "execution_count": null,
   "id": "cell-60",
   "metadata": {},
   "outputs": [],
   "source": [
    "def eval_weight(w):\n",
    "    w = torch.tensor(w, requires_grad=True)\n",
    "    y_pred = x + w\n",
    "    loss = torch.sum(torch.square(y_pred - y))\n",
    "    loss.backward()\n",
    "    print(f\"loss: {loss}, gradient: {w.grad.item()}\")  # type: ignore\n",
    "\n",
    "\n",
    "eval_weight(0.0)"
   ]
  },
  {
   "cell_type": "markdown",
   "id": "eb8e9a47-4bc9-484b-9e7e-d7fd8be887f7",
   "metadata": {},
   "source": [
    "As seen above, the gradient value gives the direction in which $w$ must\n",
    "go for the loss to raise. In this case, the gradient is negative so if\n",
    "we decrease $w$, the loss will increase. As we want to minimize the\n",
    "loss, we want to go **in the opposite direction** of the gradient, and\n",
    "thus we want to increase $w$.\n",
    "\n",
    "Let’s try with $w = 2$."
   ]
  },
  {
   "cell_type": "code",
   "execution_count": null,
   "id": "cell-62",
   "metadata": {},
   "outputs": [],
   "source": [
    "eval_weight(2.0)"
   ]
  },
  {
   "cell_type": "markdown",
   "id": "8bf71d1d-05b2-484e-ab4f-d65454de8b2a",
   "metadata": {},
   "source": [
    "The gradient is still negative, so to minimize the loss we will have to\n",
    "increase $w$."
   ]
  },
  {
   "cell_type": "code",
   "execution_count": null,
   "id": "cell-64",
   "metadata": {},
   "outputs": [],
   "source": [
    "eval_weight(3.0)"
   ]
  },
  {
   "cell_type": "markdown",
   "id": "f3ace1d1-c51d-42f0-84f4-8cd41e099934",
   "metadata": {},
   "source": [
    "This time the gradient is positive, so to lower the loss we will have to\n",
    "decrease $w$."
   ]
  },
  {
   "cell_type": "code",
   "execution_count": null,
   "id": "cell-66",
   "metadata": {},
   "outputs": [],
   "source": [
    "eval_weight(2.8)"
   ]
  },
  {
   "cell_type": "markdown",
   "id": "de859610-4b57-41aa-b0c5-204377bda4e5",
   "metadata": {},
   "source": [
    "If we continue this process, we will be closer and closer from the value\n",
    "of $w$ for which the loss is minimal. In fact we could have computed\n",
    "this value directly by getting the mean of the differences between $x$\n",
    "and $y$:"
   ]
  },
  {
   "cell_type": "code",
   "execution_count": null,
   "id": "cell-68",
   "metadata": {},
   "outputs": [],
   "source": [
    "torch.mean(y - x)"
   ]
  },
  {
   "cell_type": "markdown",
   "id": "a8f4729b-2cd0-48e9-9469-1853fbfc3eab",
   "metadata": {},
   "source": [
    "## Automating the gradient descent process\n",
    "\n",
    "Until now we did the gradient descent “manually”, by selecting new\n",
    "values based on the sign of the gradient at the current value. We will\n",
    "now see how to automate this process a bit more.\n",
    "\n",
    "As a convention, the prediction phase will be defined in a function\n",
    "called `forward`, which takes our input data as argument (here our `x`\n",
    "tensor) and applies transformative operations to compute the predicted\n",
    "values.\n",
    "\n",
    "To reuse our previous temperatures example, we define our input data\n",
    "`x`, our true values `y`, our model parameter `w`, and a `forward`\n",
    "method which computes predictions by applying our model, *ie* by\n",
    "computing $x + w$."
   ]
  },
  {
   "cell_type": "code",
   "execution_count": null,
   "id": "cell-70",
   "metadata": {},
   "outputs": [],
   "source": [
    "lyon1924 = [3.1, 1.3, 7.7, 11.0, 15.7, 18.0, 20.6, 16.7, 16.2, 11.9, 7.3, 3.4]\n",
    "lyon2024 = [5.3, 8.9, 10.9, 12.5, 15.9, 20.5, 23.3, 24.3, 17.4, 15.8, 8.7, 3.8]\n",
    "\n",
    "x = torch.tensor(lyon1924)\n",
    "y = torch.tensor(lyon2024)\n",
    "\n",
    "w = torch.tensor(0.0, requires_grad=True)\n",
    "\n",
    "\n",
    "def forward(x):\n",
    "    return x + w\n"
   ]
  },
  {
   "cell_type": "markdown",
   "id": "daffdbbf-5eea-4b6d-b99e-9302fd37f38a",
   "metadata": {},
   "source": [
    "Next we define our loss function, *ie* a measure of “distance” between\n",
    "our predicted values and the true values. This loss function can be\n",
    "defined manually (as we did previously), but we can also use predefined\n",
    "loss functions provided by pytorch. For example, our loss could use\n",
    "`torch.nn.MSELoss`, which computes the mean squared error."
   ]
  },
  {
   "cell_type": "code",
   "execution_count": null,
   "id": "cell-72",
   "metadata": {},
   "outputs": [],
   "source": [
    "loss_fn = torch.nn.MSELoss()"
   ]
  },
  {
   "cell_type": "markdown",
   "id": "a4acd3a8-4698-4d57-b2b2-4a86356d41ef",
   "metadata": {},
   "source": [
    "As we did above, the basis of a training step will be to apply `forward`\n",
    "to `x` to compute predictions given the current `w` value, compute the\n",
    "corresponding loss, and then call `backward` to compute the gradient of\n",
    "the loss function given `w`."
   ]
  },
  {
   "cell_type": "code",
   "execution_count": null,
   "id": "cell-74",
   "metadata": {},
   "outputs": [],
   "source": [
    "y_pred = forward(x)\n",
    "loss = loss_fn(y_pred, y)\n",
    "loss.backward()\n",
    "print(f\"loss: {loss}, gradient for w: {w.grad.item()}\")  # type: ignore"
   ]
  },
  {
   "cell_type": "markdown",
   "id": "9bea2198-7bf3-45fd-b5cd-de0bc57db400",
   "metadata": {},
   "source": [
    "To complete this step and make it a real “training”, we will have to\n",
    "adjust the value of $w$ in the direction opposite to its gradient. The\n",
    "simplest way to do it is to substract from $w$ its gradient value\n",
    "multiplied by a factor called the step size, or **learning rate**."
   ]
  },
  {
   "cell_type": "code",
   "execution_count": null,
   "id": "cell-76",
   "metadata": {},
   "outputs": [],
   "source": [
    "step_size = 0.3\n",
    "w.data = w.data - step_size * w.grad  # type: ignore"
   ]
  },
  {
   "cell_type": "markdown",
   "id": "639b2a3f-bd22-48e6-bba0-85d58cb32a2e",
   "metadata": {},
   "source": [
    "To run the training process, we have to apply these operations a certain\n",
    "number of times called **epochs**: we can use a `for` loop to do this.\n",
    "Note that at the end of each training step we have to “reset” the\n",
    "gradient of `w` by calling `w.grad.zero_`."
   ]
  },
  {
   "cell_type": "code",
   "execution_count": null,
   "id": "cell-78",
   "metadata": {},
   "outputs": [],
   "source": [
    "epochs = 5\n",
    "for epoch in range(epochs):\n",
    "    y_pred = forward(x)\n",
    "    loss = loss_fn(y_pred, y)\n",
    "    loss.backward()\n",
    "    w.data = w.data - step_size * w.grad  # type: ignore\n",
    "    print(\n",
    "        f\"epoch: {epoch}, loss: {loss:.3f}, gradient: {w.grad.item():.3f}, w: {w.data.item():.4f}\"  # type: ignore\n",
    "    )\n",
    "    w.grad.zero_()  # type: ignore"
   ]
  },
  {
   "cell_type": "markdown",
   "id": "23d3fe46-ce52-423e-93fe-abb006d2b7fa",
   "metadata": {},
   "source": [
    "So here is the complete code of our training process. If we run it for a\n",
    "few epochs we can see that it converges towards the $w$ value that\n",
    "minimizes the loss."
   ]
  },
  {
   "cell_type": "code",
   "execution_count": null,
   "id": "cell-80",
   "metadata": {},
   "outputs": [],
   "source": [
    "# Raw data\n",
    "lyon1924 = [3.1, 1.3, 7.7, 11.0, 15.7, 18.0, 20.6, 16.7, 16.2, 11.9, 7.3, 3.4]\n",
    "lyon2024 = [5.3, 8.9, 10.9, 12.5, 15.9, 20.5, 23.3, 24.3, 17.4, 15.8, 8.7, 3.8]\n",
    "\n",
    "# Input data tensor\n",
    "x = torch.tensor(lyon1924)\n",
    "# True values tensor\n",
    "y = torch.tensor(lyon2024)\n",
    "\n",
    "# Loss function\n",
    "loss_fn = torch.nn.MSELoss()\n",
    "\n",
    "# Number of training steps\n",
    "epochs = 10\n",
    "# Learning rate\n",
    "step_size = 0.3\n",
    "\n",
    "# Model parameter\n",
    "w = torch.tensor(0.0, requires_grad=True)\n",
    "\n",
    "\n",
    "# Method to apply our model, ie compute predicted values from input data\n",
    "def forward(x):\n",
    "    return x + w\n",
    "\n",
    "\n",
    "# Training process\n",
    "for epoch in range(epochs):\n",
    "    # Compute predictions\n",
    "    y_pred = forward(x)\n",
    "    # Compute loss (distance between predictions and targets)\n",
    "    loss = loss_fn(y_pred, y)\n",
    "    # Backpropagate to compute parameters gradient\n",
    "    loss.backward()\n",
    "    # Adjust parameter value\n",
    "    w.data = w.data - step_size * w.grad  # type: ignore\n",
    "    print(\n",
    "        f\"epoch: {epoch}, loss: {loss:.3f}, gradient: {w.grad.item():.3f}, w: {w.data.item():.4f}\"  # type: ignore\n",
    "    )\n",
    "    # Reset parameter gradient\n",
    "    w.grad.zero_()  # type: ignore"
   ]
  },
  {
   "cell_type": "markdown",
   "id": "7db4e75e-f8cd-4c8c-9eaf-c07a594e666d",
   "metadata": {},
   "source": [
    "**Exercise 4**\n",
    "\n",
    "We have two python lists which give the measured diameters and\n",
    "perimeters of a certain number of circles.\n",
    "\n",
    "Use Pytorch to run a training process to find the best value of the\n",
    "parameter `w` which allows to predict the perimeters from the diameters.\n",
    "The model to compute the predicted values will $x = y \\times w$.\n",
    "\n",
    "*Hint*: you can use a step size of 0.01."
   ]
  },
  {
   "cell_type": "code",
   "execution_count": null,
   "id": "cell-82",
   "metadata": {},
   "outputs": [],
   "source": [
    "diameters = [1.4, 2.5, 2.0, 4.8, 4.7, 5.2, 1.3, 2.1, 8.3, 7.4]\n",
    "perimeters = [4.4, 7.9, 6.3, 15.1, 14.8, 16.3, 4.1, 6.6, 26.1, 23.2]"
   ]
  }
 ],
 "metadata": {
  "kernelspec": {
   "display_name": ".venv",
   "language": "python",
   "name": "python3"
  },
  "language_info": {
   "codemirror_mode": {
    "name": "ipython",
    "version": "3"
   },
   "file_extension": ".py",
   "mimetype": "text/x-python",
   "name": "python",
   "nbconvert_exporter": "python",
   "pygments_lexer": "ipython3",
   "version": "3.12.9"
  }
 },
 "nbformat": 4,
 "nbformat_minor": 5
}
