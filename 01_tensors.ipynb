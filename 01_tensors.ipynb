{
 "cells": [
  {
   "cell_type": "markdown",
   "id": "408c7b98-4722-4788-8ed0-e9c4c657f660",
   "metadata": {},
   "source": [
    "# Tensors\n",
    "\n",
    "**Note :** to use this notebook in Google Colab, create a new cell with\n",
    "the following line and run it.\n",
    "\n",
    "``` shell\n",
    "!pip install git+https://gitlab.in2p3.fr/jbarnier/ateliers_deep_learning.git\n",
    "```"
   ]
  },
  {
   "cell_type": "code",
   "execution_count": null,
   "id": "cell-2",
   "metadata": {},
   "outputs": [],
   "source": [
    "import torch\n",
    "\n",
    "from adl.tensors import plot_points1d"
   ]
  },
  {
   "cell_type": "markdown",
   "id": "98d201a9-f1e8-4450-a7e8-6fea2327d149",
   "metadata": {},
   "source": [
    "Tensors are one of the basic data structures in pytorch. Basically they\n",
    "are numerical arrays that can be processed by different type of devices\n",
    "(CPU, GPU…).\n",
    "\n",
    "A tensor can be created from a Python list."
   ]
  },
  {
   "cell_type": "code",
   "execution_count": null,
   "id": "cell-4",
   "metadata": {},
   "outputs": [],
   "source": [
    "python_list = [3.0, 5.0, -4.0]\n",
    "x = torch.tensor(python_list)\n",
    "x"
   ]
  },
  {
   "cell_type": "markdown",
   "id": "25cf7be4-19eb-4598-83e5-5a691f01a887",
   "metadata": {},
   "source": [
    "Computations on tensors are *vectorized*, which means that operations\n",
    "are performed on the entire tensor at once. For example, adding a value\n",
    "to a tensor will add it to each of its elements."
   ]
  },
  {
   "cell_type": "code",
   "execution_count": null,
   "id": "cell-6",
   "metadata": {},
   "outputs": [],
   "source": [
    "x = torch.tensor([3.0, 5.0, -4.0])\n",
    "print(x + 4)"
   ]
  },
  {
   "cell_type": "code",
   "execution_count": null,
   "id": "cell-7",
   "metadata": {},
   "outputs": [],
   "source": [
    "y = torch.tensor([1.0, 2.0, 3.0])\n",
    "print(x - y)"
   ]
  },
  {
   "cell_type": "markdown",
   "id": "e294edcd-afea-40d2-9550-128fb1164b52",
   "metadata": {},
   "source": [
    "Pytorch provides numerous functions to compute on tensors. In general\n",
    "they can be called either as a pytorch function or as a tensor method."
   ]
  },
  {
   "cell_type": "code",
   "execution_count": null,
   "id": "cell-9",
   "metadata": {},
   "outputs": [],
   "source": [
    "print(x.mean())\n",
    "print(torch.mean(x))"
   ]
  },
  {
   "cell_type": "markdown",
   "id": "d90bb31b-c6e0-464d-9ead-7021efd2fe83",
   "metadata": {},
   "source": [
    "**Exercise 1**\n",
    "\n",
    "A temperature in Fahrenheit can be converted in Celsius with the\n",
    "following formula:\n",
    "\n",
    "$$T_{\\textrm{Celsius}} = (T_{\\textrm{Fahrenheit}} - 32) \\times \\frac{5}{9}$$\n",
    "\n",
    "Create a Python function called `fahrenheit_to_celsius` which takes a\n",
    "Fahrenheit temperatures tensor as input and returns its value in\n",
    "Celsius. Apply the function to a tensor with the values\n",
    "`[0, 32, 50, 100]`.\n",
    "\n",
    "## Tensors gradients\n",
    "\n",
    "When creating a tensor, if we specify `requires_grad=True` then every\n",
    "object created by applying a `torch` operation to it will itself be a\n",
    "tensor which keeps track of the functions to apply to compute the\n",
    "gradient of these operations."
   ]
  },
  {
   "cell_type": "code",
   "execution_count": null,
   "id": "cell-16",
   "metadata": {},
   "outputs": [],
   "source": [
    "w1 = torch.tensor(1.0, requires_grad=True)\n",
    "w1_add = w1 + 4\n",
    "w1_add\n"
   ]
  },
  {
   "cell_type": "code",
   "execution_count": null,
   "id": "cell-17",
   "metadata": {},
   "outputs": [],
   "source": [
    "w2 = torch.tensor(2.0, requires_grad=True)\n",
    "step1 = w2 + 4\n",
    "step2 = torch.square(step1)\n",
    "print(step1)\n",
    "print(step2)\n"
   ]
  },
  {
   "cell_type": "markdown",
   "id": "9870753b-cb4e-4d1d-800a-5ab50ac029e7",
   "metadata": {},
   "source": [
    "Input tensor gradients can then be computed by applying the `backward()`\n",
    "method to an output tensor. They are stored as the `grad` attribute of\n",
    "the input tensors."
   ]
  },
  {
   "cell_type": "code",
   "execution_count": null,
   "id": "cell-19",
   "metadata": {},
   "outputs": [],
   "source": [
    "w3 = torch.tensor(1.0, requires_grad=True)\n",
    "w3_mult = 2 * w3 + 1\n",
    "w3_mult.backward()\n",
    "print(w3.grad)\n"
   ]
  },
  {
   "cell_type": "markdown",
   "id": "0b1f5e51-9e14-4204-9bb5-4c4c984050ab",
   "metadata": {},
   "source": [
    "This result can be read as “the gradient value of the function which\n",
    "computes `w3_mult` from `w3`, when `w3` equals 1”. Here the function is\n",
    "`2*w3 + 1`, so its gradient is always 2.\n",
    "\n",
    "If several functions are applied to a tensor, pytorch will keep track of\n",
    "them and compute the gradient value of the original tensor accordingly."
   ]
  },
  {
   "cell_type": "code",
   "execution_count": null,
   "id": "cell-21",
   "metadata": {},
   "outputs": [],
   "source": [
    "step2.backward()\n",
    "print(w2.grad)"
   ]
  },
  {
   "cell_type": "markdown",
   "id": "88ae62b8-0ae0-4515-9309-a9a82cfbbb50",
   "metadata": {},
   "source": [
    "This result can be read as “the gradient value of the function which\n",
    "computes `step2` from `w2`, when `w2` equals 2”. Here the function is\n",
    "`(w2 + 4)²`, so its gradient function is `2*w2 + 8`, and the value of\n",
    "this function when `w2` equals 2 is 12.\n",
    "\n",
    "**Exercise 2**\n",
    "\n",
    "Using tensors:\n",
    "\n",
    "-   compute the gradient of the function $1 /\\log{x}$ when $x$ is 10.\n",
    "-   compute the gradient of the function `fahrenheit_to_celsius` defined\n",
    "    in the previous exercise, when $t$ is 0\n",
    "\n",
    "When the gradient is computed on a function which only takes one\n",
    "parameter, it is the same thing as the value of the derivative of the\n",
    "function for a given parameter value.\n",
    "\n",
    "When the function takes several arguments, each argument `grad` value is\n",
    "the partial derivative of the function at the given argument value. The\n",
    "gradient of the function is the set of partial derivatives for all its\n",
    "arguments.\n",
    "\n",
    "To illustrate this, in the following example:\n",
    "\n",
    "-   `x1.grad` is the partial derivative of $x_1 / x_2$ over $x_1$ when\n",
    "    $x_1 = 3$ and $x_2 = 5$.\n",
    "-   `x2.grad` is the partial derivative of $x_1 / x_2$ over $x_2$ when\n",
    "    $x_1 = 3$ and $x_2 = 5$.\n",
    "-   `(x1.grad, x2.grad)` is the gradient of $x_1 / x_2$ when $x_1 = 3$\n",
    "    and $x_2 = 5$."
   ]
  },
  {
   "cell_type": "code",
   "execution_count": null,
   "id": "cell-29",
   "metadata": {},
   "outputs": [],
   "source": [
    "x1 = torch.tensor(3.0, requires_grad=True)\n",
    "x2 = torch.tensor(5.0, requires_grad=True)\n",
    "res = x1 / x2\n",
    "res.backward()\n",
    "print(x1.grad, x2.grad)\n"
   ]
  },
  {
   "cell_type": "markdown",
   "id": "58bfc31f-c949-417a-a846-3a8b84165772",
   "metadata": {},
   "source": [
    "**Exercise 3**\n",
    "\n",
    "-   Create a function named `test_fn` which takes two arguments `x1` and\n",
    "    `x2` and computes $\\sqrt{x_1} / e^{x_2}$.\n",
    "-   Compute the gradient of `test_fn` when $x_1 = 1$ and $x_2 = 2$\n",
    "\n",
    "## Gradient descent\n",
    "\n",
    "Imagine we have a tensor `x` of 6 numerical values."
   ]
  },
  {
   "cell_type": "code",
   "execution_count": null,
   "id": "cell-35",
   "metadata": {},
   "outputs": [],
   "source": [
    "x = torch.tensor([-5.0, -2.0, 1.0, 3.0, 5.0, 15.0, 18.0])"
   ]
  },
  {
   "cell_type": "markdown",
   "id": "66af8afd-4aa1-4b9a-843b-3bd043f67ad6",
   "metadata": {},
   "source": [
    "Using a predefined function, we plot these values along an axis."
   ]
  },
  {
   "cell_type": "code",
   "execution_count": null,
   "id": "cell-37",
   "metadata": {},
   "outputs": [],
   "source": [
    "plot_points1d(x)"
   ]
  },
  {
   "cell_type": "markdown",
   "id": "ebd2dfa7-5f29-4cb5-b583-c402869c45f6",
   "metadata": {},
   "source": [
    "Now suppose we want to find the value of a parameter `w` for which the\n",
    "sum of the squared distances between the values of `x` and `w` is\n",
    "minimal.\n",
    "\n",
    "For example, we could start with an arbitrary value of `w` at zero."
   ]
  },
  {
   "cell_type": "code",
   "execution_count": null,
   "id": "cell-39",
   "metadata": {},
   "outputs": [],
   "source": [
    "plot_points1d(x, 0)"
   ]
  },
  {
   "cell_type": "markdown",
   "id": "11a420b7-7797-461f-82a9-49c27bf48115",
   "metadata": {},
   "source": [
    "To see if our current value for $w=0$ is minimal, we can compute the\n",
    "gradient of the function that computes the sum of squared distances\n",
    "between `x` values and `w` when $w=0$.\n",
    "\n",
    "We already saw how to do that with pytorch:"
   ]
  },
  {
   "cell_type": "code",
   "execution_count": null,
   "id": "cell-41",
   "metadata": {},
   "outputs": [],
   "source": [
    "w = torch.tensor(0.0, requires_grad=True)\n",
    "y = (x - w).square().sum()\n",
    "y.backward()\n",
    "print(w.grad)\n"
   ]
  },
  {
   "cell_type": "markdown",
   "id": "c6471a89-c318-416f-86bb-dae92b41ca28",
   "metadata": {},
   "source": [
    "As we will do this computation several times, we will create a new\n",
    "function `eval_w_squared`."
   ]
  },
  {
   "cell_type": "code",
   "execution_count": null,
   "id": "cell-43",
   "metadata": {},
   "outputs": [],
   "source": [
    "def eval_w_squared(w_value):\n",
    "    x = torch.tensor([-5.0, -2.0, 1.0, 3.0, 5.0, 15.0, 18.0])\n",
    "    w = torch.tensor(w_value, requires_grad=True)\n",
    "    y = (x - w).square().sum()\n",
    "    y.backward()\n",
    "    print(f\"Sum of squared distances: {y}\")\n",
    "    print(f\"Gradient: {w.grad}\")\n",
    "\n",
    "\n",
    "eval_w_squared(0.0)"
   ]
  },
  {
   "cell_type": "markdown",
   "id": "c0017ad5-3853-4cbe-a13a-e477c8480de3",
   "metadata": {},
   "source": [
    "So the sum of squared distances when $w=0$ is 613.0, and its gradient\n",
    "value is -70. This tells us two things:\n",
    "\n",
    "1.  we are not at an optimum value, because the gradient is not equal to\n",
    "    0\n",
    "2.  the gradient value gives us the “direction” in which we have to\n",
    "    adjust our parameter value if we want our function to increase. When\n",
    "    $w=0$ the gradient value is negative, which means that if we\n",
    "    decrease the value of $w$ a bit, the sum of squared distances will\n",
    "    go up. In the contrary, if we increase $w$ a bit, the sum of squared\n",
    "    distances will go down.\n",
    "\n",
    "We want our sum of squared distances to be minimal, so we will try with\n",
    "a greater `w` value, say 2."
   ]
  },
  {
   "cell_type": "code",
   "execution_count": null,
   "id": "cell-45",
   "metadata": {},
   "outputs": [],
   "source": [
    "plot_points1d(x, 2)\n",
    "eval_w_squared(2.0)"
   ]
  },
  {
   "cell_type": "markdown",
   "id": "55832966-60b9-460f-aa16-7fa7a3648f53",
   "metadata": {},
   "source": [
    "When $w=2$, the sum of squared distances is lower, but the gradient\n",
    "value is still negative, so we try again with a greater value."
   ]
  },
  {
   "cell_type": "code",
   "execution_count": null,
   "id": "cell-47",
   "metadata": {},
   "outputs": [],
   "source": [
    "plot_points1d(x, 6)\n",
    "eval_w_squared(6.0)"
   ]
  },
  {
   "cell_type": "markdown",
   "id": "cb3499c3-68de-471f-be9d-0ecdb9fa5b9c",
   "metadata": {},
   "source": [
    "When $w=6$ the sum of squared distances is lower, but the gradient is\n",
    "now positive. This means that if we want our sum of squared distances to\n",
    "go down, we have to decrease the value of `w`. Let’s try with 5:"
   ]
  },
  {
   "cell_type": "code",
   "execution_count": null,
   "id": "cell-49",
   "metadata": {},
   "outputs": [],
   "source": [
    "plot_points1d(x, 5)\n",
    "eval_w_squared(5.0)"
   ]
  },
  {
   "cell_type": "markdown",
   "id": "3e01b6b4-42ae-4322-ac27-2556a2d28349",
   "metadata": {},
   "source": [
    "Now our gradient is equal to 0, this means that we may be at a local\n",
    "optimum.\n",
    "\n",
    "In fact, 5 is the mean of `x`, which is by definition the value which\n",
    "minimizes the sum of squared distances."
   ]
  },
  {
   "cell_type": "code",
   "execution_count": null,
   "id": "cell-51",
   "metadata": {},
   "outputs": [],
   "source": [
    "x.mean()"
   ]
  },
  {
   "cell_type": "markdown",
   "id": "01c49471-8632-4e82-87a4-b7d0d5b11b61",
   "metadata": {},
   "source": [
    "What we just did here, using gradient values to find a minimum value\n",
    "iteratively, is called a *gradient descent*.\n",
    "\n",
    "**Exercise 4**\n",
    "\n",
    "Create a function `eval_w_abs` which is the same as `eval_w_squared`\n",
    "except that it computes the sum of the absolute values of the\n",
    "differences between `x` elements and `w`.\n",
    "\n",
    "Use this function to do a gradient descent and find the value of `w`\n",
    "that minimizes the sum of the absolute values of differences.\n",
    "\n",
    "What statistical function could have been used to find this value\n",
    "directly?\n",
    "\n",
    "## Minimizing a loss function\n",
    "\n",
    "In machine learning or deep learning, a frequent goal is to predict\n",
    "values from input data by adjusting the parameters of a model.\n",
    "\n",
    "For example, the two following python lists give the average temperature\n",
    "by month at the Lyon-Bron weather station in 1924 and in 2024 (source\n",
    "[infoclimat](https://www.infoclimat.fr/stations-meteo/analyses-mensuelles.php?mois=12&annee=2024))."
   ]
  },
  {
   "cell_type": "code",
   "execution_count": null,
   "id": "cell-60",
   "metadata": {},
   "outputs": [],
   "source": [
    "lyon1924 = [3.1, 1.3, 7.7, 11.0, 15.7, 18.0, 20.6, 16.7, 16.2, 11.9, 7.3, 3.4]\n",
    "lyon2024 = [5.3, 8.9, 10.9, 12.5, 15.9, 20.5, 23.3, 24.3, 17.4, 15.8, 8.7, 3.8]"
   ]
  },
  {
   "cell_type": "markdown",
   "id": "e35b6e35-7b51-4269-92aa-3554d7a57edb",
   "metadata": {},
   "source": [
    "Our objective is to predict a 2024 temperature from a 1924 temperature.\n",
    "For this prediction we will use a very simple model: we will add a fixed\n",
    "value to every 1924 temperature in order to be as close as possible to\n",
    "the ones of 2024.\n",
    "\n",
    "With a more formal notation:\n",
    "\n",
    "-   $x$ is our **input data**, *ie* the monthly 1924 temperatures\n",
    "-   $y$ is the **true values** or **target values** we want to predict,\n",
    "    *ie* the monthly 2024 temperatures\n",
    "-   Our model is $y =x + w$, where $w$ is our unique **model parameter**\n",
    "-   We want $w$ to be the value which minimizes the distance between our\n",
    "    predictions and the true values\n",
    "\n",
    "We will start with a $w$ value of 0."
   ]
  },
  {
   "cell_type": "code",
   "execution_count": null,
   "id": "cell-62",
   "metadata": {},
   "outputs": [],
   "source": [
    "x = torch.tensor(lyon1924)\n",
    "y = torch.tensor(lyon2024)\n",
    "w = torch.tensor(0.0, requires_grad=True)"
   ]
  },
  {
   "cell_type": "markdown",
   "id": "25c65932-14b9-4e82-98b8-c20c9f3edd3e",
   "metadata": {},
   "source": [
    "We can compute what our predicted values would be after applying our\n",
    "model, *ie* after computing $x + w$. These values are called the\n",
    "*predictions*."
   ]
  },
  {
   "cell_type": "code",
   "execution_count": null,
   "id": "cell-64",
   "metadata": {},
   "outputs": [],
   "source": [
    "y_pred = x + w"
   ]
  },
  {
   "cell_type": "markdown",
   "id": "dfd13b56-4bd7-4283-9d1e-39b16d703c12",
   "metadata": {},
   "source": [
    "We want these predictions to be as close as possible to the target\n",
    "values, so we compute a distance between $x + w$ and $y$ by taking the\n",
    "mean of the squared distance between their elements.\n",
    "\n",
    "We call this distance the **loss** function, the one we want to\n",
    "minimize.\n",
    "\n",
    "Here is the loss value for $w = 0$."
   ]
  },
  {
   "cell_type": "code",
   "execution_count": null,
   "id": "cell-66",
   "metadata": {},
   "outputs": [],
   "source": [
    "y_pred = x + w\n",
    "loss = torch.mean(torch.square(y_pred - y))\n",
    "print(f\"loss: {loss}\")"
   ]
  },
  {
   "cell_type": "markdown",
   "id": "e7710afb-f6d1-4ed8-afd3-a66e6ea5ab35",
   "metadata": {},
   "source": [
    "As we have already seen, with pytorch we can apply `backward` to our\n",
    "loss result and `w` will then have a new `grad` attribute: this\n",
    "attribute is the gradient value of our loss function when $w=0$."
   ]
  },
  {
   "cell_type": "code",
   "execution_count": null,
   "id": "cell-68",
   "metadata": {},
   "outputs": [],
   "source": [
    "loss.backward()\n",
    "print(f\"Gradient value: {w.grad.item()}\")  # type: ignore"
   ]
  },
  {
   "cell_type": "markdown",
   "id": "e7ccff98-b319-4f5c-a6c5-842256e15c12",
   "metadata": {},
   "source": [
    "As we will repeat them several times, we will put these three steps\n",
    "(computing the predictions, the loss value and the gradient) in a\n",
    "function `eval_weight`."
   ]
  },
  {
   "cell_type": "code",
   "execution_count": null,
   "id": "cell-70",
   "metadata": {},
   "outputs": [],
   "source": [
    "def eval_weight(x, y, w_value):\n",
    "    w = torch.tensor(w_value, requires_grad=True)\n",
    "    y_pred = x + w\n",
    "    loss = torch.mean(torch.square(y_pred - y))\n",
    "    loss.backward()\n",
    "    print(f\"loss: {loss}, gradient: {w.grad.item()}\")  # type: ignore\n",
    "\n",
    "\n",
    "eval_weight(x, y, 0.0)"
   ]
  },
  {
   "cell_type": "markdown",
   "id": "5b9096ed-f73d-45dc-b267-eaa02744aa8c",
   "metadata": {},
   "source": [
    "As seen above, the gradient value gives the direction in which $w$ must\n",
    "go for the loss to raise. In this case, the gradient is negative so if\n",
    "we decrease $w$, the loss will increase. As we want to minimize the\n",
    "loss, we want to go **in the opposite direction** of the gradient, and\n",
    "thus we want to increase $w$.\n",
    "\n",
    "Let’s try with $w = 2$."
   ]
  },
  {
   "cell_type": "code",
   "execution_count": null,
   "id": "cell-72",
   "metadata": {},
   "outputs": [],
   "source": [
    "eval_weight(x, y, 2.0)"
   ]
  },
  {
   "cell_type": "markdown",
   "id": "05789d7d-285c-4c5d-a79a-f47195129af4",
   "metadata": {},
   "source": [
    "The gradient is still negative, so to minimize the loss we will have to\n",
    "increase $w$."
   ]
  },
  {
   "cell_type": "code",
   "execution_count": null,
   "id": "cell-74",
   "metadata": {},
   "outputs": [],
   "source": [
    "eval_weight(x, y, 3.0)"
   ]
  },
  {
   "cell_type": "markdown",
   "id": "c3b0a6fd-a222-44ea-b45c-f242b4b4be22",
   "metadata": {},
   "source": [
    "This time the gradient is positive, so to lower the loss we will have to\n",
    "decrease $w$."
   ]
  },
  {
   "cell_type": "code",
   "execution_count": null,
   "id": "cell-76",
   "metadata": {},
   "outputs": [],
   "source": [
    "eval_weight(x, y, 2.8)"
   ]
  },
  {
   "cell_type": "markdown",
   "id": "d2123632-2552-4072-9ce1-2606dda4f26d",
   "metadata": {},
   "source": [
    "If we continue this process, we will get closer and closer to the value\n",
    "of $w$ for which the loss is minimal. In fact we could have computed\n",
    "this value directly by getting the mean of the differences between $x$\n",
    "and $y$:"
   ]
  },
  {
   "cell_type": "code",
   "execution_count": null,
   "id": "cell-78",
   "metadata": {},
   "outputs": [],
   "source": [
    "torch.mean(y - x)"
   ]
  },
  {
   "cell_type": "markdown",
   "id": "21a9b2e4-0703-433e-84fb-de8d4bbeb273",
   "metadata": {},
   "source": [
    "## Automating the gradient descent process\n",
    "\n",
    "Until now we did the gradient descent “manually”, by selecting new\n",
    "values based on the sign of the gradient at the current value. We will\n",
    "now see how to automate this process a bit more.\n",
    "\n",
    "As a convention, the prediction phase will be defined in a function\n",
    "called `forward`, which takes our input data as argument (here our `x`\n",
    "tensor) and applies transformative operations (our model) to compute the\n",
    "predicted values.\n",
    "\n",
    "To reuse our previous temperatures example, we define our input data\n",
    "`x`, our true values `y`, our model parameter `w`, and a `forward`\n",
    "method which computes predictions by applying our model, *ie* by\n",
    "computing $x + w$."
   ]
  },
  {
   "cell_type": "code",
   "execution_count": null,
   "id": "cell-80",
   "metadata": {},
   "outputs": [],
   "source": [
    "lyon1924 = [3.1, 1.3, 7.7, 11.0, 15.7, 18.0, 20.6, 16.7, 16.2, 11.9, 7.3, 3.4]\n",
    "lyon2024 = [5.3, 8.9, 10.9, 12.5, 15.9, 20.5, 23.3, 24.3, 17.4, 15.8, 8.7, 3.8]\n",
    "\n",
    "x = torch.tensor(lyon1924)\n",
    "y = torch.tensor(lyon2024)\n",
    "\n",
    "w = torch.tensor(0.0, requires_grad=True)\n",
    "\n",
    "\n",
    "def forward(x):\n",
    "    return x + w\n"
   ]
  },
  {
   "cell_type": "markdown",
   "id": "4937b937-f495-40ab-b7f4-b8189e91dc38",
   "metadata": {},
   "source": [
    "Next we define our loss function, *ie* a measure of “distance” between\n",
    "our predicted values and the true values. This loss function can be\n",
    "defined manually (as we did previously), but we can also use predefined\n",
    "loss functions provided by pytorch. For example, our loss could use\n",
    "`torch.nn.MSELoss`, which computes the mean squared error."
   ]
  },
  {
   "cell_type": "code",
   "execution_count": null,
   "id": "cell-82",
   "metadata": {},
   "outputs": [],
   "source": [
    "loss_fn = torch.nn.MSELoss()"
   ]
  },
  {
   "cell_type": "markdown",
   "id": "8ea3deb3-ca9b-40bc-bd92-55d5f671ddcf",
   "metadata": {},
   "source": [
    "As we did above, the basis of a training step will be to apply `forward`\n",
    "to `x` to compute predictions given the current `w` value, compute the\n",
    "corresponding loss, and then call `backward` to compute the gradient of\n",
    "the loss function given `w`."
   ]
  },
  {
   "cell_type": "code",
   "execution_count": null,
   "id": "cell-84",
   "metadata": {},
   "outputs": [],
   "source": [
    "# Compute predictions\n",
    "y_pred = forward(x)\n",
    "# Compute loss value\n",
    "loss = loss_fn(y_pred, y)\n",
    "# Compute loss gradient\n",
    "loss.backward()\n",
    "print(f\"loss: {loss}, gradient for w: {w.grad.item()}\")  # type: ignore"
   ]
  },
  {
   "cell_type": "markdown",
   "id": "1f59b7c0-35ed-4fc0-9688-62ba29439a09",
   "metadata": {},
   "source": [
    "To complete this step and make it a real “training”, we will have to\n",
    "adjust the value of $w$ in the direction opposite to its gradient. The\n",
    "simplest way to do it is to substract from $w$ its gradient value\n",
    "multiplied by a factor called the step size, or **learning rate**."
   ]
  },
  {
   "cell_type": "code",
   "execution_count": null,
   "id": "cell-86",
   "metadata": {},
   "outputs": [],
   "source": [
    "step_size = 0.3\n",
    "w.data = w.data - step_size * w.grad  # type: ignore"
   ]
  },
  {
   "cell_type": "markdown",
   "id": "6410734f-be61-4847-9f86-c82458f29782",
   "metadata": {},
   "source": [
    "To run the training process, we have to apply these operations a certain\n",
    "number of times called **epochs**: we can use a simple `for` loop to do\n",
    "this.\n",
    "\n",
    "Note that at the end of each training step we have to “reset” the\n",
    "gradient of `w` by calling `w.grad.zero_`."
   ]
  },
  {
   "cell_type": "code",
   "execution_count": null,
   "id": "cell-88",
   "metadata": {},
   "outputs": [],
   "source": [
    "epochs = 5\n",
    "for epoch in range(epochs):\n",
    "    y_pred = forward(x)\n",
    "    loss = loss_fn(y_pred, y)\n",
    "    loss.backward()\n",
    "    w.data = w.data - step_size * w.grad  # type: ignore\n",
    "    print(\n",
    "        f\"epoch: {epoch}, loss: {loss:.3f}, gradient: {w.grad.item():.3f}, w: {w.data.item():.4f}\"  # type: ignore\n",
    "    )\n",
    "    w.grad.zero_()  # type: ignore"
   ]
  },
  {
   "cell_type": "markdown",
   "id": "74bbd587-32d7-45ca-96db-942ef5bc60e8",
   "metadata": {},
   "source": [
    "So here is the complete code of our training process. If we run it for a\n",
    "few epochs we can see that it converges towards the $w$ value that\n",
    "minimizes the loss."
   ]
  },
  {
   "cell_type": "code",
   "execution_count": null,
   "id": "cell-90",
   "metadata": {},
   "outputs": [],
   "source": [
    "# Raw data\n",
    "lyon1924 = [3.1, 1.3, 7.7, 11.0, 15.7, 18.0, 20.6, 16.7, 16.2, 11.9, 7.3, 3.4]\n",
    "lyon2024 = [5.3, 8.9, 10.9, 12.5, 15.9, 20.5, 23.3, 24.3, 17.4, 15.8, 8.7, 3.8]\n",
    "\n",
    "# Input data tensor\n",
    "x = torch.tensor(lyon1924)\n",
    "# True values tensor\n",
    "y = torch.tensor(lyon2024)\n",
    "\n",
    "# Loss function\n",
    "loss_fn = torch.nn.MSELoss()\n",
    "\n",
    "# Model parameter\n",
    "w = torch.tensor(0.0, requires_grad=True)\n",
    "\n",
    "\n",
    "# Method to apply our model, ie compute predicted values from input data\n",
    "def forward(x):\n",
    "    return x + w\n",
    "\n",
    "\n",
    "# Number of training steps\n",
    "epochs = 10\n",
    "# Learning rate\n",
    "step_size = 0.3\n",
    "\n",
    "# Training process\n",
    "for epoch in range(epochs):\n",
    "    # Compute predictions\n",
    "    y_pred = forward(x)\n",
    "    # Compute loss (distance between predictions and targets)\n",
    "    loss = loss_fn(y_pred, y)\n",
    "    # Backpropagate to compute parameters gradient\n",
    "    loss.backward()\n",
    "    # Adjust parameter value\n",
    "    w.data = w.data - step_size * w.grad  # type: ignore\n",
    "    print(\n",
    "        f\"epoch: {epoch}, loss: {loss:.3f}, gradient: {w.grad.item():.3f}, w: {w.data.item():.4f}\"  # type: ignore\n",
    "    )\n",
    "    # Reset parameter gradient\n",
    "    w.grad.zero_()  # type: ignore"
   ]
  },
  {
   "cell_type": "markdown",
   "id": "497bc4af-b043-45a3-aaa5-49374258fc6a",
   "metadata": {},
   "source": [
    "**Exercise 5**\n",
    "\n",
    "We have two python lists which give the measured diameters and\n",
    "perimeters of a certain number of circles.\n",
    "\n",
    "Use Pytorch to run a training process to find the best value of the\n",
    "parameter `w` which allows to predict the perimeters from the diameters.\n",
    "The model to compute the predicted values will $y = x \\times w$.\n",
    "\n",
    "*Hint*: you can use a step size of 0.01."
   ]
  },
  {
   "cell_type": "code",
   "execution_count": null,
   "id": "cell-92",
   "metadata": {},
   "outputs": [],
   "source": [
    "diameters = [1.4, 2.5, 2.0, 4.8, 4.7, 5.2, 1.3, 2.1, 8.3, 7.4]\n",
    "perimeters = [4.4, 7.9, 6.3, 15.1, 14.8, 16.3, 4.1, 6.6, 26.1, 23.2]"
   ]
  }
 ],
 "metadata": {
  "kernelspec": {
   "display_name": ".venv",
   "language": "python",
   "name": "python3"
  },
  "language_info": {
   "codemirror_mode": {
    "name": "ipython",
    "version": "3"
   },
   "file_extension": ".py",
   "mimetype": "text/x-python",
   "name": "python",
   "nbconvert_exporter": "python",
   "pygments_lexer": "ipython3",
   "version": "3.12.9"
  }
 },
 "nbformat": 4,
 "nbformat_minor": 5
}
