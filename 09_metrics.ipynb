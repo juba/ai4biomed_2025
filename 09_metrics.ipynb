{
 "cells": [
  {
   "cell_type": "markdown",
   "id": "b3a6e00d-12c0-466d-b168-a13e1bba8863",
   "metadata": {},
   "source": [
    "# Metrics\n",
    "\n",
    "**Note :** to use this notebook in Google Colab, create a new cell with\n",
    "the following lines and run it:\n",
    "\n",
    "``` shell\n",
    "!git clone https://gitlab.in2p3.fr/jbarnier/ateliers_deep_learning.git\n",
    "%cd ateliers_deep_learning\n",
    "!pip install .\n",
    "```"
   ]
  },
  {
   "cell_type": "code",
   "execution_count": null,
   "id": "cell-3",
   "metadata": {},
   "outputs": [],
   "source": [
    "import polars as pl\n",
    "import torch\n",
    "from torch import nn\n",
    "\n",
    "from adl.metrics import stratified_split\n",
    "\n",
    "pl.Config(tbl_rows=10, float_precision=3)"
   ]
  },
  {
   "cell_type": "markdown",
   "id": "344841c9-2513-4b5b-a14f-4f635186bd1b",
   "metadata": {},
   "source": [
    "The train and validation losses allow to evaluate the evolution of the\n",
    "training process, but they are not necessarily good indicators to assess\n",
    "the quality of the network predictions. For this we need specific\n",
    "metrics aligned with the problem we are trying to solve.\n",
    "\n",
    "For example, for a regression problem we could compute the $R^2$ score,\n",
    "the mean absolute error or the mean absolute percentage error. For a\n",
    "classification problem we could use many different metrics such as\n",
    "accuracy, precision, recall, F1-score, ROC AUC, etc.\n",
    "\n",
    "## Computing metrics during training\n",
    "\n",
    "In this notebook we will use a dataset on [credit card fraud\n",
    "detection](https://www.kaggle.com/datasets/mlg-ulb/creditcardfraud)\n",
    "downloaded from Kaggle and converted to a parquet file."
   ]
  },
  {
   "cell_type": "code",
   "execution_count": null,
   "id": "cell-5",
   "metadata": {},
   "outputs": [],
   "source": [
    "d = pl.read_parquet(\"data/creditcard.parquet\")\n",
    "d"
   ]
  },
  {
   "cell_type": "markdown",
   "id": "647004dd-d21f-47b1-8b82-f2e6a1f870a2",
   "metadata": {},
   "source": [
    "This tabular dataset contains 284 807 rows describing credit card\n",
    "transactions which happened in september 2013 in Europe:\n",
    "\n",
    "-   The `Amount` column is the transaction amount\n",
    "-   The columns `V1` to `V28` are different characteristics of the\n",
    "    transaction anonymized through a PCA transformation\n",
    "-   The `Class` column has value 1 if the transaction is a credit card\n",
    "    fraud, and 0 otherwise\n",
    "\n",
    "The dataset is highly unbalanced, as there are only 492 fraudulent\n",
    "transactions."
   ]
  },
  {
   "cell_type": "code",
   "execution_count": null,
   "id": "cell-7",
   "metadata": {},
   "outputs": [],
   "source": [
    "d.get_column(\"Class\").value_counts()"
   ]
  },
  {
   "cell_type": "markdown",
   "id": "96bb15ea-64be-42ff-b236-66d8bc9b97fb",
   "metadata": {},
   "source": [
    "We split this dataset into training and validation data using stratified\n",
    "sampling to maintain the same proportion of fraudulent transactions in\n",
    "both datasets. It is necessary because if we sampled randomly we could\n",
    "get very few of them in the validation set due to their low prevalence."
   ]
  },
  {
   "cell_type": "code",
   "execution_count": null,
   "id": "cell-9",
   "metadata": {},
   "outputs": [],
   "source": [
    "X_train, X_valid, y_train, y_valid = stratified_split(d, valid_proportion=0.2)"
   ]
  },
  {
   "cell_type": "markdown",
   "id": "3e09f46a-0b30-4f22-b2e1-92b850937b25",
   "metadata": {},
   "source": [
    "Finally we create a small feed forward neural network and a training\n",
    "step function as seen previously."
   ]
  },
  {
   "cell_type": "code",
   "execution_count": null,
   "id": "cell-11",
   "metadata": {},
   "outputs": [],
   "source": [
    "class FraudDetectionNetwork(nn.Module):\n",
    "    def __init__(self):\n",
    "        super().__init__()\n",
    "        self.model = nn.Sequential(\n",
    "            nn.Linear(29, 10), nn.ReLU(), nn.Linear(10, 10), nn.ReLU(), nn.Linear(10, 2)\n",
    "        )\n",
    "\n",
    "    def forward(self, x):\n",
    "        return self.model(x).squeeze()\n",
    "\n",
    "\n",
    "def train_step(epoch, model, loss_fn, optimizer):\n",
    "    # Run training step\n",
    "    model.train()\n",
    "    optimizer.zero_grad()\n",
    "    y_pred = model(X_train)\n",
    "    loss = loss_fn(y_pred, y_train)\n",
    "    loss.backward()\n",
    "    optimizer.step()\n",
    "    # Run validation step\n",
    "    model.eval()\n",
    "    y_valid_pred = model(X_valid)\n",
    "    valid_loss = loss_fn(y_valid_pred, y_valid)\n",
    "    print(f\"Epoch: {epoch + 1:2}, loss: {loss:5.3f}, valid_loss: {valid_loss:5.3f}\")\n"
   ]
  },
  {
   "cell_type": "markdown",
   "id": "d411e0cb-05e2-4caa-be55-e01e36a10a9a",
   "metadata": {},
   "source": [
    "We launch a training process using a cross entropy loss, which is more\n",
    "suitable for a classification problem such as this one."
   ]
  },
  {
   "cell_type": "code",
   "execution_count": null,
   "id": "cell-13",
   "metadata": {},
   "outputs": [],
   "source": [
    "model = FraudDetectionNetwork()\n",
    "loss_fn = torch.nn.CrossEntropyLoss()\n",
    "optimizer = torch.optim.AdamW(model.parameters(), lr=0.01)\n",
    "\n",
    "epochs = 20\n",
    "for epoch in range(epochs):\n",
    "    train_step(epoch, model, loss_fn, optimizer)"
   ]
  },
  {
   "cell_type": "markdown",
   "id": "c9070339-3602-423f-b7cc-92a68d5784bf",
   "metadata": {},
   "source": [
    "The training process seems to go well, both the training and validation\n",
    "losses seem to go down regularly.\n",
    "\n",
    "Let’s take a closer look at the predictions of our model on the\n",
    "validation data. When applying `model` to `X_valid`, we can see that the\n",
    "result for each observation is a set of two numbers. The first one is\n",
    "associated to `Class=0`, and the second one to `Class=1`. These values\n",
    "are not probabilities as they are not numbers between 0 and 1: they are\n",
    "called *logits*."
   ]
  },
  {
   "cell_type": "code",
   "execution_count": null,
   "id": "cell-15",
   "metadata": {},
   "outputs": [],
   "source": [
    "logits = model(X_valid)\n",
    "logits"
   ]
  },
  {
   "cell_type": "markdown",
   "id": "6bb1f065-04db-4d4d-a5fe-2181234b1eb3",
   "metadata": {},
   "source": [
    "Logits can be converted into probabilites by applying a *softmax*\n",
    "function to them. But we can also determine the class of each validation\n",
    "data point by applying `torch.argmax` along the second dimension of our\n",
    "logits: this will return `0` if the logit associated to `Class=0` is\n",
    "higher, and `1` otherwise."
   ]
  },
  {
   "cell_type": "code",
   "execution_count": null,
   "id": "cell-17",
   "metadata": {},
   "outputs": [],
   "source": [
    "classes = torch.argmax(logits, dim=1)\n",
    "classes\n"
   ]
  },
  {
   "cell_type": "markdown",
   "id": "f6042b6d-e326-44a3-8e78-a3aa7f30e6ea",
   "metadata": {},
   "source": [
    "So now we can finally look at the number of fraudulent transactions\n",
    "predicted by our model on our validation dataset."
   ]
  },
  {
   "cell_type": "code",
   "execution_count": null,
   "id": "cell-19",
   "metadata": {},
   "outputs": [],
   "source": [
    "torch.sum(classes == 1)\n"
   ]
  },
  {
   "cell_type": "markdown",
   "id": "db5735af-3654-470b-9ebc-d6325a92792a",
   "metadata": {},
   "source": [
    "And this value is 0… So our network is learning, as the cross entropy\n",
    "loss between our logits and the target values is going down, but for the\n",
    "moment its results are useless.\n",
    "\n",
    "So if the loss value is useful to assess the progress of our training\n",
    "process, it is not necessarily a good indicator of the quality of its\n",
    "results. To evaluate this we need to use other metrics, which will\n",
    "depend on the problem we want to solve.\n",
    "\n",
    "**Exercise**\n",
    "\n",
    "One very simple metric we just computed is the number of fraudulent\n",
    "transactions identified by the model on the validation dataset. It could\n",
    "be useful to add this metric to our training process output.\n",
    "\n",
    "Modify the `train_step` function above to create a new\n",
    "`train_step_nfraud` method which computes and displays, for each epoch,\n",
    "the train loss, the validation loss, and the number of predicted\n",
    "fraudulent transactions in the validation dataset.\n",
    "\n",
    "Run this new training process for 10 epochs on a new\n",
    "`FraudDetectionNetwork` model.\n",
    "\n",
    "We can see that at the start of our training process the model predicts\n",
    "some fraudulent transactions, but this number goes down to 0 rapidly.\n",
    "\n",
    "There are many other metrics we can use to assess the results of a\n",
    "classification problem, and several Python packages provide methods to\n",
    "compute them more easily. For example, we could use the\n",
    "`precision_score` and `recall_score` methods of the `scikit-learn`\n",
    "package to compute precision and recall at each epoch."
   ]
  },
  {
   "cell_type": "code",
   "execution_count": null,
   "id": "cell-25",
   "metadata": {},
   "outputs": [],
   "source": [
    "from sklearn.metrics import precision_score, recall_score\n",
    "\n",
    "\n",
    "def train_step_metrics(epoch, model, loss_fn, optimizer):\n",
    "    # Run training step\n",
    "    optimizer.zero_grad()\n",
    "    y_pred = model(X_train)\n",
    "    loss = loss_fn(y_pred, y_train)\n",
    "    loss.backward()\n",
    "    optimizer.step()\n",
    "\n",
    "    # Run validation step\n",
    "    y_valid_pred = model(X_valid)\n",
    "    valid_loss = loss_fn(y_valid_pred, y_valid)\n",
    "\n",
    "    # Compute metrics\n",
    "    pred_classes = torch.argmax(y_valid_pred.detach(), dim=1)\n",
    "    n_fraud = torch.sum(pred_classes == 1)\n",
    "    precision = precision_score(y_valid, pred_classes) if n_fraud > 0 else 0\n",
    "    recall = recall_score(y_valid, pred_classes) if n_fraud > 0 else 0\n",
    "    print(\n",
    "        f\"Epoch: {epoch + 1:3}, loss: {loss:5.3f}, valid_loss: {valid_loss:5.3f}, n_fraud: {n_fraud:3}, \"\n",
    "        f\"precision: {precision:5.3f}, recall: {recall:5.3f}\"\n",
    "    )\n",
    "\n",
    "\n",
    "model = FraudDetectionNetwork()\n",
    "optimizer = torch.optim.AdamW(model.parameters(), lr=0.01)\n",
    "\n",
    "torch.manual_seed(42)\n",
    "epochs = 10\n",
    "for epoch in range(epochs):\n",
    "    train_step_metrics(epoch, model, loss_fn, optimizer)"
   ]
  },
  {
   "cell_type": "markdown",
   "id": "1409ef7a-aa6a-4cc6-978f-0810857aad33",
   "metadata": {},
   "source": [
    "So, the metrics are not good, but the loss is still going down. Maybe we\n",
    "can look at what happens if we run the training process for longer?"
   ]
  },
  {
   "cell_type": "code",
   "execution_count": null,
   "id": "cell-27",
   "metadata": {},
   "outputs": [],
   "source": [
    "model = FraudDetectionNetwork()\n",
    "optimizer = torch.optim.AdamW(model.parameters(), lr=0.01)\n",
    "\n",
    "torch.manual_seed(42)\n",
    "epochs = 85\n",
    "for epoch in range(epochs):\n",
    "    train_step_metrics(epoch, model, loss_fn, optimizer)\n"
   ]
  },
  {
   "cell_type": "markdown",
   "id": "5aa12bd1-8c06-4c8a-b095-4f7924953f36",
   "metadata": {},
   "source": [
    "Now we can see that after about 50 epochs, our model starts to predict\n",
    "fraudulent transactions again, with growing values of precision and\n",
    "recall. At epoch 85 we get a precision of 0.79 and a recall of 0.80.\n",
    "\n",
    "## Computing metrics after training\n",
    "\n",
    "Metrics are useful during training, but they are also very important\n",
    "post-training, to more accurately assess the results.\n",
    "\n",
    "For example, we can compute the *confusion matrix* of our trained model\n",
    "on our validation dataset by using scikit-learn’s `confusion_matrix`\n",
    "method."
   ]
  },
  {
   "cell_type": "code",
   "execution_count": null,
   "id": "cell-30",
   "metadata": {},
   "outputs": [],
   "source": [
    "from sklearn.metrics import confusion_matrix\n",
    "\n",
    "preds = model(X_valid)\n",
    "preds = torch.argmax(preds, dim=1)\n",
    "\n",
    "\n",
    "cm = confusion_matrix(y_valid, preds)\n",
    "cm\n"
   ]
  },
  {
   "cell_type": "markdown",
   "id": "85fbf281-e2cd-405f-a4c3-8c0eff27b86e",
   "metadata": {},
   "source": [
    "Better yet, we can use `ConfusionMatrixDisplay` to generate a much more\n",
    "readable plot of the confusion matrix."
   ]
  },
  {
   "cell_type": "code",
   "execution_count": null,
   "id": "cell-32",
   "metadata": {},
   "outputs": [],
   "source": [
    "from sklearn.metrics import ConfusionMatrixDisplay\n",
    "\n",
    "ConfusionMatrixDisplay(cm).plot()"
   ]
  },
  {
   "cell_type": "markdown",
   "id": "46dd5208-905e-4553-b198-078dbd92a431",
   "metadata": {},
   "source": [
    "## Computing metrics when using mini-batches\n",
    "\n",
    "### Mini-batches training process\n",
    "\n",
    "Suppose that we are now using mini-batches during our training process,\n",
    "as seen in the previous notebook: instead of feeding all training or\n",
    "validation data at once during each training step, we’ll use smaller\n",
    "subsets of data.\n",
    "\n",
    "To do this, we first create a `FraudDataset` class and corresponding\n",
    "`DataLoader` instances for training and validation data, with a batch\n",
    "size of 256."
   ]
  },
  {
   "cell_type": "code",
   "execution_count": null,
   "id": "cell-34",
   "metadata": {},
   "outputs": [],
   "source": [
    "class FraudDataset(torch.utils.data.Dataset):\n",
    "    def __init__(self, x, y):\n",
    "        self.y = y\n",
    "        self.x = x\n",
    "\n",
    "    def __len__(self):\n",
    "        return len(self.y)\n",
    "\n",
    "    def __getitem__(self, index):\n",
    "        return (self.x[index], self.y[index])\n",
    "\n",
    "\n",
    "train_dataset = FraudDataset(x=X_train, y=y_train)\n",
    "valid_dataset = FraudDataset(x=X_valid, y=y_valid)\n",
    "\n",
    "batch_size = 256\n",
    "train_loader = torch.utils.data.DataLoader(train_dataset, batch_size=batch_size, shuffle=True)\n",
    "valid_loader = torch.utils.data.DataLoader(valid_dataset, batch_size=batch_size, shuffle=False)\n"
   ]
  },
  {
   "cell_type": "markdown",
   "id": "551b00e3-c527-4396-9b89-56ba3d2b3c50",
   "metadata": {},
   "source": [
    "We then define two functions:\n",
    "\n",
    "-   `train_step` will run a training epoch, *ie* apply a training step\n",
    "    to each mini-batches in the training data loader\n",
    "-   `eval_step` will run a validation epoch, *ie* apply an evaluation\n",
    "    step to each mini-batches in the validation data loader"
   ]
  },
  {
   "cell_type": "code",
   "execution_count": null,
   "id": "cell-36",
   "metadata": {},
   "outputs": [],
   "source": [
    "def train_step(model, loss_fn, optimizer):\n",
    "    # Switch model into train mode\n",
    "    model.train()\n",
    "    loss = 0\n",
    "    for input, target in train_loader:\n",
    "        # Apply training step to batch\n",
    "        optimizer.zero_grad()\n",
    "        pred = model(input)\n",
    "        batch_loss = loss_fn(pred, target)\n",
    "        loss += batch_loss\n",
    "        batch_loss.backward()\n",
    "        optimizer.step()\n",
    "    # Compute and return the mean loss for this epoch\n",
    "    loss /= len(train_loader)\n",
    "    return loss\n",
    "\n",
    "\n",
    "def eval_step(model, loss_fn):\n",
    "    # Switch model into eval mode\n",
    "    model.eval()\n",
    "    loss = 0\n",
    "    for input, target in valid_loader:\n",
    "        # Apply evaluation step to batch\n",
    "        pred = model(input)\n",
    "        batch_loss = loss_fn(pred, target)\n",
    "        loss += batch_loss\n",
    "    # Compute and return the mean loss for this epoch\n",
    "    loss /= len(valid_loader)\n",
    "    return loss\n"
   ]
  },
  {
   "cell_type": "markdown",
   "id": "3129a28f-6240-4b56-b9c4-9cfc35229987",
   "metadata": {},
   "source": [
    "We can now run our training process on a few epochs."
   ]
  },
  {
   "cell_type": "code",
   "execution_count": null,
   "id": "cell-38",
   "metadata": {},
   "outputs": [],
   "source": [
    "model = FraudDetectionNetwork()\n",
    "optimizer = torch.optim.AdamW(model.parameters(), lr=0.01)\n",
    "loss_fn = nn.CrossEntropyLoss()\n",
    "\n",
    "epochs = 5\n",
    "torch.manual_seed(42)\n",
    "for epoch in range(epochs):\n",
    "    loss = train_step(model, loss_fn, optimizer)\n",
    "    valid_loss = eval_step(model, loss_fn)\n",
    "    print(f\"Epoch: {epoch + 1:3}, loss: {loss:5.3f}, valid_loss: {valid_loss:5.3f}\")\n"
   ]
  },
  {
   "cell_type": "markdown",
   "id": "c7fe4af3-ba41-4009-b9cd-d5b8d62dafd9",
   "metadata": {},
   "source": [
    "### Computing a single metric\n",
    "\n",
    "To add metric computation during this training process with\n",
    "mini-batches, we can calculate the metric value for each batch. However,\n",
    "obtaining the overall epoch metric value for the entire validation data\n",
    "from these mini-batch values can be challenging. Libraries like\n",
    "`scikit-learn` do not provide methods out of the box to do this, and\n",
    "manual implementation can be complicated and prone to errors.\n",
    "\n",
    "A way to do it is to use the `torchmetrics` python package. This package\n",
    "provides a great number of metrics which can be used directly on a whole\n",
    "dataset, but can also be applied to mini-batches the following way:\n",
    "\n",
    "1.  first, we instantiate a metric object from one of `torchmetrics`\n",
    "    methods. For example, we can use the `BinaryF1Score` class to create\n",
    "    a `f1_metric` object with `f1_metric = BinaryF1Score()`\n",
    "2.  at the start of each epoch, we reset the metric with\n",
    "    `f1_metric.reset()`\n",
    "3.  for each mini-batch, we update the metric using the mini-batch\n",
    "    predictions and targets with the `update()` method\n",
    "4.  finally, at the end of the epoch, we can compute the overall epoch\n",
    "    metric value using `f1_metric.compute()`\n",
    "\n",
    "Here is how we can include an F1 metric computation in our evaluation\n",
    "step by creating a new `eval_step_f1` function."
   ]
  },
  {
   "cell_type": "code",
   "execution_count": null,
   "id": "cell-40",
   "metadata": {},
   "outputs": [],
   "source": [
    "from torchmetrics.classification import BinaryF1Score\n",
    "\n",
    "# Instantiate F1 score metric object\n",
    "f1_metric = BinaryF1Score()\n",
    "\n",
    "\n",
    "def eval_step_f1(model, loss_fn):\n",
    "    # Switch model into eval mode\n",
    "    model.eval()\n",
    "    # Reset F1 score\n",
    "    f1_metric.reset()\n",
    "    loss = 0\n",
    "\n",
    "    for input, target in valid_loader:\n",
    "        # Apply evaluation step to batch\n",
    "        pred = model(input)\n",
    "        batch_loss = loss_fn(pred, target)\n",
    "        loss += batch_loss\n",
    "        # Update metric\n",
    "        classes_pred = torch.argmax(pred, dim=1)\n",
    "        f1_metric.update(classes_pred, target)\n",
    "\n",
    "    # Compute overall loss and metric\n",
    "    loss /= len(valid_loader)\n",
    "    f1_score = f1_metric.compute()\n",
    "\n",
    "    return loss, f1_score\n"
   ]
  },
  {
   "cell_type": "code",
   "execution_count": null,
   "id": "cell-41",
   "metadata": {},
   "outputs": [],
   "source": [
    "model = FraudDetectionNetwork()\n",
    "optimizer = torch.optim.AdamW(model.parameters(), lr=0.01)\n",
    "loss_fn = nn.CrossEntropyLoss()\n",
    "\n",
    "\n",
    "epochs = 5\n",
    "torch.manual_seed(42)\n",
    "\n",
    "for epoch in range(epochs):\n",
    "    loss = train_step(model, loss_fn, optimizer)\n",
    "    valid_loss, valid_f1 = eval_step_f1(model, loss_fn)\n",
    "    print(f\"Epoch: {epoch + 1:3}, loss: {loss:5.3f}, valid_loss: {valid_loss:5.3f}, f1: {valid_f1:5.3f}\")\n"
   ]
  },
  {
   "cell_type": "markdown",
   "id": "b7bbf381-d69f-4a14-b972-08516d47f8a0",
   "metadata": {},
   "source": [
    "Creating a separate evaluation step function is interesting because it\n",
    "makes it easy to apply a trained model to a dataset using mini-batches."
   ]
  },
  {
   "cell_type": "code",
   "execution_count": null,
   "id": "cell-43",
   "metadata": {},
   "outputs": [],
   "source": [
    "eval_step_f1(model, loss_fn)"
   ]
  },
  {
   "cell_type": "markdown",
   "id": "2fdb48a0-052f-44c2-95f1-5b4a0dc6b518",
   "metadata": {},
   "source": [
    "### Computing a list of metrics\n",
    "\n",
    "In general we want to compute not just one but multiple metrics. For\n",
    "instance, we might want to compute the F1-score, precision and recall\n",
    "values for our classification problem.\n",
    "\n",
    "`torchmetrics` provides a `MetricCollection` class which allows to do\n",
    "that quite easily. By passing a list of metrics to `MetricCollection`,\n",
    "we can create a collection object which will have the same `reset()`,\n",
    "`update()` and `compute()` methods as single metrics. When used, these\n",
    "methods will be called for all the metrics in the list.\n",
    "\n",
    "**Exercise**\n",
    "\n",
    "Create the following metrics collection object:\n",
    "\n",
    "``` py\n",
    "from torchmetrics.classification import BinaryF1Score, BinaryPrecision, BinaryRecall\n",
    "from torchmetrics import MetricCollection\n",
    "\n",
    "metrics_list = MetricCollection(\n",
    "    [\n",
    "        BinaryPrecision(),\n",
    "        BinaryRecall(),\n",
    "        BinaryF1Score(),\n",
    "    ]\n",
    ")\n",
    "```\n",
    "\n",
    "Create a new `eval_step_metrics` function that add these metrics\n",
    "computation to the evaluation step of our training process and display\n",
    "their values at the end of each epoch. Run this training process for 10\n",
    "epochs."
   ]
  }
 ],
 "metadata": {
  "kernelspec": {
   "display_name": ".venv",
   "language": "python",
   "name": "python3"
  },
  "language_info": {
   "codemirror_mode": {
    "name": "ipython",
    "version": "3"
   },
   "file_extension": ".py",
   "mimetype": "text/x-python",
   "name": "python",
   "nbconvert_exporter": "python",
   "pygments_lexer": "ipython3",
   "version": "3.12.9"
  }
 },
 "nbformat": 4,
 "nbformat_minor": 5
}
