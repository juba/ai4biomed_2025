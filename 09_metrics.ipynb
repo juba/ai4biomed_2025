{
 "cells": [
  {
   "cell_type": "markdown",
   "id": "f035e82c-14c2-4f4c-b177-4ba05bf416a6",
   "metadata": {},
   "source": [
    "# Metrics\n"
   ]
  },
  {
   "cell_type": "code",
   "execution_count": 4,
   "id": "cell-1",
   "metadata": {},
   "outputs": [
    {
     "data": {
      "text/plain": [
       "<polars.config.Config at 0x7543debf4560>"
      ]
     },
     "execution_count": 4,
     "metadata": {},
     "output_type": "execute_result"
    }
   ],
   "source": [
    "import polars as pl\n",
    "import torch\n",
    "from torch import nn\n",
    "\n",
    "from adl.metrics import stratified_split\n",
    "\n",
    "pl.Config(tbl_rows=10, float_precision=3)"
   ]
  },
  {
   "cell_type": "markdown",
   "id": "43a94a22-f175-4c09-8988-9d8d07869932",
   "metadata": {},
   "source": [
    "**Note :** to use this notebook in Google Colab, create a new cell with\n",
    "the following lines and run it:\n",
    "\n",
    "```shell\n",
    "!git clone https://gitlab.in2p3.fr/jbarnier/ateliers_deep_learning.git\n",
    "%cd ateliers_deep_learning\n",
    "!pip install .\n",
    "```\n",
    "\n",
    "The train and validation losses allow to evaluate the evolution of the\n",
    "training process, but they are not necessarily good indicators to assess\n",
    "the quality of the network predictions. For this we need specific\n",
    "metrics aligned with the problem we are trying to solve.\n",
    "\n",
    "For example, for a regression problem we could compute the $R^2$ score,\n",
    "the mean absolute error or the mean absolute percentage error. For a\n",
    "classification problem we could use many different metrics such as\n",
    "accuracy, precision, recall, F1-score, ROC AUC, etc.\n",
    "\n",
    "## Computing metrics during training\n",
    "\n",
    "In this notebook we will use a dataset on [credit card fraud\n",
    "detection](https://www.kaggle.com/datasets/mlg-ulb/creditcardfraud)\n",
    "downloaded from Kaggle and converted to a parquet file.\n"
   ]
  },
  {
   "cell_type": "code",
   "execution_count": 5,
   "id": "cell-3",
   "metadata": {},
   "outputs": [
    {
     "data": {
      "text/html": [
       "<div><style>\n",
       ".dataframe > thead > tr,\n",
       ".dataframe > tbody > tr {\n",
       "  text-align: right;\n",
       "  white-space: pre-wrap;\n",
       "}\n",
       "</style>\n",
       "<small>shape: (284_807, 30)</small><table border=\"1\" class=\"dataframe\"><thead><tr><th>Class</th><th>Amount</th><th>V1</th><th>V2</th><th>V3</th><th>V4</th><th>V5</th><th>V6</th><th>V7</th><th>V8</th><th>V9</th><th>V10</th><th>V11</th><th>V12</th><th>V13</th><th>V14</th><th>V15</th><th>V16</th><th>V17</th><th>V18</th><th>V19</th><th>V20</th><th>V21</th><th>V22</th><th>V23</th><th>V24</th><th>V25</th><th>V26</th><th>V27</th><th>V28</th></tr><tr><td>i64</td><td>f64</td><td>f64</td><td>f64</td><td>f64</td><td>f64</td><td>f64</td><td>f64</td><td>f64</td><td>f64</td><td>f64</td><td>f64</td><td>f64</td><td>f64</td><td>f64</td><td>f64</td><td>f64</td><td>f64</td><td>f64</td><td>f64</td><td>f64</td><td>f64</td><td>f64</td><td>f64</td><td>f64</td><td>f64</td><td>f64</td><td>f64</td><td>f64</td><td>f64</td></tr></thead><tbody><tr><td>0</td><td>149.620</td><td>-1.360</td><td>-0.073</td><td>2.536</td><td>1.378</td><td>-0.338</td><td>0.462</td><td>0.240</td><td>0.099</td><td>0.364</td><td>0.091</td><td>-0.552</td><td>-0.618</td><td>-0.991</td><td>-0.311</td><td>1.468</td><td>-0.470</td><td>0.208</td><td>0.026</td><td>0.404</td><td>0.251</td><td>-0.018</td><td>0.278</td><td>-0.110</td><td>0.067</td><td>0.129</td><td>-0.189</td><td>0.134</td><td>-0.021</td></tr><tr><td>0</td><td>2.690</td><td>1.192</td><td>0.266</td><td>0.166</td><td>0.448</td><td>0.060</td><td>-0.082</td><td>-0.079</td><td>0.085</td><td>-0.255</td><td>-0.167</td><td>1.613</td><td>1.065</td><td>0.489</td><td>-0.144</td><td>0.636</td><td>0.464</td><td>-0.115</td><td>-0.183</td><td>-0.146</td><td>-0.069</td><td>-0.226</td><td>-0.639</td><td>0.101</td><td>-0.340</td><td>0.167</td><td>0.126</td><td>-0.009</td><td>0.015</td></tr><tr><td>0</td><td>378.660</td><td>-1.358</td><td>-1.340</td><td>1.773</td><td>0.380</td><td>-0.503</td><td>1.800</td><td>0.791</td><td>0.248</td><td>-1.515</td><td>0.208</td><td>0.625</td><td>0.066</td><td>0.717</td><td>-0.166</td><td>2.346</td><td>-2.890</td><td>1.110</td><td>-0.121</td><td>-2.262</td><td>0.525</td><td>0.248</td><td>0.772</td><td>0.909</td><td>-0.689</td><td>-0.328</td><td>-0.139</td><td>-0.055</td><td>-0.060</td></tr><tr><td>0</td><td>123.500</td><td>-0.966</td><td>-0.185</td><td>1.793</td><td>-0.863</td><td>-0.010</td><td>1.247</td><td>0.238</td><td>0.377</td><td>-1.387</td><td>-0.055</td><td>-0.226</td><td>0.178</td><td>0.508</td><td>-0.288</td><td>-0.631</td><td>-1.060</td><td>-0.684</td><td>1.966</td><td>-1.233</td><td>-0.208</td><td>-0.108</td><td>0.005</td><td>-0.190</td><td>-1.176</td><td>0.647</td><td>-0.222</td><td>0.063</td><td>0.061</td></tr><tr><td>0</td><td>69.990</td><td>-1.158</td><td>0.878</td><td>1.549</td><td>0.403</td><td>-0.407</td><td>0.096</td><td>0.593</td><td>-0.271</td><td>0.818</td><td>0.753</td><td>-0.823</td><td>0.538</td><td>1.346</td><td>-1.120</td><td>0.175</td><td>-0.451</td><td>-0.237</td><td>-0.038</td><td>0.803</td><td>0.409</td><td>-0.009</td><td>0.798</td><td>-0.137</td><td>0.141</td><td>-0.206</td><td>0.502</td><td>0.219</td><td>0.215</td></tr><tr><td>&hellip;</td><td>&hellip;</td><td>&hellip;</td><td>&hellip;</td><td>&hellip;</td><td>&hellip;</td><td>&hellip;</td><td>&hellip;</td><td>&hellip;</td><td>&hellip;</td><td>&hellip;</td><td>&hellip;</td><td>&hellip;</td><td>&hellip;</td><td>&hellip;</td><td>&hellip;</td><td>&hellip;</td><td>&hellip;</td><td>&hellip;</td><td>&hellip;</td><td>&hellip;</td><td>&hellip;</td><td>&hellip;</td><td>&hellip;</td><td>&hellip;</td><td>&hellip;</td><td>&hellip;</td><td>&hellip;</td><td>&hellip;</td><td>&hellip;</td></tr><tr><td>0</td><td>0.770</td><td>-11.881</td><td>10.072</td><td>-9.835</td><td>-2.067</td><td>-5.364</td><td>-2.607</td><td>-4.918</td><td>7.305</td><td>1.914</td><td>4.356</td><td>-1.593</td><td>2.712</td><td>-0.689</td><td>4.627</td><td>-0.924</td><td>1.108</td><td>1.992</td><td>0.511</td><td>-0.683</td><td>1.476</td><td>0.213</td><td>0.112</td><td>1.014</td><td>-0.509</td><td>1.437</td><td>0.250</td><td>0.944</td><td>0.824</td></tr><tr><td>0</td><td>24.790</td><td>-0.733</td><td>-0.055</td><td>2.035</td><td>-0.739</td><td>0.868</td><td>1.058</td><td>0.024</td><td>0.295</td><td>0.585</td><td>-0.976</td><td>-0.150</td><td>0.916</td><td>1.215</td><td>-0.675</td><td>1.165</td><td>-0.712</td><td>-0.026</td><td>-1.221</td><td>-1.546</td><td>0.060</td><td>0.214</td><td>0.924</td><td>0.012</td><td>-1.016</td><td>-0.607</td><td>-0.395</td><td>0.068</td><td>-0.054</td></tr><tr><td>0</td><td>67.880</td><td>1.920</td><td>-0.301</td><td>-3.250</td><td>-0.558</td><td>2.631</td><td>3.031</td><td>-0.297</td><td>0.708</td><td>0.432</td><td>-0.485</td><td>0.412</td><td>0.063</td><td>-0.184</td><td>-0.511</td><td>1.329</td><td>0.141</td><td>0.314</td><td>0.396</td><td>-0.577</td><td>0.001</td><td>0.232</td><td>0.578</td><td>-0.038</td><td>0.640</td><td>0.266</td><td>-0.087</td><td>0.004</td><td>-0.027</td></tr><tr><td>0</td><td>10.000</td><td>-0.240</td><td>0.530</td><td>0.703</td><td>0.690</td><td>-0.378</td><td>0.624</td><td>-0.686</td><td>0.679</td><td>0.392</td><td>-0.399</td><td>-1.934</td><td>-0.963</td><td>-1.042</td><td>0.450</td><td>1.963</td><td>-0.609</td><td>0.510</td><td>1.114</td><td>2.898</td><td>0.127</td><td>0.265</td><td>0.800</td><td>-0.163</td><td>0.123</td><td>-0.569</td><td>0.547</td><td>0.109</td><td>0.105</td></tr><tr><td>0</td><td>217.000</td><td>-0.533</td><td>-0.190</td><td>0.703</td><td>-0.506</td><td>-0.013</td><td>-0.650</td><td>1.577</td><td>-0.415</td><td>0.486</td><td>-0.915</td><td>-1.040</td><td>-0.032</td><td>-0.188</td><td>-0.084</td><td>0.041</td><td>-0.303</td><td>-0.660</td><td>0.167</td><td>-0.256</td><td>0.383</td><td>0.261</td><td>0.643</td><td>0.377</td><td>0.009</td><td>-0.474</td><td>-0.818</td><td>-0.002</td><td>0.014</td></tr></tbody></table></div>"
      ],
      "text/plain": [
       "shape: (284_807, 30)\n",
       "┌───────┬─────────┬─────────┬────────┬───┬────────┬────────┬────────┬────────┐\n",
       "│ Class ┆ Amount  ┆ V1      ┆ V2     ┆ … ┆ V25    ┆ V26    ┆ V27    ┆ V28    │\n",
       "│ ---   ┆ ---     ┆ ---     ┆ ---    ┆   ┆ ---    ┆ ---    ┆ ---    ┆ ---    │\n",
       "│ i64   ┆ f64     ┆ f64     ┆ f64    ┆   ┆ f64    ┆ f64    ┆ f64    ┆ f64    │\n",
       "╞═══════╪═════════╪═════════╪════════╪═══╪════════╪════════╪════════╪════════╡\n",
       "│ 0     ┆ 149.620 ┆ -1.360  ┆ -0.073 ┆ … ┆ 0.129  ┆ -0.189 ┆ 0.134  ┆ -0.021 │\n",
       "│ 0     ┆ 2.690   ┆ 1.192   ┆ 0.266  ┆ … ┆ 0.167  ┆ 0.126  ┆ -0.009 ┆ 0.015  │\n",
       "│ 0     ┆ 378.660 ┆ -1.358  ┆ -1.340 ┆ … ┆ -0.328 ┆ -0.139 ┆ -0.055 ┆ -0.060 │\n",
       "│ 0     ┆ 123.500 ┆ -0.966  ┆ -0.185 ┆ … ┆ 0.647  ┆ -0.222 ┆ 0.063  ┆ 0.061  │\n",
       "│ 0     ┆ 69.990  ┆ -1.158  ┆ 0.878  ┆ … ┆ -0.206 ┆ 0.502  ┆ 0.219  ┆ 0.215  │\n",
       "│ …     ┆ …       ┆ …       ┆ …      ┆ … ┆ …      ┆ …      ┆ …      ┆ …      │\n",
       "│ 0     ┆ 0.770   ┆ -11.881 ┆ 10.072 ┆ … ┆ 1.437  ┆ 0.250  ┆ 0.944  ┆ 0.824  │\n",
       "│ 0     ┆ 24.790  ┆ -0.733  ┆ -0.055 ┆ … ┆ -0.607 ┆ -0.395 ┆ 0.068  ┆ -0.054 │\n",
       "│ 0     ┆ 67.880  ┆ 1.920   ┆ -0.301 ┆ … ┆ 0.266  ┆ -0.087 ┆ 0.004  ┆ -0.027 │\n",
       "│ 0     ┆ 10.000  ┆ -0.240  ┆ 0.530  ┆ … ┆ -0.569 ┆ 0.547  ┆ 0.109  ┆ 0.105  │\n",
       "│ 0     ┆ 217.000 ┆ -0.533  ┆ -0.190 ┆ … ┆ -0.474 ┆ -0.818 ┆ -0.002 ┆ 0.014  │\n",
       "└───────┴─────────┴─────────┴────────┴───┴────────┴────────┴────────┴────────┘"
      ]
     },
     "execution_count": 5,
     "metadata": {},
     "output_type": "execute_result"
    }
   ],
   "source": [
    "d = pl.read_parquet(\"data/creditcard.parquet\")\n",
    "d"
   ]
  },
  {
   "cell_type": "markdown",
   "id": "42d2b4cd-8b11-43d7-a1d4-c3b328df74f9",
   "metadata": {},
   "source": [
    "This tabular dataset contains 284 807 rows describing credit card\n",
    "transactions which happened in september 2013 in Europe:\n",
    "\n",
    "-   The `Amount` column is the transaction amount\n",
    "-   The columns `V1` to `V28` are different characteristics of the\n",
    "    transaction anonymized through a PCA transformation\n",
    "-   The `Class` column has value 1 if the transaction is a credit card\n",
    "    fraud, and 0 otherwise\n",
    "\n",
    "The dataset is highly unbalanced, as there are only 492 fraudulent\n",
    "transactions.\n"
   ]
  },
  {
   "cell_type": "code",
   "execution_count": 6,
   "id": "cell-5",
   "metadata": {},
   "outputs": [
    {
     "data": {
      "text/html": [
       "<div><style>\n",
       ".dataframe > thead > tr,\n",
       ".dataframe > tbody > tr {\n",
       "  text-align: right;\n",
       "  white-space: pre-wrap;\n",
       "}\n",
       "</style>\n",
       "<small>shape: (2, 2)</small><table border=\"1\" class=\"dataframe\"><thead><tr><th>Class</th><th>count</th></tr><tr><td>i64</td><td>u32</td></tr></thead><tbody><tr><td>1</td><td>492</td></tr><tr><td>0</td><td>284315</td></tr></tbody></table></div>"
      ],
      "text/plain": [
       "shape: (2, 2)\n",
       "┌───────┬────────┐\n",
       "│ Class ┆ count  │\n",
       "│ ---   ┆ ---    │\n",
       "│ i64   ┆ u32    │\n",
       "╞═══════╪════════╡\n",
       "│ 1     ┆ 492    │\n",
       "│ 0     ┆ 284315 │\n",
       "└───────┴────────┘"
      ]
     },
     "execution_count": 6,
     "metadata": {},
     "output_type": "execute_result"
    }
   ],
   "source": [
    "d.get_column(\"Class\").value_counts()"
   ]
  },
  {
   "cell_type": "markdown",
   "id": "6ed1d49a-f094-48d2-82c3-5a3002401cfa",
   "metadata": {},
   "source": [
    "We split this dataset into training and validation data using stratified\n",
    "sampling to maintain the same proportion of fraudulent transactions in\n",
    "both datasets. It is necessary because if we sampled randomly we could\n",
    "get very few of them in the validation set due to their low prevalence.\n"
   ]
  },
  {
   "cell_type": "code",
   "execution_count": 7,
   "id": "cell-7",
   "metadata": {},
   "outputs": [],
   "source": [
    "X_train, X_valid, y_train, y_valid = stratified_split(d, valid_proportion=0.2)"
   ]
  },
  {
   "cell_type": "markdown",
   "id": "61c95d0a-8e03-4c10-9e9c-54265c81a11d",
   "metadata": {},
   "source": [
    "Finally we create a small feed forward neural network and a training\n",
    "step function as seen previously.\n"
   ]
  },
  {
   "cell_type": "code",
   "execution_count": 8,
   "id": "cell-9",
   "metadata": {},
   "outputs": [],
   "source": [
    "class FraudDetectionNetwork(nn.Module):\n",
    "    def __init__(self):\n",
    "        super().__init__()\n",
    "        self.model = nn.Sequential(\n",
    "            nn.Linear(29, 10), nn.ReLU(), nn.Linear(10, 10), nn.ReLU(), nn.Linear(10, 2)\n",
    "        )\n",
    "\n",
    "    def forward(self, x):\n",
    "        return self.model(x).squeeze()\n",
    "\n",
    "\n",
    "def train_step(epoch, model, loss_fn, optimizer):\n",
    "    # Run training step\n",
    "    model.train()\n",
    "    optimizer.zero_grad()\n",
    "    y_pred = model(X_train)\n",
    "    loss = loss_fn(y_pred, y_train)\n",
    "    loss.backward()\n",
    "    optimizer.step()\n",
    "    # Run validation step\n",
    "    model.eval()\n",
    "    y_valid_pred = model(X_valid)\n",
    "    valid_loss = loss_fn(y_valid_pred, y_valid)\n",
    "    print(f\"Epoch: {epoch + 1:2}, loss: {loss:5.3f}, valid_loss: {valid_loss:5.3f}\")\n"
   ]
  },
  {
   "cell_type": "markdown",
   "id": "a3a65c17-d61f-461d-a9ca-01898123b4d3",
   "metadata": {},
   "source": [
    "We launch a training process using a cross entropy loss, which is more\n",
    "suitable for a classification problem such as this one.\n"
   ]
  },
  {
   "cell_type": "code",
   "execution_count": 9,
   "id": "cell-11",
   "metadata": {},
   "outputs": [
    {
     "name": "stdout",
     "output_type": "stream",
     "text": [
      "Epoch:  1, loss: 0.649, valid_loss: 0.580\n",
      "Epoch:  2, loss: 0.580, valid_loss: 0.518\n",
      "Epoch:  3, loss: 0.517, valid_loss: 0.460\n",
      "Epoch:  4, loss: 0.460, valid_loss: 0.408\n",
      "Epoch:  5, loss: 0.408, valid_loss: 0.359\n",
      "Epoch:  6, loss: 0.359, valid_loss: 0.313\n",
      "Epoch:  7, loss: 0.314, valid_loss: 0.271\n",
      "Epoch:  8, loss: 0.272, valid_loss: 0.232\n",
      "Epoch:  9, loss: 0.234, valid_loss: 0.196\n",
      "Epoch: 10, loss: 0.198, valid_loss: 0.164\n",
      "Epoch: 11, loss: 0.166, valid_loss: 0.135\n",
      "Epoch: 12, loss: 0.138, valid_loss: 0.112\n",
      "Epoch: 13, loss: 0.116, valid_loss: 0.095\n",
      "Epoch: 14, loss: 0.099, valid_loss: 0.083\n",
      "Epoch: 15, loss: 0.088, valid_loss: 0.074\n",
      "Epoch: 16, loss: 0.081, valid_loss: 0.070\n",
      "Epoch: 17, loss: 0.077, valid_loss: 0.067\n",
      "Epoch: 18, loss: 0.075, valid_loss: 0.065\n",
      "Epoch: 19, loss: 0.074, valid_loss: 0.062\n",
      "Epoch: 20, loss: 0.072, valid_loss: 0.059\n"
     ]
    }
   ],
   "source": [
    "model = FraudDetectionNetwork()\n",
    "loss_fn = torch.nn.CrossEntropyLoss()\n",
    "optimizer = torch.optim.AdamW(model.parameters(), lr=0.01)\n",
    "\n",
    "epochs = 20\n",
    "for epoch in range(epochs):\n",
    "    train_step(epoch, model, loss_fn, optimizer)"
   ]
  },
  {
   "cell_type": "markdown",
   "id": "9dfd9ad1-d99d-4349-8929-db15efb16657",
   "metadata": {},
   "source": [
    "The training process seems to go well, both the training and validation\n",
    "losses seem to go down regularly.\n",
    "\n",
    "Let’s take a closer look at the predictions of our model on the\n",
    "validation data. When applying `model` to `X_valid`, we can see that the\n",
    "result for each observation is a set of two numbers. The first one is\n",
    "associated to `Class=0`, and the second one to `Class=1`. These values\n",
    "are not probabilities as they are not numbers between 0 and 1: they are\n",
    "called _logits_.\n"
   ]
  },
  {
   "cell_type": "code",
   "execution_count": 10,
   "id": "cell-13",
   "metadata": {},
   "outputs": [
    {
     "data": {
      "text/plain": [
       "tensor([[ 5.2758, -4.3871],\n",
       "        [ 4.0309, -3.6199],\n",
       "        [12.1061, -9.2236],\n",
       "        ...,\n",
       "        [ 5.9372, -5.2991],\n",
       "        [ 4.5024, -4.0959],\n",
       "        [10.4529, -8.6524]], grad_fn=<SqueezeBackward0>)"
      ]
     },
     "execution_count": 10,
     "metadata": {},
     "output_type": "execute_result"
    }
   ],
   "source": [
    "logits = model(X_valid)\n",
    "logits"
   ]
  },
  {
   "cell_type": "markdown",
   "id": "72548e45-e0a1-406b-bef5-8ab73fd948ce",
   "metadata": {},
   "source": [
    "Logits can be converted into probabilites by applying a _softmax_\n",
    "function to them. But we can also determine the class of each validation\n",
    "data point by applying `torch.argmax` along the second dimension of our\n",
    "logits: this will return `0` if the logit associated to `Class=0` is\n",
    "higher, and `1` otherwise.\n"
   ]
  },
  {
   "cell_type": "code",
   "execution_count": 11,
   "id": "cell-15",
   "metadata": {},
   "outputs": [
    {
     "data": {
      "text/plain": [
       "tensor([0, 0, 0,  ..., 0, 0, 0])"
      ]
     },
     "execution_count": 11,
     "metadata": {},
     "output_type": "execute_result"
    }
   ],
   "source": [
    "classes = torch.argmax(logits, dim=1)\n",
    "classes\n"
   ]
  },
  {
   "cell_type": "markdown",
   "id": "70584e95-4bbc-4503-8066-6daab9438cc5",
   "metadata": {},
   "source": [
    "So now we can finally look at the number of fraudulent transactions\n",
    "predicted by our model on our validation dataset.\n"
   ]
  },
  {
   "cell_type": "code",
   "execution_count": 12,
   "id": "cell-17",
   "metadata": {},
   "outputs": [
    {
     "data": {
      "text/plain": [
       "tensor(0)"
      ]
     },
     "execution_count": 12,
     "metadata": {},
     "output_type": "execute_result"
    }
   ],
   "source": [
    "torch.sum(classes == 1)\n"
   ]
  },
  {
   "cell_type": "markdown",
   "id": "6d465eb4-4a62-4e9a-a6ed-73aeed73ea69",
   "metadata": {},
   "source": [
    "And this value is 0… So our network is learning, as the cross entropy\n",
    "loss between our logits and the target values is going down, but for the\n",
    "moment its results are useless.\n",
    "\n",
    "So if the loss value is useful to assess the progress of our training\n",
    "process, it is not necessarily a good indicator of the quality of its\n",
    "results. To evaluate this we need to use other metrics, which will\n",
    "depend on the problem we want to solve.\n",
    "\n",
    "**Exercise**\n",
    "\n",
    "One very simple metric we just computed is the number of fraudulent\n",
    "transactions identified by the model on the validation dataset. It could\n",
    "be useful to add this metric to our training process output.\n",
    "\n",
    "Modify the `train_step` function above to create a new\n",
    "`train_step_nfraud` method which computes and displays, for each epoch,\n",
    "the train loss, the validation loss, and the number of predicted\n",
    "fraudulent transactions in the validation dataset.\n",
    "\n",
    "Run this new training process for 10 epochs on a new\n",
    "`FraudDetectionNetwork` model.\n",
    "\n",
    "We can see that at the start of our training process the model predicts\n",
    "some fraudulent transactions, but this number goes down to 0 rapidly.\n",
    "\n",
    "There are many other metrics we can use to assess the results of a\n",
    "classification problem, and several Python packages provide methods to\n",
    "compute them more easily. For example, we could use the\n",
    "`precision_score` and `recall_score` methods of the `scikit-learn`\n",
    "package to compute precision and recall at each epoch.\n"
   ]
  },
  {
   "cell_type": "code",
   "execution_count": 13,
   "id": "cell-23",
   "metadata": {},
   "outputs": [
    {
     "name": "stdout",
     "output_type": "stream",
     "text": [
      "Epoch:   1, loss: 2.695, valid_loss: 2.271, n_fraud: 56962, precision: 0.002, recall: 1.000\n",
      "Epoch:   2, loss: 2.254, valid_loss: 1.896, n_fraud: 56962, precision: 0.002, recall: 1.000\n",
      "Epoch:   3, loss: 1.882, valid_loss: 1.570, n_fraud: 56888, precision: 0.002, recall: 1.000\n",
      "Epoch:   4, loss: 1.559, valid_loss: 1.262, n_fraud: 56370, precision: 0.002, recall: 1.000\n",
      "Epoch:   5, loss: 1.255, valid_loss: 0.943, n_fraud: 54516, precision: 0.002, recall: 0.949\n",
      "Epoch:   6, loss: 0.940, valid_loss: 0.681, n_fraud: 33772, precision: 0.001, recall: 0.378\n",
      "Epoch:   7, loss: 0.681, valid_loss: 0.564, n_fraud: 6206, precision: 0.000, recall: 0.020\n",
      "Epoch:   8, loss: 0.563, valid_loss: 0.492, n_fraud:   1, precision: 0.000, recall: 0.000\n",
      "Epoch:   9, loss: 0.492, valid_loss: 0.440, n_fraud:   0, precision: 0.000, recall: 0.000\n",
      "Epoch:  10, loss: 0.440, valid_loss: 0.396, n_fraud:   0, precision: 0.000, recall: 0.000\n"
     ]
    }
   ],
   "source": [
    "from sklearn.metrics import precision_score, recall_score\n",
    "\n",
    "\n",
    "def train_step_metrics(epoch, model, loss_fn, optimizer):\n",
    "    # Run training step\n",
    "    optimizer.zero_grad()\n",
    "    y_pred = model(X_train)\n",
    "    loss = loss_fn(y_pred, y_train)\n",
    "    loss.backward()\n",
    "    optimizer.step()\n",
    "\n",
    "    # Run validation step\n",
    "    y_valid_pred = model(X_valid)\n",
    "    valid_loss = loss_fn(y_valid_pred, y_valid)\n",
    "\n",
    "    # Compute metrics\n",
    "    pred_classes = torch.argmax(y_valid_pred.detach(), dim=1)\n",
    "    n_fraud = torch.sum(pred_classes == 1)\n",
    "    precision = precision_score(y_valid, pred_classes) if n_fraud > 0 else 0\n",
    "    recall = recall_score(y_valid, pred_classes) if n_fraud > 0 else 0\n",
    "    print(\n",
    "        f\"Epoch: {epoch + 1:3}, loss: {loss:5.3f}, valid_loss: {valid_loss:5.3f}, n_fraud: {n_fraud:3}, \"\n",
    "        f\"precision: {precision:5.3f}, recall: {recall:5.3f}\"\n",
    "    )\n",
    "\n",
    "\n",
    "model = FraudDetectionNetwork()\n",
    "optimizer = torch.optim.AdamW(model.parameters(), lr=0.01)\n",
    "\n",
    "torch.manual_seed(42)\n",
    "epochs = 10\n",
    "for epoch in range(epochs):\n",
    "    train_step_metrics(epoch, model, loss_fn, optimizer)"
   ]
  },
  {
   "cell_type": "markdown",
   "id": "0c705443-4dc2-4c86-8262-88053f8719d5",
   "metadata": {},
   "source": [
    "So, the metrics are not good, but the loss is still going down. Maybe we\n",
    "can look at what happens if we run the training process for longer?\n"
   ]
  },
  {
   "cell_type": "code",
   "execution_count": 14,
   "id": "cell-25",
   "metadata": {},
   "outputs": [
    {
     "name": "stdout",
     "output_type": "stream",
     "text": [
      "Epoch:   1, loss: 0.837, valid_loss: 0.421, n_fraud: 329, precision: 0.088, recall: 0.296\n",
      "Epoch:   2, loss: 0.420, valid_loss: 0.344, n_fraud:  85, precision: 0.153, recall: 0.133\n",
      "Epoch:   3, loss: 0.344, valid_loss: 0.302, n_fraud:  20, precision: 0.300, recall: 0.061\n",
      "Epoch:   4, loss: 0.302, valid_loss: 0.273, n_fraud:   3, precision: 0.000, recall: 0.000\n",
      "Epoch:   5, loss: 0.274, valid_loss: 0.250, n_fraud:   0, precision: 0.000, recall: 0.000\n",
      "Epoch:   6, loss: 0.251, valid_loss: 0.231, n_fraud:   0, precision: 0.000, recall: 0.000\n",
      "Epoch:   7, loss: 0.232, valid_loss: 0.214, n_fraud:   0, precision: 0.000, recall: 0.000\n",
      "Epoch:   8, loss: 0.216, valid_loss: 0.199, n_fraud:   0, precision: 0.000, recall: 0.000\n",
      "Epoch:   9, loss: 0.201, valid_loss: 0.186, n_fraud:   0, precision: 0.000, recall: 0.000\n",
      "Epoch:  10, loss: 0.187, valid_loss: 0.173, n_fraud:   0, precision: 0.000, recall: 0.000\n",
      "Epoch:  11, loss: 0.175, valid_loss: 0.160, n_fraud:   0, precision: 0.000, recall: 0.000\n",
      "Epoch:  12, loss: 0.162, valid_loss: 0.148, n_fraud:   0, precision: 0.000, recall: 0.000\n",
      "Epoch:  13, loss: 0.151, valid_loss: 0.137, n_fraud:   0, precision: 0.000, recall: 0.000\n",
      "Epoch:  14, loss: 0.139, valid_loss: 0.125, n_fraud:   0, precision: 0.000, recall: 0.000\n",
      "Epoch:  15, loss: 0.128, valid_loss: 0.114, n_fraud:   0, precision: 0.000, recall: 0.000\n",
      "Epoch:  16, loss: 0.117, valid_loss: 0.104, n_fraud:   0, precision: 0.000, recall: 0.000\n",
      "Epoch:  17, loss: 0.107, valid_loss: 0.094, n_fraud:   0, precision: 0.000, recall: 0.000\n",
      "Epoch:  18, loss: 0.097, valid_loss: 0.085, n_fraud:   0, precision: 0.000, recall: 0.000\n",
      "Epoch:  19, loss: 0.089, valid_loss: 0.077, n_fraud:   0, precision: 0.000, recall: 0.000\n",
      "Epoch:  20, loss: 0.082, valid_loss: 0.072, n_fraud:   0, precision: 0.000, recall: 0.000\n",
      "Epoch:  21, loss: 0.077, valid_loss: 0.067, n_fraud:   0, precision: 0.000, recall: 0.000\n",
      "Epoch:  22, loss: 0.073, valid_loss: 0.063, n_fraud:   0, precision: 0.000, recall: 0.000\n",
      "Epoch:  23, loss: 0.070, valid_loss: 0.060, n_fraud:   0, precision: 0.000, recall: 0.000\n",
      "Epoch:  24, loss: 0.067, valid_loss: 0.057, n_fraud:   0, precision: 0.000, recall: 0.000\n",
      "Epoch:  25, loss: 0.064, valid_loss: 0.054, n_fraud:   0, precision: 0.000, recall: 0.000\n",
      "Epoch:  26, loss: 0.061, valid_loss: 0.050, n_fraud:   0, precision: 0.000, recall: 0.000\n",
      "Epoch:  27, loss: 0.058, valid_loss: 0.047, n_fraud:   0, precision: 0.000, recall: 0.000\n",
      "Epoch:  28, loss: 0.054, valid_loss: 0.044, n_fraud:   0, precision: 0.000, recall: 0.000\n",
      "Epoch:  29, loss: 0.051, valid_loss: 0.042, n_fraud:   0, precision: 0.000, recall: 0.000\n",
      "Epoch:  30, loss: 0.049, valid_loss: 0.040, n_fraud:   0, precision: 0.000, recall: 0.000\n",
      "Epoch:  31, loss: 0.047, valid_loss: 0.038, n_fraud:   0, precision: 0.000, recall: 0.000\n",
      "Epoch:  32, loss: 0.045, valid_loss: 0.037, n_fraud:   0, precision: 0.000, recall: 0.000\n",
      "Epoch:  33, loss: 0.043, valid_loss: 0.036, n_fraud:   0, precision: 0.000, recall: 0.000\n",
      "Epoch:  34, loss: 0.042, valid_loss: 0.035, n_fraud:   0, precision: 0.000, recall: 0.000\n",
      "Epoch:  35, loss: 0.041, valid_loss: 0.034, n_fraud:   0, precision: 0.000, recall: 0.000\n",
      "Epoch:  36, loss: 0.040, valid_loss: 0.033, n_fraud:   0, precision: 0.000, recall: 0.000\n",
      "Epoch:  37, loss: 0.039, valid_loss: 0.032, n_fraud:   0, precision: 0.000, recall: 0.000\n",
      "Epoch:  38, loss: 0.038, valid_loss: 0.031, n_fraud:   0, precision: 0.000, recall: 0.000\n",
      "Epoch:  39, loss: 0.037, valid_loss: 0.030, n_fraud:   0, precision: 0.000, recall: 0.000\n",
      "Epoch:  40, loss: 0.036, valid_loss: 0.029, n_fraud:   0, precision: 0.000, recall: 0.000\n",
      "Epoch:  41, loss: 0.034, valid_loss: 0.028, n_fraud:   0, precision: 0.000, recall: 0.000\n",
      "Epoch:  42, loss: 0.033, valid_loss: 0.027, n_fraud:   0, precision: 0.000, recall: 0.000\n",
      "Epoch:  43, loss: 0.032, valid_loss: 0.026, n_fraud:   0, precision: 0.000, recall: 0.000\n",
      "Epoch:  44, loss: 0.031, valid_loss: 0.025, n_fraud:   0, precision: 0.000, recall: 0.000\n",
      "Epoch:  45, loss: 0.031, valid_loss: 0.024, n_fraud:   0, precision: 0.000, recall: 0.000\n",
      "Epoch:  46, loss: 0.030, valid_loss: 0.024, n_fraud:   0, precision: 0.000, recall: 0.000\n",
      "Epoch:  47, loss: 0.030, valid_loss: 0.023, n_fraud:   9, precision: 1.000, recall: 0.092\n",
      "Epoch:  48, loss: 0.029, valid_loss: 0.023, n_fraud:  14, precision: 0.786, recall: 0.112\n",
      "Epoch:  49, loss: 0.029, valid_loss: 0.022, n_fraud:  24, precision: 0.667, recall: 0.163\n",
      "Epoch:  50, loss: 0.028, valid_loss: 0.022, n_fraud:  36, precision: 0.778, recall: 0.286\n",
      "Epoch:  51, loss: 0.027, valid_loss: 0.021, n_fraud:  43, precision: 0.791, recall: 0.347\n",
      "Epoch:  52, loss: 0.027, valid_loss: 0.021, n_fraud:  53, precision: 0.755, recall: 0.408\n",
      "Epoch:  53, loss: 0.026, valid_loss: 0.021, n_fraud:  61, precision: 0.754, recall: 0.469\n",
      "Epoch:  54, loss: 0.026, valid_loss: 0.020, n_fraud:  71, precision: 0.761, recall: 0.551\n",
      "Epoch:  55, loss: 0.025, valid_loss: 0.020, n_fraud:  75, precision: 0.773, recall: 0.592\n",
      "Epoch:  56, loss: 0.025, valid_loss: 0.020, n_fraud:  79, precision: 0.772, recall: 0.622\n",
      "Epoch:  57, loss: 0.025, valid_loss: 0.019, n_fraud:  79, precision: 0.772, recall: 0.622\n",
      "Epoch:  58, loss: 0.024, valid_loss: 0.019, n_fraud:  80, precision: 0.762, recall: 0.622\n",
      "Epoch:  59, loss: 0.024, valid_loss: 0.018, n_fraud:  81, precision: 0.765, recall: 0.633\n",
      "Epoch:  60, loss: 0.023, valid_loss: 0.018, n_fraud:  83, precision: 0.759, recall: 0.643\n",
      "Epoch:  61, loss: 0.023, valid_loss: 0.018, n_fraud:  84, precision: 0.750, recall: 0.643\n",
      "Epoch:  62, loss: 0.023, valid_loss: 0.017, n_fraud:  85, precision: 0.753, recall: 0.653\n",
      "Epoch:  63, loss: 0.022, valid_loss: 0.017, n_fraud:  85, precision: 0.753, recall: 0.653\n",
      "Epoch:  64, loss: 0.022, valid_loss: 0.017, n_fraud:  86, precision: 0.756, recall: 0.663\n",
      "Epoch:  65, loss: 0.021, valid_loss: 0.016, n_fraud:  86, precision: 0.756, recall: 0.663\n",
      "Epoch:  66, loss: 0.021, valid_loss: 0.015, n_fraud:  86, precision: 0.756, recall: 0.663\n",
      "Epoch:  67, loss: 0.020, valid_loss: 0.015, n_fraud:  86, precision: 0.756, recall: 0.663\n",
      "Epoch:  68, loss: 0.019, valid_loss: 0.014, n_fraud:  88, precision: 0.761, recall: 0.684\n",
      "Epoch:  69, loss: 0.018, valid_loss: 0.013, n_fraud:  89, precision: 0.764, recall: 0.694\n",
      "Epoch:  70, loss: 0.017, valid_loss: 0.013, n_fraud:  90, precision: 0.767, recall: 0.704\n",
      "Epoch:  71, loss: 0.016, valid_loss: 0.012, n_fraud:  90, precision: 0.767, recall: 0.704\n",
      "Epoch:  72, loss: 0.014, valid_loss: 0.011, n_fraud:  90, precision: 0.767, recall: 0.704\n",
      "Epoch:  73, loss: 0.013, valid_loss: 0.010, n_fraud:  91, precision: 0.769, recall: 0.714\n",
      "Epoch:  74, loss: 0.012, valid_loss: 0.009, n_fraud:  93, precision: 0.763, recall: 0.724\n",
      "Epoch:  75, loss: 0.010, valid_loss: 0.009, n_fraud:  94, precision: 0.766, recall: 0.735\n",
      "Epoch:  76, loss: 0.009, valid_loss: 0.009, n_fraud:  96, precision: 0.771, recall: 0.755\n",
      "Epoch:  77, loss: 0.008, valid_loss: 0.008, n_fraud:  97, precision: 0.773, recall: 0.765\n",
      "Epoch:  78, loss: 0.008, valid_loss: 0.008, n_fraud:  97, precision: 0.773, recall: 0.765\n",
      "Epoch:  79, loss: 0.007, valid_loss: 0.008, n_fraud:  97, precision: 0.773, recall: 0.765\n",
      "Epoch:  80, loss: 0.007, valid_loss: 0.007, n_fraud:  99, precision: 0.778, recall: 0.786\n",
      "Epoch:  81, loss: 0.006, valid_loss: 0.007, n_fraud: 100, precision: 0.770, recall: 0.786\n",
      "Epoch:  82, loss: 0.006, valid_loss: 0.006, n_fraud:  98, precision: 0.786, recall: 0.786\n",
      "Epoch:  83, loss: 0.005, valid_loss: 0.006, n_fraud:  97, precision: 0.794, recall: 0.786\n",
      "Epoch:  84, loss: 0.006, valid_loss: 0.005, n_fraud:  97, precision: 0.794, recall: 0.786\n",
      "Epoch:  85, loss: 0.005, valid_loss: 0.005, n_fraud:  99, precision: 0.788, recall: 0.796\n"
     ]
    }
   ],
   "source": [
    "model = FraudDetectionNetwork()\n",
    "optimizer = torch.optim.AdamW(model.parameters(), lr=0.01)\n",
    "\n",
    "torch.manual_seed(42)\n",
    "epochs = 85\n",
    "for epoch in range(epochs):\n",
    "    train_step_metrics(epoch, model, loss_fn, optimizer)\n"
   ]
  },
  {
   "cell_type": "markdown",
   "id": "c364baa2-4e0d-44b6-9dbc-bb654eca2e17",
   "metadata": {},
   "source": [
    "Now we can see that after about 50 epochs, our model starts to predict\n",
    "fraudulent transactions again, with growing values of precision and\n",
    "recall. At epoch 85 we get a precision of 0.79 and a recall of 0.80.\n",
    "\n",
    "## Computing metrics after training\n",
    "\n",
    "Metrics are useful during training, but they are also very important\n",
    "post-training, to more accurately assess the results.\n",
    "\n",
    "For example, we can compute the _confusion matrix_ of our trained model\n",
    "on our validation dataset by using scikit-learn’s `confusion_matrix`\n",
    "method.\n"
   ]
  },
  {
   "cell_type": "code",
   "execution_count": 15,
   "id": "cell-28",
   "metadata": {},
   "outputs": [
    {
     "data": {
      "text/plain": [
       "array([[56843,    21],\n",
       "       [   20,    78]])"
      ]
     },
     "execution_count": 15,
     "metadata": {},
     "output_type": "execute_result"
    }
   ],
   "source": [
    "from sklearn.metrics import confusion_matrix\n",
    "\n",
    "preds = model(X_valid)\n",
    "preds = torch.argmax(preds, dim=1)\n",
    "\n",
    "\n",
    "cm = confusion_matrix(y_valid, preds)\n",
    "cm\n"
   ]
  },
  {
   "cell_type": "markdown",
   "id": "5f1b00e0-32bc-41c9-987c-6817b747eee4",
   "metadata": {},
   "source": [
    "Better yet, we can use `ConfusionMatrixDisplay` to generate a much more\n",
    "readable plot of the confusion matrix.\n"
   ]
  },
  {
   "cell_type": "code",
   "execution_count": 16,
   "id": "cell-30",
   "metadata": {},
   "outputs": [
    {
     "data": {
      "text/plain": [
       "<sklearn.metrics._plot.confusion_matrix.ConfusionMatrixDisplay at 0x75438f263aa0>"
      ]
     },
     "execution_count": 16,
     "metadata": {},
     "output_type": "execute_result"
    },
    {
     "data": {
      "image/png": "[encoded data removed]",
      "text/plain": [
       "<Figure size 640x480 with 2 Axes>"
      ]
     },
     "metadata": {},
     "output_type": "display_data"
    }
   ],
   "source": [
    "from sklearn.metrics import ConfusionMatrixDisplay\n",
    "\n",
    "ConfusionMatrixDisplay(cm).plot()"
   ]
  },
  {
   "cell_type": "markdown",
   "id": "e6f7a5eb-cc04-489b-ac9c-745738a65c09",
   "metadata": {},
   "source": [
    "## Computing metrics when using mini-batches\n",
    "\n",
    "### Mini-batches training process\n",
    "\n",
    "Suppose that we are now using mini-batches during our training process,\n",
    "as seen in the previous notebook: instead of feeding all training or\n",
    "validation data at once during each training step, we’ll use smaller\n",
    "subsets of data.\n",
    "\n",
    "To do this, we first create a `FraudDataset` class and corresponding\n",
    "`DataLoader` instances for training and validation data, with a batch\n",
    "size of 256.\n"
   ]
  },
  {
   "cell_type": "code",
   "execution_count": 17,
   "id": "cell-32",
   "metadata": {},
   "outputs": [],
   "source": [
    "class FraudDataset(torch.utils.data.Dataset):\n",
    "    def __init__(self, x, y):\n",
    "        self.y = y\n",
    "        self.x = x\n",
    "\n",
    "    def __len__(self):\n",
    "        return len(self.y)\n",
    "\n",
    "    def __getitem__(self, index):\n",
    "        return (self.x[index], self.y[index])\n",
    "\n",
    "\n",
    "train_dataset = FraudDataset(x=X_train, y=y_train)\n",
    "valid_dataset = FraudDataset(x=X_valid, y=y_valid)\n",
    "\n",
    "batch_size = 256\n",
    "train_loader = torch.utils.data.DataLoader(\n",
    "    train_dataset, batch_size=batch_size, shuffle=True\n",
    ")\n",
    "valid_loader = torch.utils.data.DataLoader(\n",
    "    valid_dataset, batch_size=batch_size, shuffle=False\n",
    ")\n"
   ]
  },
  {
   "cell_type": "markdown",
   "id": "57913349-a138-4c16-8485-4ebdbb045a56",
   "metadata": {},
   "source": [
    "We then define two functions:\n",
    "\n",
    "-   `train_step` will run a training epoch, _ie_ apply a training step\n",
    "    to each mini-batches in the training data loader\n",
    "-   `eval_step` will run a validation epoch, _ie_ apply an evaluation\n",
    "    step to each mini-batches in the validation data loader\n"
   ]
  },
  {
   "cell_type": "code",
   "execution_count": 18,
   "id": "cell-34",
   "metadata": {},
   "outputs": [],
   "source": [
    "def train_step(model, loss_fn, optimizer):\n",
    "    # Switch model into train mode\n",
    "    model.train()\n",
    "    loss = 0\n",
    "    for input, target in train_loader:\n",
    "        # Apply training step to batch\n",
    "        optimizer.zero_grad()\n",
    "        pred = model(input)\n",
    "        batch_loss = loss_fn(pred, target)\n",
    "        loss += batch_loss\n",
    "        batch_loss.backward()\n",
    "        optimizer.step()\n",
    "    # Compute and return the mean loss for this epoch\n",
    "    loss /= len(train_loader)\n",
    "    return loss\n",
    "\n",
    "\n",
    "def eval_step(model, loss_fn):\n",
    "    # Switch model into eval mode\n",
    "    model.eval()\n",
    "    loss = 0\n",
    "    for input, target in valid_loader:\n",
    "        # Apply evaluation step to batch\n",
    "        pred = model(input)\n",
    "        batch_loss = loss_fn(pred, target)\n",
    "        loss += batch_loss\n",
    "    # Compute and return the mean loss for this epoch\n",
    "    loss /= len(valid_loader)\n",
    "    return loss\n"
   ]
  },
  {
   "cell_type": "markdown",
   "id": "a64c6db5-3936-419b-94af-c2f4c61909bf",
   "metadata": {},
   "source": [
    "We can now run our training process on a few epochs.\n"
   ]
  },
  {
   "cell_type": "code",
   "execution_count": 19,
   "id": "cell-36",
   "metadata": {},
   "outputs": [
    {
     "name": "stdout",
     "output_type": "stream",
     "text": [
      "Epoch:   1, loss: 0.020, valid_loss: 0.004\n",
      "Epoch:   2, loss: 0.005, valid_loss: 0.004\n",
      "Epoch:   3, loss: 0.004, valid_loss: 0.004\n",
      "Epoch:   4, loss: 0.004, valid_loss: 0.004\n",
      "Epoch:   5, loss: 0.004, valid_loss: 0.004\n"
     ]
    }
   ],
   "source": [
    "model = FraudDetectionNetwork()\n",
    "optimizer = torch.optim.AdamW(model.parameters(), lr=0.01)\n",
    "loss_fn = nn.CrossEntropyLoss()\n",
    "\n",
    "epochs = 5\n",
    "torch.manual_seed(42)\n",
    "for epoch in range(epochs):\n",
    "    loss = train_step(model, loss_fn, optimizer)\n",
    "    valid_loss = eval_step(model, loss_fn)\n",
    "    print(f\"Epoch: {epoch + 1:3}, loss: {loss:5.3f}, valid_loss: {valid_loss:5.3f}\")\n"
   ]
  },
  {
   "cell_type": "markdown",
   "id": "fe535024-6d44-4584-8d0b-1821d4beef19",
   "metadata": {},
   "source": [
    "### Computing a single metric\n",
    "\n",
    "To add metric computation during this training process with\n",
    "mini-batches, we can calculate the metric value for each batch. However,\n",
    "obtaining the overall epoch metric value for the entire validation data\n",
    "from these mini-batch values can be challenging. Libraries like\n",
    "`scikit-learn` do not provide methods out of the box to do this, and\n",
    "manual implementation can be complicated and prone to errors.\n",
    "\n",
    "A way to do it is to use the `torchmetrics` python package. This package\n",
    "provides a great number of metrics which can be used directly on a whole\n",
    "dataset, but can also be applied to mini-batches the following way:\n",
    "\n",
    "1.  first, we instantiate a metric object from one of `torchmetrics`\n",
    "    methods. For example, we can use the `BinaryF1Score` class to create\n",
    "    a `f1_metric` object with `f1_metric = BinaryF1Score()`\n",
    "2.  at the start of each epoch, we reset the metric with\n",
    "    `f1_metric.reset()`\n",
    "3.  for each mini-batch, we update the metric using the mini-batch\n",
    "    predictions and targets with the `update()` method\n",
    "4.  finally, at the end of the epoch, we can compute the overall epoch\n",
    "    metric value using `f1_metric.compute()`\n",
    "\n",
    "Here is how we can include an F1 metric computation in our evaluation\n",
    "step by creating a new `eval_step_f1` function.\n"
   ]
  },
  {
   "cell_type": "code",
   "execution_count": 20,
   "id": "cell-38",
   "metadata": {},
   "outputs": [],
   "source": [
    "from torchmetrics.classification import BinaryF1Score\n",
    "\n",
    "# Instantiate F1 score metric object\n",
    "f1_metric = BinaryF1Score()\n",
    "\n",
    "\n",
    "def eval_step_f1(model, loss_fn):\n",
    "    # Switch model into eval mode\n",
    "    model.eval()\n",
    "    # Reset F1 score\n",
    "    f1_metric.reset()\n",
    "    loss = 0\n",
    "\n",
    "    for input, target in valid_loader:\n",
    "        # Apply evaluation step to batch\n",
    "        pred = model(input)\n",
    "        batch_loss = loss_fn(pred, target)\n",
    "        loss += batch_loss\n",
    "        # Update metric\n",
    "        classes_pred = torch.argmax(pred, dim=1)\n",
    "        f1_metric.update(classes_pred, target)\n",
    "\n",
    "    # Compute overall loss and metric\n",
    "    loss /= len(valid_loader)\n",
    "    f1_score = f1_metric.compute()\n",
    "\n",
    "    return loss, f1_score\n"
   ]
  },
  {
   "cell_type": "code",
   "execution_count": 21,
   "id": "cell-39",
   "metadata": {},
   "outputs": [
    {
     "name": "stdout",
     "output_type": "stream",
     "text": [
      "Epoch:   1, loss: 0.019, valid_loss: 0.004, f1: 0.772\n",
      "Epoch:   2, loss: 0.005, valid_loss: 0.005, f1: 0.671\n",
      "Epoch:   3, loss: 0.004, valid_loss: 0.003, f1: 0.819\n",
      "Epoch:   4, loss: 0.004, valid_loss: 0.004, f1: 0.802\n",
      "Epoch:   5, loss: 0.005, valid_loss: 0.004, f1: 0.000\n"
     ]
    }
   ],
   "source": [
    "model = FraudDetectionNetwork()\n",
    "optimizer = torch.optim.AdamW(model.parameters(), lr=0.01)\n",
    "loss_fn = nn.CrossEntropyLoss()\n",
    "\n",
    "\n",
    "epochs = 5\n",
    "torch.manual_seed(42)\n",
    "\n",
    "for epoch in range(epochs):\n",
    "    loss = train_step(model, loss_fn, optimizer)\n",
    "    valid_loss, valid_f1 = eval_step_f1(model, loss_fn)\n",
    "    print(\n",
    "        f\"Epoch: {epoch + 1:3}, loss: {loss:5.3f}, valid_loss: {valid_loss:5.3f}, f1: {valid_f1:5.3f}\"\n",
    "    )\n"
   ]
  },
  {
   "cell_type": "markdown",
   "id": "9db0bc71-0541-4543-9611-a61b9f123683",
   "metadata": {},
   "source": [
    "Creating a separate evaluation step function is interesting because it\n",
    "makes it easy to apply a trained model to a dataset using mini-batches.\n"
   ]
  },
  {
   "cell_type": "code",
   "execution_count": 22,
   "id": "cell-41",
   "metadata": {},
   "outputs": [
    {
     "data": {
      "text/plain": [
       "(tensor(0.0044, grad_fn=<DivBackward0>), tensor(0.))"
      ]
     },
     "execution_count": 22,
     "metadata": {},
     "output_type": "execute_result"
    }
   ],
   "source": [
    "eval_step_f1(model, loss_fn)"
   ]
  },
  {
   "cell_type": "markdown",
   "id": "88c33100-2f0d-45aa-babb-f496a412700c",
   "metadata": {},
   "source": [
    "### Computing a list of metrics\n",
    "\n",
    "In general we want to compute not just one but multiple metrics. For\n",
    "instance, we might want to compute the F1-score, precision and recall\n",
    "values for our classification problem.\n",
    "\n",
    "`torchmetrics` provides a `MetricCollection` class which allows to do\n",
    "that quite easily. By passing a list of metrics to `MetricCollection`,\n",
    "we can create a collection object which will have the same `reset()`,\n",
    "`update()` and `compute()` methods as single metrics. When used, these\n",
    "methods will be called for all the metrics in the list.\n",
    "\n",
    "**Exercise**\n",
    "\n",
    "Create the following metrics collection object:\n",
    "\n",
    "```py\n",
    "from torchmetrics.classification import BinaryF1Score, BinaryPrecision, BinaryRecall\n",
    "from torchmetrics import MetricCollection\n",
    "\n",
    "metrics_list = MetricCollection(\n",
    "    [\n",
    "        BinaryPrecision(),\n",
    "        BinaryRecall(),\n",
    "        BinaryF1Score(),\n",
    "    ]\n",
    ")\n",
    "```\n",
    "\n",
    "Create a new `eval_step_metrics` function that add these metrics\n",
    "computation to the evaluation step of our training process and display\n",
    "their values at the end of each epoch. Run this training process for 10\n",
    "epochs.\n"
   ]
  }
 ],
 "metadata": {
  "kernelspec": {
   "display_name": ".venv",
   "language": "python",
   "name": "python3"
  },
  "language_info": {
   "codemirror_mode": {
    "name": "ipython",
    "version": 3
   },
   "file_extension": ".py",
   "mimetype": "text/x-python",
   "name": "python",
   "nbconvert_exporter": "python",
   "pygments_lexer": "ipython3",
   "version": "3.12.9"
  }
 },
 "nbformat": 4,
 "nbformat_minor": 5
}
